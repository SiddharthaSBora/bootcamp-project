{
 "cells": [
  {
   "cell_type": "markdown",
   "metadata": {},
   "source": [
    "# Root Insurance Erdos Data Camp Project"
   ]
  },
  {
   "cell_type": "markdown",
   "metadata": {},
   "source": [
    "## Import packages "
   ]
  },
  {
   "cell_type": "code",
   "execution_count": 28,
   "metadata": {},
   "outputs": [],
   "source": [
    "# Import the package and data\n",
    "import pandas as pd\n",
    "import numpy as np \n",
    "\n",
    "## For plotting\n",
    "import matplotlib.pyplot as plt\n",
    "import seaborn as sns\n",
    "\n",
    "## This sets the plot style\n",
    "## to have a grid on a white background\n",
    "sns.set_style(\"whitegrid\")"
   ]
  },
  {
   "cell_type": "markdown",
   "metadata": {},
   "source": [
    "## 1. Summary statistics"
   ]
  },
  {
   "cell_type": "code",
   "execution_count": 29,
   "metadata": {},
   "outputs": [
    {
     "data": {
      "text/html": [
       "<div>\n",
       "<style scoped>\n",
       "    .dataframe tbody tr th:only-of-type {\n",
       "        vertical-align: middle;\n",
       "    }\n",
       "\n",
       "    .dataframe tbody tr th {\n",
       "        vertical-align: top;\n",
       "    }\n",
       "\n",
       "    .dataframe thead th {\n",
       "        text-align: right;\n",
       "    }\n",
       "</style>\n",
       "<table border=\"1\" class=\"dataframe\">\n",
       "  <thead>\n",
       "    <tr style=\"text-align: right;\">\n",
       "      <th></th>\n",
       "      <th>Currently Insured</th>\n",
       "      <th>Number of Vehicles</th>\n",
       "      <th>Number of Drivers</th>\n",
       "      <th>Marital Status</th>\n",
       "      <th>bid</th>\n",
       "      <th>rank</th>\n",
       "      <th>click</th>\n",
       "      <th>policies_sold</th>\n",
       "    </tr>\n",
       "  </thead>\n",
       "  <tbody>\n",
       "    <tr>\n",
       "      <th>0</th>\n",
       "      <td>unknown</td>\n",
       "      <td>2</td>\n",
       "      <td>1</td>\n",
       "      <td>M</td>\n",
       "      <td>10.0</td>\n",
       "      <td>2</td>\n",
       "      <td>False</td>\n",
       "      <td>0</td>\n",
       "    </tr>\n",
       "    <tr>\n",
       "      <th>1</th>\n",
       "      <td>Y</td>\n",
       "      <td>3</td>\n",
       "      <td>1</td>\n",
       "      <td>M</td>\n",
       "      <td>10.0</td>\n",
       "      <td>5</td>\n",
       "      <td>False</td>\n",
       "      <td>0</td>\n",
       "    </tr>\n",
       "    <tr>\n",
       "      <th>2</th>\n",
       "      <td>Y</td>\n",
       "      <td>3</td>\n",
       "      <td>2</td>\n",
       "      <td>M</td>\n",
       "      <td>10.0</td>\n",
       "      <td>5</td>\n",
       "      <td>False</td>\n",
       "      <td>0</td>\n",
       "    </tr>\n",
       "    <tr>\n",
       "      <th>3</th>\n",
       "      <td>N</td>\n",
       "      <td>3</td>\n",
       "      <td>2</td>\n",
       "      <td>S</td>\n",
       "      <td>10.0</td>\n",
       "      <td>4</td>\n",
       "      <td>False</td>\n",
       "      <td>0</td>\n",
       "    </tr>\n",
       "    <tr>\n",
       "      <th>4</th>\n",
       "      <td>unknown</td>\n",
       "      <td>2</td>\n",
       "      <td>2</td>\n",
       "      <td>S</td>\n",
       "      <td>10.0</td>\n",
       "      <td>2</td>\n",
       "      <td>False</td>\n",
       "      <td>0</td>\n",
       "    </tr>\n",
       "  </tbody>\n",
       "</table>\n",
       "</div>"
      ],
      "text/plain": [
       "  Currently Insured  Number of Vehicles  Number of Drivers Marital Status  \\\n",
       "0           unknown                   2                  1              M   \n",
       "1                 Y                   3                  1              M   \n",
       "2                 Y                   3                  2              M   \n",
       "3                 N                   3                  2              S   \n",
       "4           unknown                   2                  2              S   \n",
       "\n",
       "    bid  rank  click  policies_sold  \n",
       "0  10.0     2  False              0  \n",
       "1  10.0     5  False              0  \n",
       "2  10.0     5  False              0  \n",
       "3  10.0     4  False              0  \n",
       "4  10.0     2  False              0  "
      ]
     },
     "execution_count": 29,
     "metadata": {},
     "output_type": "execute_result"
    }
   ],
   "source": [
    "## check the data \n",
    "df = pd.read_csv('../0-data/Root_Insurance_data.csv')\n",
    "df.head()"
   ]
  },
  {
   "cell_type": "code",
   "execution_count": 27,
   "metadata": {},
   "outputs": [
    {
     "data": {
      "text/html": [
       "<div>\n",
       "<style scoped>\n",
       "    .dataframe tbody tr th:only-of-type {\n",
       "        vertical-align: middle;\n",
       "    }\n",
       "\n",
       "    .dataframe tbody tr th {\n",
       "        vertical-align: top;\n",
       "    }\n",
       "\n",
       "    .dataframe thead th {\n",
       "        text-align: right;\n",
       "    }\n",
       "</style>\n",
       "<table border=\"1\" class=\"dataframe\">\n",
       "  <thead>\n",
       "    <tr style=\"text-align: right;\">\n",
       "      <th></th>\n",
       "      <th>Number of Vehicles</th>\n",
       "      <th>Number of Drivers</th>\n",
       "      <th>bid</th>\n",
       "      <th>rank</th>\n",
       "      <th>click</th>\n",
       "      <th>policies_sold</th>\n",
       "    </tr>\n",
       "  </thead>\n",
       "  <tbody>\n",
       "    <tr>\n",
       "      <th>Number of Vehicles</th>\n",
       "      <td>1.000000</td>\n",
       "      <td>-0.029474</td>\n",
       "      <td>NaN</td>\n",
       "      <td>0.399393</td>\n",
       "      <td>-0.171822</td>\n",
       "      <td>-0.130380</td>\n",
       "    </tr>\n",
       "    <tr>\n",
       "      <th>Number of Drivers</th>\n",
       "      <td>-0.029474</td>\n",
       "      <td>1.000000</td>\n",
       "      <td>NaN</td>\n",
       "      <td>-0.076289</td>\n",
       "      <td>0.021604</td>\n",
       "      <td>-0.005525</td>\n",
       "    </tr>\n",
       "    <tr>\n",
       "      <th>bid</th>\n",
       "      <td>NaN</td>\n",
       "      <td>NaN</td>\n",
       "      <td>NaN</td>\n",
       "      <td>NaN</td>\n",
       "      <td>NaN</td>\n",
       "      <td>NaN</td>\n",
       "    </tr>\n",
       "    <tr>\n",
       "      <th>rank</th>\n",
       "      <td>0.399393</td>\n",
       "      <td>-0.076289</td>\n",
       "      <td>NaN</td>\n",
       "      <td>1.000000</td>\n",
       "      <td>-0.416046</td>\n",
       "      <td>-0.262496</td>\n",
       "    </tr>\n",
       "    <tr>\n",
       "      <th>click</th>\n",
       "      <td>-0.171822</td>\n",
       "      <td>0.021604</td>\n",
       "      <td>NaN</td>\n",
       "      <td>-0.416046</td>\n",
       "      <td>1.000000</td>\n",
       "      <td>0.606136</td>\n",
       "    </tr>\n",
       "    <tr>\n",
       "      <th>policies_sold</th>\n",
       "      <td>-0.130380</td>\n",
       "      <td>-0.005525</td>\n",
       "      <td>NaN</td>\n",
       "      <td>-0.262496</td>\n",
       "      <td>0.606136</td>\n",
       "      <td>1.000000</td>\n",
       "    </tr>\n",
       "  </tbody>\n",
       "</table>\n",
       "</div>"
      ],
      "text/plain": [
       "                    Number of Vehicles  Number of Drivers  bid      rank  \\\n",
       "Number of Vehicles            1.000000          -0.029474  NaN  0.399393   \n",
       "Number of Drivers            -0.029474           1.000000  NaN -0.076289   \n",
       "bid                                NaN                NaN  NaN       NaN   \n",
       "rank                          0.399393          -0.076289  NaN  1.000000   \n",
       "click                        -0.171822           0.021604  NaN -0.416046   \n",
       "policies_sold                -0.130380          -0.005525  NaN -0.262496   \n",
       "\n",
       "                       click  policies_sold  \n",
       "Number of Vehicles -0.171822      -0.130380  \n",
       "Number of Drivers   0.021604      -0.005525  \n",
       "bid                      NaN            NaN  \n",
       "rank               -0.416046      -0.262496  \n",
       "click               1.000000       0.606136  \n",
       "policies_sold       0.606136       1.000000  "
      ]
     },
     "execution_count": 27,
     "metadata": {},
     "output_type": "execute_result"
    }
   ],
   "source": [
    "## check the correlation\n",
    "df.corr()"
   ]
  },
  {
   "cell_type": "code",
   "execution_count": 19,
   "metadata": {},
   "outputs": [
    {
     "name": "stdout",
     "output_type": "stream",
     "text": [
      "<class 'pandas.core.frame.DataFrame'>\n",
      "RangeIndex: 10000 entries, 0 to 9999\n",
      "Data columns (total 8 columns):\n",
      " #   Column              Non-Null Count  Dtype  \n",
      "---  ------              --------------  -----  \n",
      " 0   Currently Insured   10000 non-null  object \n",
      " 1   Number of Vehicles  10000 non-null  int64  \n",
      " 2   Number of Drivers   10000 non-null  int64  \n",
      " 3   Marital Status      10000 non-null  object \n",
      " 4   bid                 10000 non-null  float64\n",
      " 5   rank                10000 non-null  int64  \n",
      " 6   click               10000 non-null  bool   \n",
      " 7   policies_sold       10000 non-null  int64  \n",
      "dtypes: bool(1), float64(1), int64(4), object(2)\n",
      "memory usage: 556.8+ KB\n"
     ]
    }
   ],
   "source": [
    "df.info()"
   ]
  },
  {
   "cell_type": "code",
   "execution_count": 20,
   "metadata": {},
   "outputs": [
    {
     "data": {
      "text/plain": [
       "Index(['Currently Insured', 'Number of Vehicles', 'Number of Drivers',\n",
       "       'Marital Status', 'bid', 'rank', 'click', 'policies_sold'],\n",
       "      dtype='object')"
      ]
     },
     "execution_count": 20,
     "metadata": {},
     "output_type": "execute_result"
    }
   ],
   "source": [
    "df.columns"
   ]
  },
  {
   "cell_type": "code",
   "execution_count": 6,
   "metadata": {},
   "outputs": [
    {
     "data": {
      "text/plain": [
       "(10000, 8)"
      ]
     },
     "execution_count": 6,
     "metadata": {},
     "output_type": "execute_result"
    }
   ],
   "source": [
    "df.shape"
   ]
  },
  {
   "cell_type": "code",
   "execution_count": 30,
   "metadata": {},
   "outputs": [],
   "source": [
    "## INCOMPLETE: Brian Working from here tomorrow\n",
    "### Note: Create categorical (factor) versions of descriptors\n",
    "varlist = [\"Currently Insured\", \"Number of Vehicles\", \"Number of Drivers\", \"Marital Status\"]\n",
    "for i in varlist:\n",
    "    j     = i + \"_Cat\"\n",
    "    df[j] = pd.Categorical(df[i])\n",
    "    \n",
    "### Note: Create dummies for Different Vars\n",
    "df[\"Married\"]                = pd.get_dummies(df[\"Marital Status\"])[\"M\"]\n",
    "df[[\"Insured\", \"Uninsured\"]] = pd.get_dummies(df[\"Currently Insured\"])[[\"Y\", \"N\"]]\n",
    "df[\"MultDrivers\"]            = pd.get_dummies(df[\"Number of Drivers_Cat\"])[2]\n",
    "df[[\"TwoVehicles\", \"ThreeVehicles\"]] = pd.get_dummies(df[\"Number of Vehicles\"])[[2, 3]]\n",
    "\n",
    "### Note: Create Unique Identifier for groups; count instances\n",
    "temploc  = df.columns.get_loc(\"Married\")\n",
    "temploc2 = len(df.columns)-1\n",
    "df_temp  = df.iloc[:,temploc:temploc2].drop_duplicates().reset_index(drop = True)\n",
    "df_temp  = df_temp.astype(str)\n",
    "\n",
    "df_temp.shape\n",
    "\n",
    "df[\"Group\"] = \"\"\n",
    "for i in range(0,df_temp.shape[0]):\n",
    "    for j in range(0,df.shape[0]):\n",
    "        tempvec  = ''.join(df_temp.iloc[i,].values)\n",
    "        tempvec2 = ''.join(df.iloc[j,temploc:temploc2].astype(str).values)\n",
    "        if tempvec == tempvec2:\n",
    "            df.iloc[j,df.shape[1]-1] = i\n"
   ]
  },
  {
   "cell_type": "code",
   "execution_count": 91,
   "metadata": {},
   "outputs": [
    {
     "data": {
      "text/plain": [
       "<seaborn.axisgrid.FacetGrid at 0x20af5dc2610>"
      ]
     },
     "execution_count": 91,
     "metadata": {},
     "output_type": "execute_result"
    },
    {
     "data": {
      "image/png": "[encoded data removed]",
      "text/plain": [
       "<Figure size 407.25x360 with 1 Axes>"
      ]
     },
     "metadata": {},
     "output_type": "display_data"
    }
   ],
   "source": [
    "groups = df.Group.value_counts()\n",
    "\n",
    "group_propensities = df.groupby([\"Group\", \"rank\"])[\"click\"].mean().unstack()\n",
    "group_propensities.reset_index(inplace=True)\n",
    "group_propensities.columns\n",
    "gp_r = group_propensities.melt(id_vars=[\"Group\"],\n",
    "                               var_name = \"Rank\",\n",
    "                               value_name = \"Click Rate\")\n",
    "\n",
    "index_names = gp_r[pd.isna(gp_r[\"Click Rate\"])].index\n",
    "gp_r.drop(index_names)\n",
    "sns.catplot(x = \"Rank\",\n",
    "            y = \"Click Rate\",\n",
    "            hue = \"Group\",\n",
    "            data = gp_r,\n",
    "            kind = \"point\")"
   ]
  },
  {
   "cell_type": "code",
   "execution_count": 92,
   "metadata": {},
   "outputs": [
    {
     "data": {
      "text/plain": [
       "<seaborn.axisgrid.FacetGrid at 0x20af5d9c8b0>"
      ]
     },
     "execution_count": 92,
     "metadata": {},
     "output_type": "execute_result"
    },
    {
     "data": {
      "image/png": "[encoded data removed]",
      "text/plain": [
       "<Figure size 407.25x360 with 1 Axes>"
      ]
     },
     "metadata": {},
     "output_type": "display_data"
    }
   ],
   "source": [
    "group_propensities = df.groupby([\"Group\", \"rank\"])[\"policies_sold\"].mean().unstack()\n",
    "group_propensities.reset_index(inplace=True)\n",
    "group_propensities.columns\n",
    "gp_r = group_propensities.melt(id_vars=[\"Group\"],\n",
    "                               var_name = \"Rank\",\n",
    "                               value_name = \"Sold\")\n",
    "\n",
    "index_names = gp_r[pd.isna(gp_r[\"Sold\"])].index\n",
    "gp_r.drop(index_names)\n",
    "sns.catplot(x = \"Rank\",\n",
    "            y = \"Sold\",\n",
    "            hue = \"Group\",\n",
    "            data = gp_r,\n",
    "            kind = \"point\")"
   ]
  },
  {
   "cell_type": "code",
   "execution_count": 32,
   "metadata": {},
   "outputs": [
    {
     "data": {
      "image/png": "[encoded data removed]",
      "text/plain": [
       "<Figure size 432x288 with 1 Axes>"
      ]
     },
     "metadata": {},
     "output_type": "display_data"
    }
   ],
   "source": [
    "insured = df.groupby(['rank', 'policies_sold'])['Currently Insured'].count()\n",
    "import seaborn \n",
    "from matplotlib import pyplot as plt\n",
    "insured.unstack().plot()\n",
    "plt.xticks(rotation=45)\n",
    "plt.title(\"Currently insured count\")\n",
    "plt.show()\n"
   ]
  },
  {
   "cell_type": "code",
   "execution_count": 10,
   "metadata": {},
   "outputs": [
    {
     "data": {
      "image/png": "[encoded data removed]",
      "text/plain": [
       "<Figure size 432x288 with 1 Axes>"
      ]
     },
     "metadata": {},
     "output_type": "display_data"
    }
   ],
   "source": [
    "insured = df.groupby(['rank', 'click'])['Currently Insured'].count()\n",
    "import seaborn \n",
    "from matplotlib import pyplot as plt\n",
    "insured.unstack().plot()\n",
    "plt.xticks(rotation=45)\n",
    "plt.title(\"Currently insured count\")\n",
    "plt.show()"
   ]
  },
  {
   "cell_type": "code",
   "execution_count": 9,
   "metadata": {},
   "outputs": [
    {
     "data": {
      "image/png": "[encoded data removed]",
      "text/plain": [
       "<Figure size 432x288 with 1 Axes>"
      ]
     },
     "metadata": {
      "needs_background": "light"
     },
     "output_type": "display_data"
    }
   ],
   "source": [
    "vehicle = df.groupby(['rank', 'policies_sold'])['Number of Vehicles'].mean()\n",
    "import seaborn \n",
    "from matplotlib import pyplot as plt\n",
    "vehicle.unstack().plot()\n",
    "plt.xticks(rotation=45)\n",
    "plt.title(\"number of vehicle mean\")\n",
    "plt.show()"
   ]
  },
  {
   "cell_type": "code",
   "execution_count": 10,
   "metadata": {},
   "outputs": [
    {
     "data": {
      "image/png": "[encoded data removed]",
      "text/plain": [
       "<Figure size 432x288 with 1 Axes>"
      ]
     },
     "metadata": {
      "needs_background": "light"
     },
     "output_type": "display_data"
    }
   ],
   "source": [
    "drivers = df.groupby(['rank', 'policies_sold'])['Number of Drivers'].mean()\n",
    "import seaborn \n",
    "from matplotlib import pyplot as plt\n",
    "drivers.unstack().plot()\n",
    "plt.xticks(rotation=45)\n",
    "plt.title(\"Number of Drivers mean\")\n",
    "plt.show()"
   ]
  },
  {
   "cell_type": "code",
   "execution_count": 11,
   "metadata": {},
   "outputs": [
    {
     "data": {
      "image/png": "[encoded data removed]",
      "text/plain": [
       "<Figure size 432x288 with 1 Axes>"
      ]
     },
     "metadata": {
      "needs_background": "light"
     },
     "output_type": "display_data"
    }
   ],
   "source": [
    "\n",
    "        \n",
    "Marital = df.groupby(['rank', 'policies_sold'])['Marital Status'].count()\n",
    "import seaborn \n",
    "from matplotlib import pyplot as plt\n",
    "Marital.unstack().plot()\n",
    "plt.xticks(rotation=45)\n",
    "plt.title(\"Marital Status count\")\n",
    "plt.show()"
   ]
  },
  {
   "cell_type": "code",
   "execution_count": 12,
   "metadata": {},
   "outputs": [
    {
     "data": {
      "image/png": "[encoded data removed]",
      "text/plain": [
       "<Figure size 432x288 with 1 Axes>"
      ]
     },
     "metadata": {
      "needs_background": "light"
     },
     "output_type": "display_data"
    }
   ],
   "source": [
    "\n",
    "        \n",
    "click = df.groupby(['rank', 'policies_sold'])['click'].count()\n",
    "import seaborn \n",
    "from matplotlib import pyplot as plt\n",
    "click.unstack().plot()\n",
    "plt.xticks(rotation=45)\n",
    "plt.title(\"click count\")\n",
    "plt.show()"
   ]
  },
  {
   "cell_type": "code",
   "execution_count": null,
   "metadata": {},
   "outputs": [],
   "source": []
  },
  {
   "cell_type": "markdown",
   "metadata": {},
   "source": [
    "descriptive information about variables by rank "
   ]
  },
  {
   "cell_type": "code",
   "execution_count": 7,
   "metadata": {},
   "outputs": [
    {
     "data": {
      "text/html": [
       "<div>\n",
       "<style scoped>\n",
       "    .dataframe tbody tr th:only-of-type {\n",
       "        vertical-align: middle;\n",
       "    }\n",
       "\n",
       "    .dataframe tbody tr th {\n",
       "        vertical-align: top;\n",
       "    }\n",
       "\n",
       "    .dataframe thead tr th {\n",
       "        text-align: left;\n",
       "    }\n",
       "\n",
       "    .dataframe thead tr:last-of-type th {\n",
       "        text-align: right;\n",
       "    }\n",
       "</style>\n",
       "<table border=\"1\" class=\"dataframe\">\n",
       "  <thead>\n",
       "    <tr>\n",
       "      <th></th>\n",
       "      <th>Currently Insured</th>\n",
       "      <th colspan=\"3\" halign=\"left\">Number of Vehicles</th>\n",
       "      <th colspan=\"3\" halign=\"left\">Number of Drivers</th>\n",
       "      <th>Marital Status</th>\n",
       "      <th>click</th>\n",
       "      <th>policies_sold</th>\n",
       "    </tr>\n",
       "    <tr>\n",
       "      <th></th>\n",
       "      <th>count</th>\n",
       "      <th>min</th>\n",
       "      <th>max</th>\n",
       "      <th>sum</th>\n",
       "      <th>min</th>\n",
       "      <th>max</th>\n",
       "      <th>sum</th>\n",
       "      <th>count</th>\n",
       "      <th>count</th>\n",
       "      <th>sum</th>\n",
       "    </tr>\n",
       "    <tr>\n",
       "      <th>rank</th>\n",
       "      <th></th>\n",
       "      <th></th>\n",
       "      <th></th>\n",
       "      <th></th>\n",
       "      <th></th>\n",
       "      <th></th>\n",
       "      <th></th>\n",
       "      <th></th>\n",
       "      <th></th>\n",
       "      <th></th>\n",
       "    </tr>\n",
       "  </thead>\n",
       "  <tbody>\n",
       "    <tr>\n",
       "      <th>1</th>\n",
       "      <td>1611</td>\n",
       "      <td>1</td>\n",
       "      <td>3</td>\n",
       "      <td>2476</td>\n",
       "      <td>1</td>\n",
       "      <td>2</td>\n",
       "      <td>2497</td>\n",
       "      <td>1611</td>\n",
       "      <td>1611</td>\n",
       "      <td>358</td>\n",
       "    </tr>\n",
       "    <tr>\n",
       "      <th>2</th>\n",
       "      <td>1608</td>\n",
       "      <td>1</td>\n",
       "      <td>3</td>\n",
       "      <td>2541</td>\n",
       "      <td>1</td>\n",
       "      <td>2</td>\n",
       "      <td>2476</td>\n",
       "      <td>1608</td>\n",
       "      <td>1608</td>\n",
       "      <td>209</td>\n",
       "    </tr>\n",
       "    <tr>\n",
       "      <th>3</th>\n",
       "      <td>2401</td>\n",
       "      <td>1</td>\n",
       "      <td>3</td>\n",
       "      <td>4605</td>\n",
       "      <td>1</td>\n",
       "      <td>2</td>\n",
       "      <td>3629</td>\n",
       "      <td>2401</td>\n",
       "      <td>2401</td>\n",
       "      <td>138</td>\n",
       "    </tr>\n",
       "    <tr>\n",
       "      <th>4</th>\n",
       "      <td>2089</td>\n",
       "      <td>1</td>\n",
       "      <td>3</td>\n",
       "      <td>4510</td>\n",
       "      <td>1</td>\n",
       "      <td>2</td>\n",
       "      <td>3088</td>\n",
       "      <td>2089</td>\n",
       "      <td>2089</td>\n",
       "      <td>58</td>\n",
       "    </tr>\n",
       "    <tr>\n",
       "      <th>5</th>\n",
       "      <td>2291</td>\n",
       "      <td>1</td>\n",
       "      <td>3</td>\n",
       "      <td>5522</td>\n",
       "      <td>1</td>\n",
       "      <td>2</td>\n",
       "      <td>3309</td>\n",
       "      <td>2291</td>\n",
       "      <td>2291</td>\n",
       "      <td>20</td>\n",
       "    </tr>\n",
       "  </tbody>\n",
       "</table>\n",
       "</div>"
      ],
      "text/plain": [
       "     Currently Insured Number of Vehicles           Number of Drivers      \\\n",
       "                 count                min max   sum               min max   \n",
       "rank                                                                        \n",
       "1                 1611                  1   3  2476                 1   2   \n",
       "2                 1608                  1   3  2541                 1   2   \n",
       "3                 2401                  1   3  4605                 1   2   \n",
       "4                 2089                  1   3  4510                 1   2   \n",
       "5                 2291                  1   3  5522                 1   2   \n",
       "\n",
       "           Marital Status click policies_sold  \n",
       "       sum          count count           sum  \n",
       "rank                                           \n",
       "1     2497           1611  1611           358  \n",
       "2     2476           1608  1608           209  \n",
       "3     3629           2401  2401           138  \n",
       "4     3088           2089  2089            58  \n",
       "5     3309           2291  2291            20  "
      ]
     },
     "execution_count": 7,
     "metadata": {},
     "output_type": "execute_result"
    }
   ],
   "source": [
    "## summary statistics of all other variables based on Rank  \n",
    "df.groupby(['rank']).agg(\n",
    "{'Currently Insured':\"count\",\n",
    " 'Number of Vehicles':[min,max,sum],\n",
    " 'Number of Drivers':[min,max,sum],\n",
    " 'Marital Status':\"count\",\n",
    " 'click':\"count\",\n",
    " 'policies_sold':\"sum\"\n",
    "}\n",
    ")"
   ]
  },
  {
   "cell_type": "code",
   "execution_count": 8,
   "metadata": {},
   "outputs": [
    {
     "data": {
      "text/html": [
       "<div>\n",
       "<style scoped>\n",
       "    .dataframe tbody tr th:only-of-type {\n",
       "        vertical-align: middle;\n",
       "    }\n",
       "\n",
       "    .dataframe tbody tr th {\n",
       "        vertical-align: top;\n",
       "    }\n",
       "\n",
       "    .dataframe thead tr th {\n",
       "        text-align: left;\n",
       "    }\n",
       "\n",
       "    .dataframe thead tr:last-of-type th {\n",
       "        text-align: right;\n",
       "    }\n",
       "</style>\n",
       "<table border=\"1\" class=\"dataframe\">\n",
       "  <thead>\n",
       "    <tr>\n",
       "      <th></th>\n",
       "      <th colspan=\"8\" halign=\"left\">Number of Vehicles</th>\n",
       "      <th colspan=\"2\" halign=\"left\">Number of Drivers</th>\n",
       "      <th>...</th>\n",
       "      <th colspan=\"2\" halign=\"left\">bid</th>\n",
       "      <th colspan=\"8\" halign=\"left\">policies_sold</th>\n",
       "    </tr>\n",
       "    <tr>\n",
       "      <th></th>\n",
       "      <th>count</th>\n",
       "      <th>mean</th>\n",
       "      <th>std</th>\n",
       "      <th>min</th>\n",
       "      <th>25%</th>\n",
       "      <th>50%</th>\n",
       "      <th>75%</th>\n",
       "      <th>max</th>\n",
       "      <th>count</th>\n",
       "      <th>mean</th>\n",
       "      <th>...</th>\n",
       "      <th>75%</th>\n",
       "      <th>max</th>\n",
       "      <th>count</th>\n",
       "      <th>mean</th>\n",
       "      <th>std</th>\n",
       "      <th>min</th>\n",
       "      <th>25%</th>\n",
       "      <th>50%</th>\n",
       "      <th>75%</th>\n",
       "      <th>max</th>\n",
       "    </tr>\n",
       "    <tr>\n",
       "      <th>rank</th>\n",
       "      <th></th>\n",
       "      <th></th>\n",
       "      <th></th>\n",
       "      <th></th>\n",
       "      <th></th>\n",
       "      <th></th>\n",
       "      <th></th>\n",
       "      <th></th>\n",
       "      <th></th>\n",
       "      <th></th>\n",
       "      <th></th>\n",
       "      <th></th>\n",
       "      <th></th>\n",
       "      <th></th>\n",
       "      <th></th>\n",
       "      <th></th>\n",
       "      <th></th>\n",
       "      <th></th>\n",
       "      <th></th>\n",
       "      <th></th>\n",
       "      <th></th>\n",
       "    </tr>\n",
       "  </thead>\n",
       "  <tbody>\n",
       "    <tr>\n",
       "      <th>1</th>\n",
       "      <td>1611.0</td>\n",
       "      <td>1.536934</td>\n",
       "      <td>0.661521</td>\n",
       "      <td>1.0</td>\n",
       "      <td>1.0</td>\n",
       "      <td>1.0</td>\n",
       "      <td>2.0</td>\n",
       "      <td>3.0</td>\n",
       "      <td>1611.0</td>\n",
       "      <td>1.549969</td>\n",
       "      <td>...</td>\n",
       "      <td>10.0</td>\n",
       "      <td>10.0</td>\n",
       "      <td>1611.0</td>\n",
       "      <td>0.222222</td>\n",
       "      <td>0.415869</td>\n",
       "      <td>0.0</td>\n",
       "      <td>0.0</td>\n",
       "      <td>0.0</td>\n",
       "      <td>0.0</td>\n",
       "      <td>1.0</td>\n",
       "    </tr>\n",
       "    <tr>\n",
       "      <th>2</th>\n",
       "      <td>1608.0</td>\n",
       "      <td>1.580224</td>\n",
       "      <td>0.732247</td>\n",
       "      <td>1.0</td>\n",
       "      <td>1.0</td>\n",
       "      <td>1.0</td>\n",
       "      <td>2.0</td>\n",
       "      <td>3.0</td>\n",
       "      <td>1608.0</td>\n",
       "      <td>1.539801</td>\n",
       "      <td>...</td>\n",
       "      <td>10.0</td>\n",
       "      <td>10.0</td>\n",
       "      <td>1608.0</td>\n",
       "      <td>0.129975</td>\n",
       "      <td>0.336381</td>\n",
       "      <td>0.0</td>\n",
       "      <td>0.0</td>\n",
       "      <td>0.0</td>\n",
       "      <td>0.0</td>\n",
       "      <td>1.0</td>\n",
       "    </tr>\n",
       "    <tr>\n",
       "      <th>3</th>\n",
       "      <td>2401.0</td>\n",
       "      <td>1.917951</td>\n",
       "      <td>0.826851</td>\n",
       "      <td>1.0</td>\n",
       "      <td>1.0</td>\n",
       "      <td>2.0</td>\n",
       "      <td>3.0</td>\n",
       "      <td>3.0</td>\n",
       "      <td>2401.0</td>\n",
       "      <td>1.511454</td>\n",
       "      <td>...</td>\n",
       "      <td>10.0</td>\n",
       "      <td>10.0</td>\n",
       "      <td>2401.0</td>\n",
       "      <td>0.057476</td>\n",
       "      <td>0.232798</td>\n",
       "      <td>0.0</td>\n",
       "      <td>0.0</td>\n",
       "      <td>0.0</td>\n",
       "      <td>0.0</td>\n",
       "      <td>1.0</td>\n",
       "    </tr>\n",
       "    <tr>\n",
       "      <th>4</th>\n",
       "      <td>2089.0</td>\n",
       "      <td>2.158928</td>\n",
       "      <td>0.801470</td>\n",
       "      <td>1.0</td>\n",
       "      <td>1.0</td>\n",
       "      <td>2.0</td>\n",
       "      <td>3.0</td>\n",
       "      <td>3.0</td>\n",
       "      <td>2089.0</td>\n",
       "      <td>1.478219</td>\n",
       "      <td>...</td>\n",
       "      <td>10.0</td>\n",
       "      <td>10.0</td>\n",
       "      <td>2089.0</td>\n",
       "      <td>0.027764</td>\n",
       "      <td>0.164337</td>\n",
       "      <td>0.0</td>\n",
       "      <td>0.0</td>\n",
       "      <td>0.0</td>\n",
       "      <td>0.0</td>\n",
       "      <td>1.0</td>\n",
       "    </tr>\n",
       "    <tr>\n",
       "      <th>5</th>\n",
       "      <td>2291.0</td>\n",
       "      <td>2.410301</td>\n",
       "      <td>0.628409</td>\n",
       "      <td>1.0</td>\n",
       "      <td>2.0</td>\n",
       "      <td>2.0</td>\n",
       "      <td>3.0</td>\n",
       "      <td>3.0</td>\n",
       "      <td>2291.0</td>\n",
       "      <td>1.444347</td>\n",
       "      <td>...</td>\n",
       "      <td>10.0</td>\n",
       "      <td>10.0</td>\n",
       "      <td>2291.0</td>\n",
       "      <td>0.008730</td>\n",
       "      <td>0.093045</td>\n",
       "      <td>0.0</td>\n",
       "      <td>0.0</td>\n",
       "      <td>0.0</td>\n",
       "      <td>0.0</td>\n",
       "      <td>1.0</td>\n",
       "    </tr>\n",
       "  </tbody>\n",
       "</table>\n",
       "<p>5 rows × 32 columns</p>\n",
       "</div>"
      ],
      "text/plain": [
       "     Number of Vehicles                                               \\\n",
       "                  count      mean       std  min  25%  50%  75%  max   \n",
       "rank                                                                   \n",
       "1                1611.0  1.536934  0.661521  1.0  1.0  1.0  2.0  3.0   \n",
       "2                1608.0  1.580224  0.732247  1.0  1.0  1.0  2.0  3.0   \n",
       "3                2401.0  1.917951  0.826851  1.0  1.0  2.0  3.0  3.0   \n",
       "4                2089.0  2.158928  0.801470  1.0  1.0  2.0  3.0  3.0   \n",
       "5                2291.0  2.410301  0.628409  1.0  2.0  2.0  3.0  3.0   \n",
       "\n",
       "     Number of Drivers            ...   bid       policies_sold            \\\n",
       "                 count      mean  ...   75%   max         count      mean   \n",
       "rank                              ...                                       \n",
       "1               1611.0  1.549969  ...  10.0  10.0        1611.0  0.222222   \n",
       "2               1608.0  1.539801  ...  10.0  10.0        1608.0  0.129975   \n",
       "3               2401.0  1.511454  ...  10.0  10.0        2401.0  0.057476   \n",
       "4               2089.0  1.478219  ...  10.0  10.0        2089.0  0.027764   \n",
       "5               2291.0  1.444347  ...  10.0  10.0        2291.0  0.008730   \n",
       "\n",
       "                                         \n",
       "           std  min  25%  50%  75%  max  \n",
       "rank                                     \n",
       "1     0.415869  0.0  0.0  0.0  0.0  1.0  \n",
       "2     0.336381  0.0  0.0  0.0  0.0  1.0  \n",
       "3     0.232798  0.0  0.0  0.0  0.0  1.0  \n",
       "4     0.164337  0.0  0.0  0.0  0.0  1.0  \n",
       "5     0.093045  0.0  0.0  0.0  0.0  1.0  \n",
       "\n",
       "[5 rows x 32 columns]"
      ]
     },
     "execution_count": 8,
     "metadata": {},
     "output_type": "execute_result"
    }
   ],
   "source": [
    "df.groupby(['rank']).describe()"
   ]
  },
  {
   "cell_type": "code",
   "execution_count": 9,
   "metadata": {},
   "outputs": [
    {
     "data": {
      "text/plain": [
       "rank\n",
       "1    1.536934\n",
       "2    1.580224\n",
       "3    1.917951\n",
       "4    2.158928\n",
       "5    2.410301\n",
       "Name: Number of Vehicles, dtype: float64"
      ]
     },
     "execution_count": 9,
     "metadata": {},
     "output_type": "execute_result"
    }
   ],
   "source": [
    "df.groupby(['rank'])['Number of Vehicles'].mean()"
   ]
  },
  {
   "cell_type": "code",
   "execution_count": null,
   "metadata": {},
   "outputs": [],
   "source": [
    "df.groupby(['rank'])['Number of Drivers'].mean()"
   ]
  },
  {
   "cell_type": "code",
   "execution_count": null,
   "metadata": {},
   "outputs": [],
   "source": [
    "df.groupby(['rank'])['Policies_sold'].mean()"
   ]
  },
  {
   "cell_type": "code",
   "execution_count": null,
   "metadata": {},
   "outputs": [],
   "source": [
    "df.groupby(['rank'])['Currently Insured'].mean()"
   ]
  },
  {
   "cell_type": "code",
   "execution_count": 16,
   "metadata": {},
   "outputs": [
    {
     "data": {
      "text/html": [
       "<div>\n",
       "<style scoped>\n",
       "    .dataframe tbody tr th:only-of-type {\n",
       "        vertical-align: middle;\n",
       "    }\n",
       "\n",
       "    .dataframe tbody tr th {\n",
       "        vertical-align: top;\n",
       "    }\n",
       "\n",
       "    .dataframe thead tr th {\n",
       "        text-align: left;\n",
       "    }\n",
       "\n",
       "    .dataframe thead tr:last-of-type th {\n",
       "        text-align: right;\n",
       "    }\n",
       "</style>\n",
       "<table border=\"1\" class=\"dataframe\">\n",
       "  <thead>\n",
       "    <tr>\n",
       "      <th></th>\n",
       "      <th></th>\n",
       "      <th>click</th>\n",
       "      <th>Currently Insured</th>\n",
       "      <th colspan=\"3\" halign=\"left\">Number of Vehicles</th>\n",
       "      <th colspan=\"3\" halign=\"left\">Number of Drivers</th>\n",
       "      <th>Marital Status</th>\n",
       "      <th>policies_sold</th>\n",
       "    </tr>\n",
       "    <tr>\n",
       "      <th></th>\n",
       "      <th></th>\n",
       "      <th>sum</th>\n",
       "      <th>count</th>\n",
       "      <th>min</th>\n",
       "      <th>max</th>\n",
       "      <th>sum</th>\n",
       "      <th>min</th>\n",
       "      <th>max</th>\n",
       "      <th>sum</th>\n",
       "      <th>count</th>\n",
       "      <th>sum</th>\n",
       "    </tr>\n",
       "    <tr>\n",
       "      <th>rank</th>\n",
       "      <th>click</th>\n",
       "      <th></th>\n",
       "      <th></th>\n",
       "      <th></th>\n",
       "      <th></th>\n",
       "      <th></th>\n",
       "      <th></th>\n",
       "      <th></th>\n",
       "      <th></th>\n",
       "      <th></th>\n",
       "      <th></th>\n",
       "    </tr>\n",
       "  </thead>\n",
       "  <tbody>\n",
       "    <tr>\n",
       "      <th rowspan=\"2\" valign=\"top\">1</th>\n",
       "      <th>False</th>\n",
       "      <td>0</td>\n",
       "      <td>763</td>\n",
       "      <td>1</td>\n",
       "      <td>3</td>\n",
       "      <td>1186</td>\n",
       "      <td>1</td>\n",
       "      <td>2</td>\n",
       "      <td>1190</td>\n",
       "      <td>763</td>\n",
       "      <td>0</td>\n",
       "    </tr>\n",
       "    <tr>\n",
       "      <th>True</th>\n",
       "      <td>848</td>\n",
       "      <td>848</td>\n",
       "      <td>1</td>\n",
       "      <td>3</td>\n",
       "      <td>1290</td>\n",
       "      <td>1</td>\n",
       "      <td>2</td>\n",
       "      <td>1307</td>\n",
       "      <td>848</td>\n",
       "      <td>358</td>\n",
       "    </tr>\n",
       "    <tr>\n",
       "      <th rowspan=\"2\" valign=\"top\">2</th>\n",
       "      <th>False</th>\n",
       "      <td>0</td>\n",
       "      <td>1146</td>\n",
       "      <td>1</td>\n",
       "      <td>3</td>\n",
       "      <td>1829</td>\n",
       "      <td>1</td>\n",
       "      <td>2</td>\n",
       "      <td>1759</td>\n",
       "      <td>1146</td>\n",
       "      <td>0</td>\n",
       "    </tr>\n",
       "    <tr>\n",
       "      <th>True</th>\n",
       "      <td>462</td>\n",
       "      <td>462</td>\n",
       "      <td>1</td>\n",
       "      <td>3</td>\n",
       "      <td>712</td>\n",
       "      <td>1</td>\n",
       "      <td>2</td>\n",
       "      <td>717</td>\n",
       "      <td>462</td>\n",
       "      <td>209</td>\n",
       "    </tr>\n",
       "    <tr>\n",
       "      <th rowspan=\"2\" valign=\"top\">3</th>\n",
       "      <th>False</th>\n",
       "      <td>0</td>\n",
       "      <td>2050</td>\n",
       "      <td>1</td>\n",
       "      <td>3</td>\n",
       "      <td>3942</td>\n",
       "      <td>1</td>\n",
       "      <td>2</td>\n",
       "      <td>3114</td>\n",
       "      <td>2050</td>\n",
       "      <td>0</td>\n",
       "    </tr>\n",
       "    <tr>\n",
       "      <th>True</th>\n",
       "      <td>351</td>\n",
       "      <td>351</td>\n",
       "      <td>1</td>\n",
       "      <td>3</td>\n",
       "      <td>663</td>\n",
       "      <td>1</td>\n",
       "      <td>2</td>\n",
       "      <td>515</td>\n",
       "      <td>351</td>\n",
       "      <td>138</td>\n",
       "    </tr>\n",
       "    <tr>\n",
       "      <th rowspan=\"2\" valign=\"top\">4</th>\n",
       "      <th>False</th>\n",
       "      <td>0</td>\n",
       "      <td>1921</td>\n",
       "      <td>1</td>\n",
       "      <td>3</td>\n",
       "      <td>4144</td>\n",
       "      <td>1</td>\n",
       "      <td>2</td>\n",
       "      <td>2836</td>\n",
       "      <td>1921</td>\n",
       "      <td>0</td>\n",
       "    </tr>\n",
       "    <tr>\n",
       "      <th>True</th>\n",
       "      <td>168</td>\n",
       "      <td>168</td>\n",
       "      <td>1</td>\n",
       "      <td>3</td>\n",
       "      <td>366</td>\n",
       "      <td>1</td>\n",
       "      <td>2</td>\n",
       "      <td>252</td>\n",
       "      <td>168</td>\n",
       "      <td>58</td>\n",
       "    </tr>\n",
       "    <tr>\n",
       "      <th rowspan=\"2\" valign=\"top\">5</th>\n",
       "      <th>False</th>\n",
       "      <td>0</td>\n",
       "      <td>2242</td>\n",
       "      <td>1</td>\n",
       "      <td>3</td>\n",
       "      <td>5404</td>\n",
       "      <td>1</td>\n",
       "      <td>2</td>\n",
       "      <td>3241</td>\n",
       "      <td>2242</td>\n",
       "      <td>0</td>\n",
       "    </tr>\n",
       "    <tr>\n",
       "      <th>True</th>\n",
       "      <td>49</td>\n",
       "      <td>49</td>\n",
       "      <td>1</td>\n",
       "      <td>3</td>\n",
       "      <td>118</td>\n",
       "      <td>1</td>\n",
       "      <td>2</td>\n",
       "      <td>68</td>\n",
       "      <td>49</td>\n",
       "      <td>20</td>\n",
       "    </tr>\n",
       "  </tbody>\n",
       "</table>\n",
       "</div>"
      ],
      "text/plain": [
       "           click Currently Insured Number of Vehicles            \\\n",
       "             sum             count                min max   sum   \n",
       "rank click                                                        \n",
       "1    False     0               763                  1   3  1186   \n",
       "     True    848               848                  1   3  1290   \n",
       "2    False     0              1146                  1   3  1829   \n",
       "     True    462               462                  1   3   712   \n",
       "3    False     0              2050                  1   3  3942   \n",
       "     True    351               351                  1   3   663   \n",
       "4    False     0              1921                  1   3  4144   \n",
       "     True    168               168                  1   3   366   \n",
       "5    False     0              2242                  1   3  5404   \n",
       "     True     49                49                  1   3   118   \n",
       "\n",
       "           Number of Drivers           Marital Status policies_sold  \n",
       "                         min max   sum          count           sum  \n",
       "rank click                                                           \n",
       "1    False                 1   2  1190            763             0  \n",
       "     True                  1   2  1307            848           358  \n",
       "2    False                 1   2  1759           1146             0  \n",
       "     True                  1   2   717            462           209  \n",
       "3    False                 1   2  3114           2050             0  \n",
       "     True                  1   2   515            351           138  \n",
       "4    False                 1   2  2836           1921             0  \n",
       "     True                  1   2   252            168            58  \n",
       "5    False                 1   2  3241           2242             0  \n",
       "     True                  1   2    68             49            20  "
      ]
     },
     "execution_count": 16,
     "metadata": {},
     "output_type": "execute_result"
    }
   ],
   "source": [
    "## summary statistics of all other variables based on Rank and Click \n",
    "df.groupby(['rank','click']).agg(\n",
    "{'click':\"sum\",\n",
    " 'Currently Insured':\"count\",\n",
    " 'Number of Vehicles':[min,max,sum],\n",
    " 'Number of Drivers':[min,max,sum],\n",
    " 'Marital Status':\"count\",\n",
    " 'policies_sold':\"sum\"\n",
    "}\n",
    ")\n",
    "\n",
    "# any thoughts here? feel free to add yours \n",
    "# company can sell the policy only if the ad is clicked \n",
    "# increase the rank based on attributes \n",
    "# we can just ignore default price here? cause it doesn't matter"
   ]
  },
  {
   "cell_type": "code",
   "execution_count": 11,
   "metadata": {},
   "outputs": [
    {
     "name": "stdout",
     "output_type": "stream",
     "text": [
      "False    0.8122\n",
      "True     0.1878\n",
      "Name: click, dtype: float64\n"
     ]
    }
   ],
   "source": [
    "## calculate click-through-rate (CTR)\n",
    "### It is the ratio of sum of the number of clicks over the number of total observations.\n",
    "ctr = df.click.value_counts(\"True\")\n",
    "print(ctr)"
   ]
  },
  {
   "cell_type": "code",
   "execution_count": 12,
   "metadata": {},
   "outputs": [],
   "source": [
    "### Note: Plot distributions for "
   ]
  },
  {
   "cell_type": "markdown",
   "metadata": {},
   "source": [
    "## 2. Simple logistic regression"
   ]
  },
  {
   "cell_type": "code",
   "execution_count": 33,
   "metadata": {},
   "outputs": [],
   "source": [
    "## import the package\n",
    "import statsmodels.api as sm"
   ]
  },
  {
   "cell_type": "code",
   "execution_count": 34,
   "metadata": {},
   "outputs": [
    {
     "data": {
      "text/html": [
       "<div>\n",
       "<style scoped>\n",
       "    .dataframe tbody tr th:only-of-type {\n",
       "        vertical-align: middle;\n",
       "    }\n",
       "\n",
       "    .dataframe tbody tr th {\n",
       "        vertical-align: top;\n",
       "    }\n",
       "\n",
       "    .dataframe thead th {\n",
       "        text-align: right;\n",
       "    }\n",
       "</style>\n",
       "<table border=\"1\" class=\"dataframe\">\n",
       "  <thead>\n",
       "    <tr style=\"text-align: right;\">\n",
       "      <th></th>\n",
       "      <th>Currently Insured</th>\n",
       "      <th>Number of Vehicles</th>\n",
       "      <th>Number of Drivers</th>\n",
       "      <th>Marital Status</th>\n",
       "      <th>bid</th>\n",
       "      <th>rank</th>\n",
       "      <th>click</th>\n",
       "      <th>policies_sold</th>\n",
       "      <th>Currently Insured_Cat</th>\n",
       "      <th>Number of Vehicles_Cat</th>\n",
       "      <th>...</th>\n",
       "      <th>Marital Status_Cat</th>\n",
       "      <th>Married</th>\n",
       "      <th>Insured</th>\n",
       "      <th>Uninsured</th>\n",
       "      <th>MultDrivers</th>\n",
       "      <th>TwoVehicles</th>\n",
       "      <th>ThreeVehicles</th>\n",
       "      <th>Insured_N</th>\n",
       "      <th>Insured_Y</th>\n",
       "      <th>click_true</th>\n",
       "    </tr>\n",
       "  </thead>\n",
       "  <tbody>\n",
       "    <tr>\n",
       "      <th>0</th>\n",
       "      <td>unknown</td>\n",
       "      <td>2</td>\n",
       "      <td>1</td>\n",
       "      <td>M</td>\n",
       "      <td>10.0</td>\n",
       "      <td>2</td>\n",
       "      <td>False</td>\n",
       "      <td>0</td>\n",
       "      <td>unknown</td>\n",
       "      <td>2</td>\n",
       "      <td>...</td>\n",
       "      <td>M</td>\n",
       "      <td>1</td>\n",
       "      <td>0</td>\n",
       "      <td>0</td>\n",
       "      <td>0</td>\n",
       "      <td>1</td>\n",
       "      <td>0</td>\n",
       "      <td>0</td>\n",
       "      <td>0</td>\n",
       "      <td>0</td>\n",
       "    </tr>\n",
       "    <tr>\n",
       "      <th>1</th>\n",
       "      <td>Y</td>\n",
       "      <td>3</td>\n",
       "      <td>1</td>\n",
       "      <td>M</td>\n",
       "      <td>10.0</td>\n",
       "      <td>5</td>\n",
       "      <td>False</td>\n",
       "      <td>0</td>\n",
       "      <td>Y</td>\n",
       "      <td>3</td>\n",
       "      <td>...</td>\n",
       "      <td>M</td>\n",
       "      <td>1</td>\n",
       "      <td>1</td>\n",
       "      <td>0</td>\n",
       "      <td>0</td>\n",
       "      <td>0</td>\n",
       "      <td>1</td>\n",
       "      <td>0</td>\n",
       "      <td>1</td>\n",
       "      <td>0</td>\n",
       "    </tr>\n",
       "    <tr>\n",
       "      <th>2</th>\n",
       "      <td>Y</td>\n",
       "      <td>3</td>\n",
       "      <td>2</td>\n",
       "      <td>M</td>\n",
       "      <td>10.0</td>\n",
       "      <td>5</td>\n",
       "      <td>False</td>\n",
       "      <td>0</td>\n",
       "      <td>Y</td>\n",
       "      <td>3</td>\n",
       "      <td>...</td>\n",
       "      <td>M</td>\n",
       "      <td>1</td>\n",
       "      <td>1</td>\n",
       "      <td>0</td>\n",
       "      <td>1</td>\n",
       "      <td>0</td>\n",
       "      <td>1</td>\n",
       "      <td>0</td>\n",
       "      <td>1</td>\n",
       "      <td>0</td>\n",
       "    </tr>\n",
       "    <tr>\n",
       "      <th>3</th>\n",
       "      <td>N</td>\n",
       "      <td>3</td>\n",
       "      <td>2</td>\n",
       "      <td>S</td>\n",
       "      <td>10.0</td>\n",
       "      <td>4</td>\n",
       "      <td>False</td>\n",
       "      <td>0</td>\n",
       "      <td>N</td>\n",
       "      <td>3</td>\n",
       "      <td>...</td>\n",
       "      <td>S</td>\n",
       "      <td>0</td>\n",
       "      <td>0</td>\n",
       "      <td>1</td>\n",
       "      <td>1</td>\n",
       "      <td>0</td>\n",
       "      <td>1</td>\n",
       "      <td>1</td>\n",
       "      <td>0</td>\n",
       "      <td>0</td>\n",
       "    </tr>\n",
       "    <tr>\n",
       "      <th>4</th>\n",
       "      <td>unknown</td>\n",
       "      <td>2</td>\n",
       "      <td>2</td>\n",
       "      <td>S</td>\n",
       "      <td>10.0</td>\n",
       "      <td>2</td>\n",
       "      <td>False</td>\n",
       "      <td>0</td>\n",
       "      <td>unknown</td>\n",
       "      <td>2</td>\n",
       "      <td>...</td>\n",
       "      <td>S</td>\n",
       "      <td>0</td>\n",
       "      <td>0</td>\n",
       "      <td>0</td>\n",
       "      <td>1</td>\n",
       "      <td>1</td>\n",
       "      <td>0</td>\n",
       "      <td>0</td>\n",
       "      <td>0</td>\n",
       "      <td>0</td>\n",
       "    </tr>\n",
       "  </tbody>\n",
       "</table>\n",
       "<p>5 rows × 21 columns</p>\n",
       "</div>"
      ],
      "text/plain": [
       "  Currently Insured  Number of Vehicles  Number of Drivers Marital Status  \\\n",
       "0           unknown                   2                  1              M   \n",
       "1                 Y                   3                  1              M   \n",
       "2                 Y                   3                  2              M   \n",
       "3                 N                   3                  2              S   \n",
       "4           unknown                   2                  2              S   \n",
       "\n",
       "    bid  rank  click  policies_sold Currently Insured_Cat  \\\n",
       "0  10.0     2  False              0               unknown   \n",
       "1  10.0     5  False              0                     Y   \n",
       "2  10.0     5  False              0                     Y   \n",
       "3  10.0     4  False              0                     N   \n",
       "4  10.0     2  False              0               unknown   \n",
       "\n",
       "  Number of Vehicles_Cat  ... Marital Status_Cat Married  Insured  Uninsured  \\\n",
       "0                      2  ...                  M       1        0          0   \n",
       "1                      3  ...                  M       1        1          0   \n",
       "2                      3  ...                  M       1        1          0   \n",
       "3                      3  ...                  S       0        0          1   \n",
       "4                      2  ...                  S       0        0          0   \n",
       "\n",
       "   MultDrivers  TwoVehicles  ThreeVehicles  Insured_N  Insured_Y  click_true  \n",
       "0            0            1              0          0          0           0  \n",
       "1            0            0              1          0          1           0  \n",
       "2            1            0              1          0          1           0  \n",
       "3            1            0              1          1          0           0  \n",
       "4            1            1              0          0          0           0  \n",
       "\n",
       "[5 rows x 21 columns]"
      ]
     },
     "execution_count": 34,
     "metadata": {},
     "output_type": "execute_result"
    }
   ],
   "source": [
    "## Data clean\n",
    "## Currently Insured: categorical/unknow, N, Y\n",
    "## Number of Vehicles: ordinal\n",
    "## Number of Drivers: ordinal\n",
    "## Marital Status: categorical/ M, S\n",
    "## rank: ordinal\n",
    "\n",
    "## There are two ways to run regressions when having categorial variables in datasets.\n",
    "## 1. Delete those categorical variables.\n",
    "## 2. Keep them but generate dummy variables. \n",
    "## since we don't have much features in our dataset, i would go for dummies.\n",
    "\n",
    "## Create dummies for Currently Insured and Marital Status. \n",
    "## 1. For Currently Insured, i left \"unknow\" as baseline case. So Insured_N, and Insured_Y are created and included. \n",
    "## 2. For Marital Status, i left \"S\" as baseline case. So Married are created and included. \n",
    "## For the other variables I would treat them as ordinal.\n",
    "\n",
    "pd.get_dummies(df['Currently Insured'])\n",
    "df['Insured_N'] = pd.get_dummies(df['Currently Insured'])['N']\n",
    "df['Insured_Y'] = pd.get_dummies(df['Currently Insured'])['Y']\n",
    "\n",
    "pd.get_dummies(df['Marital Status'])\n",
    "df['Married'] = pd.get_dummies(df['Marital Status'])['M']\n",
    "\n",
    "pd.get_dummies(df['click'])\n",
    "df['click_true'] = pd.get_dummies(df['click'])[True]\n",
    "\n",
    "df.head()\n"
   ]
  },
  {
   "cell_type": "markdown",
   "metadata": {},
   "source": [
    "### 2.1. click "
   ]
  },
  {
   "cell_type": "markdown",
   "metadata": {},
   "source": [
    "#### 2.1.1 click without interactions"
   ]
  },
  {
   "cell_type": "code",
   "execution_count": 15,
   "metadata": {},
   "outputs": [
    {
     "name": "stdout",
     "output_type": "stream",
     "text": [
      "Optimization terminated successfully.\n",
      "         Current function value: inf\n",
      "         Iterations 7\n"
     ]
    },
    {
     "name": "stderr",
     "output_type": "stream",
     "text": [
      "C:\\Users\\Xiaoliu\\anaconda3\\lib\\site-packages\\statsmodels\\discrete\\discrete_model.py:1799: RuntimeWarning: overflow encountered in exp\n",
      "  return 1/(1+np.exp(-X))\n",
      "C:\\Users\\Xiaoliu\\anaconda3\\lib\\site-packages\\statsmodels\\discrete\\discrete_model.py:1852: RuntimeWarning: divide by zero encountered in log\n",
      "  return np.sum(np.log(self.cdf(q*np.dot(X,params))))\n"
     ]
    }
   ],
   "source": [
    "## define X and Y\n",
    "\n",
    "X = df[['Insured_N', 'Insured_Y', 'Number of Vehicles', 'Number of Drivers', 'Married','rank']].copy()\n",
    "X = sm.add_constant(X)\n",
    "y = df['click_true'].copy()\n",
    "\n",
    "## define and fit the model\n",
    "model = sm.Logit(y, X)\n",
    "result = model.fit(method='newton')\n"
   ]
  },
  {
   "cell_type": "code",
   "execution_count": 16,
   "metadata": {},
   "outputs": [
    {
     "name": "stderr",
     "output_type": "stream",
     "text": [
      "C:\\Users\\Xiaoliu\\anaconda3\\lib\\site-packages\\statsmodels\\base\\model.py:547: HessianInversionWarning: Inverting hessian failed, no bse or cov_params available\n",
      "  warnings.warn('Inverting hessian failed, no bse or cov_params '\n",
      "C:\\Users\\Xiaoliu\\anaconda3\\lib\\site-packages\\statsmodels\\base\\model.py:547: HessianInversionWarning: Inverting hessian failed, no bse or cov_params available\n",
      "  warnings.warn('Inverting hessian failed, no bse or cov_params '\n"
     ]
    },
    {
     "data": {
      "text/html": [
       "<table class=\"simpletable\">\n",
       "<caption>Logit Regression Results</caption>\n",
       "<tr>\n",
       "  <th>Dep. Variable:</th>      <td>click_true</td>    <th>  No. Observations:  </th>  <td> 10000</td> \n",
       "</tr>\n",
       "<tr>\n",
       "  <th>Model:</th>                 <td>Logit</td>      <th>  Df Residuals:      </th>  <td>  9993</td> \n",
       "</tr>\n",
       "<tr>\n",
       "  <th>Method:</th>                 <td>MLE</td>       <th>  Df Model:          </th>  <td>     6</td> \n",
       "</tr>\n",
       "<tr>\n",
       "  <th>Date:</th>            <td>Sat, 22 May 2021</td> <th>  Pseudo R-squ.:     </th>  <td>   inf</td> \n",
       "</tr>\n",
       "<tr>\n",
       "  <th>Time:</th>                <td>22:25:53</td>     <th>  Log-Likelihood:    </th> <td>    -inf</td>\n",
       "</tr>\n",
       "<tr>\n",
       "  <th>converged:</th>             <td>True</td>       <th>  LL-Null:           </th> <td>  0.0000</td>\n",
       "</tr>\n",
       "<tr>\n",
       "  <th>Covariance Type:</th>     <td>nonrobust</td>    <th>  LLR p-value:       </th>  <td> 1.000</td> \n",
       "</tr>\n",
       "</table>\n",
       "<table class=\"simpletable\">\n",
       "<tr>\n",
       "           <td></td>             <th>coef</th>     <th>std err</th>      <th>z</th>      <th>P>|z|</th>  <th>[0.025</th>    <th>0.975]</th>  \n",
       "</tr>\n",
       "<tr>\n",
       "  <th>const</th>              <td>    1.1844</td> <td>    0.125</td> <td>    9.488</td> <td> 0.000</td> <td>    0.940</td> <td>    1.429</td>\n",
       "</tr>\n",
       "<tr>\n",
       "  <th>Insured_N</th>          <td>   -0.0445</td> <td>    0.083</td> <td>   -0.535</td> <td> 0.592</td> <td>   -0.207</td> <td>    0.118</td>\n",
       "</tr>\n",
       "<tr>\n",
       "  <th>Insured_Y</th>          <td>    0.0750</td> <td>    0.084</td> <td>    0.896</td> <td> 0.370</td> <td>   -0.089</td> <td>    0.239</td>\n",
       "</tr>\n",
       "<tr>\n",
       "  <th>Number of Vehicles</th> <td>   -0.0411</td> <td>    0.041</td> <td>   -1.009</td> <td> 0.313</td> <td>   -0.121</td> <td>    0.039</td>\n",
       "</tr>\n",
       "<tr>\n",
       "  <th>Number of Drivers</th>  <td>   -0.0483</td> <td>    0.058</td> <td>   -0.832</td> <td> 0.405</td> <td>   -0.162</td> <td>    0.065</td>\n",
       "</tr>\n",
       "<tr>\n",
       "  <th>Married</th>            <td>   -0.1469</td> <td>    0.057</td> <td>   -2.562</td> <td> 0.010</td> <td>   -0.259</td> <td>   -0.035</td>\n",
       "</tr>\n",
       "<tr>\n",
       "  <th>rank</th>               <td>   -0.9048</td> <td>    0.033</td> <td>  -27.718</td> <td> 0.000</td> <td>   -0.969</td> <td>   -0.841</td>\n",
       "</tr>\n",
       "</table>"
      ],
      "text/plain": [
       "<class 'statsmodels.iolib.summary.Summary'>\n",
       "\"\"\"\n",
       "                           Logit Regression Results                           \n",
       "==============================================================================\n",
       "Dep. Variable:             click_true   No. Observations:                10000\n",
       "Model:                          Logit   Df Residuals:                     9993\n",
       "Method:                           MLE   Df Model:                            6\n",
       "Date:                Sat, 22 May 2021   Pseudo R-squ.:                     inf\n",
       "Time:                        22:25:53   Log-Likelihood:                   -inf\n",
       "converged:                       True   LL-Null:                        0.0000\n",
       "Covariance Type:            nonrobust   LLR p-value:                     1.000\n",
       "======================================================================================\n",
       "                         coef    std err          z      P>|z|      [0.025      0.975]\n",
       "--------------------------------------------------------------------------------------\n",
       "const                  1.1844      0.125      9.488      0.000       0.940       1.429\n",
       "Insured_N             -0.0445      0.083     -0.535      0.592      -0.207       0.118\n",
       "Insured_Y              0.0750      0.084      0.896      0.370      -0.089       0.239\n",
       "Number of Vehicles    -0.0411      0.041     -1.009      0.313      -0.121       0.039\n",
       "Number of Drivers     -0.0483      0.058     -0.832      0.405      -0.162       0.065\n",
       "Married               -0.1469      0.057     -2.562      0.010      -0.259      -0.035\n",
       "rank                  -0.9048      0.033    -27.718      0.000      -0.969      -0.841\n",
       "======================================================================================\n",
       "\"\"\""
      ]
     },
     "execution_count": 16,
     "metadata": {},
     "output_type": "execute_result"
    }
   ],
   "source": [
    "## result summary\n",
    "result.summary()"
   ]
  },
  {
   "cell_type": "markdown",
   "metadata": {},
   "source": [
    "#### 2.1.1 click with interactions"
   ]
  },
  {
   "cell_type": "code",
   "execution_count": null,
   "metadata": {},
   "outputs": [],
   "source": []
  },
  {
   "cell_type": "code",
   "execution_count": null,
   "metadata": {},
   "outputs": [],
   "source": []
  },
  {
   "cell_type": "markdown",
   "metadata": {},
   "source": [
    "### 2.2. policies_sold"
   ]
  },
  {
   "cell_type": "markdown",
   "metadata": {},
   "source": [
    "#### 2.2.1. policies_sold without interactions"
   ]
  },
  {
   "cell_type": "code",
   "execution_count": 17,
   "metadata": {},
   "outputs": [
    {
     "name": "stdout",
     "output_type": "stream",
     "text": [
      "Optimization terminated successfully.\n",
      "         Current function value: 0.236854\n",
      "         Iterations 8\n"
     ]
    }
   ],
   "source": [
    "## 2.2 the outcome variable is \"policies_sold\"\n",
    "y = df['policies_sold'].copy()\n",
    "\n",
    "## define and fit the model\n",
    "model = sm.Logit(y, X)\n",
    "result = model.fit(method='newton')\n",
    "\n"
   ]
  },
  {
   "cell_type": "code",
   "execution_count": 18,
   "metadata": {},
   "outputs": [
    {
     "ename": "SyntaxError",
     "evalue": "unexpected EOF while parsing (<ipython-input-18-ad23dafc174a>, line 5)",
     "output_type": "error",
     "traceback": [
      "\u001b[1;36m  File \u001b[1;32m\"<ipython-input-18-ad23dafc174a>\"\u001b[1;36m, line \u001b[1;32m5\u001b[0m\n\u001b[1;33m    result = model.fit(method='newton'\u001b[0m\n\u001b[1;37m                                      ^\u001b[0m\n\u001b[1;31mSyntaxError\u001b[0m\u001b[1;31m:\u001b[0m unexpected EOF while parsing\n"
     ]
    }
   ],
   "source": [
    "y = df['policies_sold'].copy()\n",
    "\n",
    "## define and fit the model\n",
    "model = sm.Logit(y, X)\n",
    "result = model.fit(method='newton')"
   ]
  },
  {
   "cell_type": "markdown",
   "metadata": {},
   "source": [
    "#### 2.2.1 policies_sold with interactions"
   ]
  },
  {
   "cell_type": "code",
   "execution_count": null,
   "metadata": {},
   "outputs": [],
   "source": []
  },
  {
   "cell_type": "code",
   "execution_count": null,
   "metadata": {},
   "outputs": [],
   "source": []
  },
  {
   "cell_type": "markdown",
   "metadata": {},
   "source": [
    "## 3. Classification"
   ]
  },
  {
   "cell_type": "markdown",
   "metadata": {},
   "source": [
    "### 3.1 Logistic regression"
   ]
  },
  {
   "cell_type": "code",
   "execution_count": 35,
   "metadata": {},
   "outputs": [],
   "source": [
    "## 3.1 Logistic regression\n",
    "## import the package \n",
    "from sklearn.model_selection import train_test_split\n",
    "from sklearn.linear_model import LogisticRegression\n",
    "\n",
    "## Accuracy\n",
    "from sklearn.metrics import accuracy_score\n",
    "## Precision\n",
    "from sklearn.metrics import precision_score\n",
    "## Recall\n",
    "from sklearn.metrics import recall_score\n",
    "from sklearn.metrics import f1_score"
   ]
  },
  {
   "cell_type": "code",
   "execution_count": 36,
   "metadata": {},
   "outputs": [],
   "source": [
    "## train-test split\n",
    "X_train,X_test,y_train,y_test = train_test_split(X,y,\n",
    "                                                test_size=.2,\n",
    "                                                shuffle=True,\n",
    "                                                random_state=614,\n",
    "                                                stratify=y)"
   ]
  },
  {
   "cell_type": "code",
   "execution_count": 21,
   "metadata": {},
   "outputs": [
    {
     "data": {
      "text/plain": [
       "LogisticRegression()"
      ]
     },
     "execution_count": 21,
     "metadata": {},
     "output_type": "execute_result"
    }
   ],
   "source": [
    "## fit the model by using train dataset\n",
    "log_reg = LogisticRegression()\n",
    "log_reg.fit(X_train,y_train)"
   ]
  },
  {
   "cell_type": "code",
   "execution_count": 22,
   "metadata": {},
   "outputs": [],
   "source": [
    "def get_acc(y_pred,y_actual):\n",
    "    return np.sum(y_pred == y_actual)/len(y_actual)"
   ]
  },
  {
   "cell_type": "code",
   "execution_count": 23,
   "metadata": {},
   "outputs": [
    {
     "ename": "NameError",
     "evalue": "name 'StratifiedKFold' is not defined",
     "output_type": "error",
     "traceback": [
      "\u001b[1;31m---------------------------------------------------------------------------\u001b[0m",
      "\u001b[1;31mNameError\u001b[0m                                 Traceback (most recent call last)",
      "\u001b[1;32m<ipython-input-23-7c9c9796e4c8>\u001b[0m in \u001b[0;36m<module>\u001b[1;34m\u001b[0m\n\u001b[0;32m      1\u001b[0m \u001b[1;31m## cross validation\u001b[0m\u001b[1;33m\u001b[0m\u001b[1;33m\u001b[0m\u001b[1;33m\u001b[0m\u001b[0m\n\u001b[1;32m----> 2\u001b[1;33m \u001b[0mkfold\u001b[0m \u001b[1;33m=\u001b[0m \u001b[0mStratifiedKFold\u001b[0m\u001b[1;33m(\u001b[0m\u001b[1;36m5\u001b[0m\u001b[1;33m,\u001b[0m\u001b[0mshuffle\u001b[0m\u001b[1;33m=\u001b[0m\u001b[1;32mTrue\u001b[0m\u001b[1;33m,\u001b[0m\u001b[0mrandom_state\u001b[0m\u001b[1;33m=\u001b[0m\u001b[1;36m440\u001b[0m\u001b[1;33m)\u001b[0m\u001b[1;33m\u001b[0m\u001b[1;33m\u001b[0m\u001b[0m\n\u001b[0m\u001b[0;32m      3\u001b[0m \u001b[1;33m\u001b[0m\u001b[0m\n\u001b[0;32m      4\u001b[0m \u001b[1;33m\u001b[0m\u001b[0m\n\u001b[0;32m      5\u001b[0m \u001b[1;31m## cut-offs\u001b[0m\u001b[1;33m\u001b[0m\u001b[1;33m\u001b[0m\u001b[1;33m\u001b[0m\u001b[0m\n",
      "\u001b[1;31mNameError\u001b[0m: name 'StratifiedKFold' is not defined"
     ]
    }
   ],
   "source": [
    "## cross validation\n",
    "kfold = StratifiedKFold(5,shuffle=True,random_state=440)\n",
    "\n",
    "\n",
    "## cut-offs \n",
    "cutoffs = np.arange(0,1,.01)\n",
    "\n",
    "accs = np.zeros((5,len(cutoffs)))\n",
    "log_reg = LogisticRegression()\n",
    "\n",
    "i = 0\n",
    "\n",
    "for train_index,test_index in kfold.split(X_train,y_train):\n",
    "    X_train_train,X_train_test = X_train.iloc[train_index],X_train.iloc[test_index]\n",
    "    y_train_train,y_train_test = y_train.iloc[train_index],y_train.iloc[test_index]\n",
    "    \n",
    "    \n",
    "    for j in range(len(cutoffs)):\n",
    "        log_reg_clone = clone(log_reg)\n",
    "        log_reg_clone.fit(X_train_train,y_train_train)\n",
    "        probs = log_reg_clone.predict_proba(X_train_test)[:,1]\n",
    "        \n",
    "        y_pred = 1*(probs > cutoffs[j])\n",
    "        accs[i,j] = get_acc(y_pred,y_train_test)\n",
    "        \n",
    "    i=i+1"
   ]
  },
  {
   "cell_type": "code",
   "execution_count": 24,
   "metadata": {},
   "outputs": [
    {
     "ename": "NameError",
     "evalue": "name 'cutoffs' is not defined",
     "output_type": "error",
     "traceback": [
      "\u001b[1;31m---------------------------------------------------------------------------\u001b[0m",
      "\u001b[1;31mNameError\u001b[0m                                 Traceback (most recent call last)",
      "\u001b[1;32m<ipython-input-24-f89c160be0b9>\u001b[0m in \u001b[0;36m<module>\u001b[1;34m\u001b[0m\n\u001b[0;32m      4\u001b[0m \u001b[1;33m\u001b[0m\u001b[0m\n\u001b[0;32m      5\u001b[0m \u001b[1;33m\u001b[0m\u001b[0m\n\u001b[1;32m----> 6\u001b[1;33m \u001b[0mplt\u001b[0m\u001b[1;33m.\u001b[0m\u001b[0mplot\u001b[0m\u001b[1;33m(\u001b[0m\u001b[0mcutoffs\u001b[0m\u001b[1;33m,\u001b[0m\u001b[0mnp\u001b[0m\u001b[1;33m.\u001b[0m\u001b[0mmean\u001b[0m\u001b[1;33m(\u001b[0m\u001b[0maccs\u001b[0m\u001b[1;33m,\u001b[0m\u001b[0maxis\u001b[0m\u001b[1;33m=\u001b[0m\u001b[1;36m0\u001b[0m\u001b[1;33m)\u001b[0m\u001b[1;33m)\u001b[0m\u001b[1;33m\u001b[0m\u001b[1;33m\u001b[0m\u001b[0m\n\u001b[0m\u001b[0;32m      7\u001b[0m \u001b[1;33m\u001b[0m\u001b[0m\n\u001b[0;32m      8\u001b[0m \u001b[0mplt\u001b[0m\u001b[1;33m.\u001b[0m\u001b[0mxlabel\u001b[0m\u001b[1;33m(\u001b[0m\u001b[1;34m\"Cutoff\"\u001b[0m\u001b[1;33m,\u001b[0m \u001b[0mfontsize\u001b[0m\u001b[1;33m=\u001b[0m\u001b[1;36m16\u001b[0m\u001b[1;33m)\u001b[0m\u001b[1;33m\u001b[0m\u001b[1;33m\u001b[0m\u001b[0m\n",
      "\u001b[1;31mNameError\u001b[0m: name 'cutoffs' is not defined"
     ]
    },
    {
     "data": {
      "text/plain": [
       "<Figure size 720x576 with 0 Axes>"
      ]
     },
     "metadata": {},
     "output_type": "display_data"
    }
   ],
   "source": [
    "## plot the figure\n",
    "\n",
    "plt.figure(figsize=(10,8))\n",
    "\n",
    "\n",
    "plt.plot(cutoffs,np.mean(accs,axis=0))\n",
    "\n",
    "plt.xlabel(\"Cutoff\", fontsize=16)\n",
    "plt.ylabel(\"Mean CV Accuracy\", fontsize=16)\n",
    "plt.show()"
   ]
  },
  {
   "cell_type": "code",
   "execution_count": null,
   "metadata": {},
   "outputs": [],
   "source": [
    "print(\"The cutoff with highest mean CV accuracy was\",\n",
    "         cutoffs[np.argmax(np.mean(accs,axis=0))])"
   ]
  },
  {
   "cell_type": "code",
   "execution_count": null,
   "metadata": {},
   "outputs": [],
   "source": []
  }
 ],
 "metadata": {
  "kernelspec": {
   "display_name": "Python 3",
   "language": "python",
   "name": "python3"
  },
  "language_info": {
   "codemirror_mode": {
    "name": "ipython",
    "version": 3
   },
   "file_extension": ".py",
   "mimetype": "text/x-python",
   "name": "python",
   "nbconvert_exporter": "python",
   "pygments_lexer": "ipython3",
   "version": "3.8.5"
  },
  "metadata": {
   "interpreter": {
    "hash": "b026a24107c4fa174511a0e9ec01fca6bc879b7956827bc1964472816114dd20"
   }
  }
 },
 "nbformat": 4,
 "nbformat_minor": 4
}
