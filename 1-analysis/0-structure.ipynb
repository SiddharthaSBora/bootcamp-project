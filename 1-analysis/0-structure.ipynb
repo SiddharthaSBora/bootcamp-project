{
 "cells": [
  {
   "cell_type": "markdown",
   "metadata": {},
   "source": [
    "#  ERDŐS Data Camp Project: Root Insurance"
   ]
  },
  {
   "cell_type": "markdown",
   "metadata": {},
   "source": [
    "## 1. Summary Statistics"
   ]
  },
  {
   "cell_type": "markdown",
   "metadata": {},
   "source": [
    "### 1.1 Correlation between all pairs of variables\n",
    "### 1.2 All other variables based on Rank  \n",
    "### 1.3 All other variables based on Rank and Click\n",
    "### 1.4 Others?"
   ]
  },
  {
   "attachments": {},
   "cell_type": "markdown",
   "metadata": {},
   "source": [
    "## 2.Simple logit regression"
   ]
  },
  {
   "cell_type": "markdown",
   "metadata": {},
   "source": [
    "### 2.1\tUse click as outcome variable\n",
    "#### 2.1.1\tWithout interactions (rank)\n",
    "#### 2.1.2\tWith interactions (rank)\n",
    "##### 2.1.2.1\tTreat #vehicles and # drivers as continuous variables \n",
    "##### 2.1.2.2\tTreat #vehicles and # drivers as categorical variables \n",
    "### 2.2\tUse policies_sold as outcome variable\n",
    "#### 2.2.1\tWithout interactions (rank)\n",
    "#### 2.2.2\tWith interactions (rank)\n",
    "##### 2.2.2.1\tTreat #vehicles and # drivers as continuous variables \n",
    "##### 2.2.2.2\tTreat #vehicles and # drivers as categorical variables \n"
   ]
  },
  {
   "cell_type": "markdown",
   "metadata": {},
   "source": [
    "## 3. Classification\n",
    "### 3.1\tLogistic \n",
    "### 3.2\tDecision Tree\n",
    "### 3.3\tTBD..\n",
    "## 4\tBid distribution\n"
   ]
  },
  {
   "cell_type": "markdown",
   "metadata": {},
   "source": []
  },
  {
   "cell_type": "code",
   "execution_count": null,
   "metadata": {},
   "outputs": [],
   "source": []
  }
 ],
 "metadata": {
  "kernelspec": {
   "display_name": "Python 3",
   "language": "python",
   "name": "python3"
  },
  "language_info": {
   "codemirror_mode": {
    "name": "ipython",
    "version": 3
   },
   "file_extension": ".py",
   "mimetype": "text/x-python",
   "name": "python",
   "nbconvert_exporter": "python",
   "pygments_lexer": "ipython3",
   "version": "3.8.5"
  }
 },
 "nbformat": 4,
 "nbformat_minor": 4
}
