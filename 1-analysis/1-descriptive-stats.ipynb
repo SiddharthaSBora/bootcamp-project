{
 "metadata": {
  "language_info": {
   "codemirror_mode": {
    "name": "ipython",
    "version": 3
   },
   "file_extension": ".py",
   "mimetype": "text/x-python",
   "name": "python",
   "nbconvert_exporter": "python",
   "pygments_lexer": "ipython3",
   "version": "3.8.5"
  },
  "orig_nbformat": 2,
  "kernelspec": {
   "name": "python385jvsc74a57bd08b49ed87fb2652fce7dbcce54a54a9c2a858a0a8837db618f6b5dd634a25c951",
   "display_name": "Python 3.8.5 64-bit ('base': conda)"
  },
  "metadata": {
   "interpreter": {
    "hash": "b026a24107c4fa174511a0e9ec01fca6bc879b7956827bc1964472816114dd20"
   }
  }
 },
 "nbformat": 4,
 "nbformat_minor": 2,
 "cells": [
  {
   "cell_type": "code",
   "execution_count": 2,
   "metadata": {},
   "outputs": [],
   "source": [
    "import pandas as pd\n",
    "df = pd.read_csv('../0-data/Root_Insurance_data.csv')\n"
   ]
  },
  {
   "cell_type": "code",
   "execution_count": null,
   "metadata": {},
   "outputs": [],
   "source": [
    "Check data"
   ]
  },
  {
   "cell_type": "code",
   "execution_count": 3,
   "metadata": {},
   "outputs": [
    {
     "output_type": "execute_result",
     "data": {
      "text/plain": [
       "  Currently Insured  Number of Vehicles  Number of Drivers Marital Status  \\\n",
       "0           unknown                   2                  1              M   \n",
       "1                 Y                   3                  1              M   \n",
       "2                 Y                   3                  2              M   \n",
       "3                 N                   3                  2              S   \n",
       "4           unknown                   2                  2              S   \n",
       "\n",
       "    bid  rank  click  policies_sold  \n",
       "0  10.0     2  False              0  \n",
       "1  10.0     5  False              0  \n",
       "2  10.0     5  False              0  \n",
       "3  10.0     4  False              0  \n",
       "4  10.0     2  False              0  "
      ],
      "text/html": "<div>\n<style scoped>\n    .dataframe tbody tr th:only-of-type {\n        vertical-align: middle;\n    }\n\n    .dataframe tbody tr th {\n        vertical-align: top;\n    }\n\n    .dataframe thead th {\n        text-align: right;\n    }\n</style>\n<table border=\"1\" class=\"dataframe\">\n  <thead>\n    <tr style=\"text-align: right;\">\n      <th></th>\n      <th>Currently Insured</th>\n      <th>Number of Vehicles</th>\n      <th>Number of Drivers</th>\n      <th>Marital Status</th>\n      <th>bid</th>\n      <th>rank</th>\n      <th>click</th>\n      <th>policies_sold</th>\n    </tr>\n  </thead>\n  <tbody>\n    <tr>\n      <th>0</th>\n      <td>unknown</td>\n      <td>2</td>\n      <td>1</td>\n      <td>M</td>\n      <td>10.0</td>\n      <td>2</td>\n      <td>False</td>\n      <td>0</td>\n    </tr>\n    <tr>\n      <th>1</th>\n      <td>Y</td>\n      <td>3</td>\n      <td>1</td>\n      <td>M</td>\n      <td>10.0</td>\n      <td>5</td>\n      <td>False</td>\n      <td>0</td>\n    </tr>\n    <tr>\n      <th>2</th>\n      <td>Y</td>\n      <td>3</td>\n      <td>2</td>\n      <td>M</td>\n      <td>10.0</td>\n      <td>5</td>\n      <td>False</td>\n      <td>0</td>\n    </tr>\n    <tr>\n      <th>3</th>\n      <td>N</td>\n      <td>3</td>\n      <td>2</td>\n      <td>S</td>\n      <td>10.0</td>\n      <td>4</td>\n      <td>False</td>\n      <td>0</td>\n    </tr>\n    <tr>\n      <th>4</th>\n      <td>unknown</td>\n      <td>2</td>\n      <td>2</td>\n      <td>S</td>\n      <td>10.0</td>\n      <td>2</td>\n      <td>False</td>\n      <td>0</td>\n    </tr>\n  </tbody>\n</table>\n</div>"
     },
     "metadata": {},
     "execution_count": 3
    }
   ],
   "source": [
    "df.head()"
   ]
  },
  {
   "cell_type": "code",
   "execution_count": 4,
   "metadata": {},
   "outputs": [
    {
     "output_type": "execute_result",
     "data": {
      "text/plain": [
       "                    Number of Vehicles  Number of Drivers  bid      rank  \\\n",
       "Number of Vehicles            1.000000          -0.029474  NaN  0.399393   \n",
       "Number of Drivers            -0.029474           1.000000  NaN -0.076289   \n",
       "bid                                NaN                NaN  NaN       NaN   \n",
       "rank                          0.399393          -0.076289  NaN  1.000000   \n",
       "click                        -0.171822           0.021604  NaN -0.416046   \n",
       "policies_sold                -0.130380          -0.005525  NaN -0.262496   \n",
       "\n",
       "                       click  policies_sold  \n",
       "Number of Vehicles -0.171822      -0.130380  \n",
       "Number of Drivers   0.021604      -0.005525  \n",
       "bid                      NaN            NaN  \n",
       "rank               -0.416046      -0.262496  \n",
       "click               1.000000       0.606136  \n",
       "policies_sold       0.606136       1.000000  "
      ],
      "text/html": "<div>\n<style scoped>\n    .dataframe tbody tr th:only-of-type {\n        vertical-align: middle;\n    }\n\n    .dataframe tbody tr th {\n        vertical-align: top;\n    }\n\n    .dataframe thead th {\n        text-align: right;\n    }\n</style>\n<table border=\"1\" class=\"dataframe\">\n  <thead>\n    <tr style=\"text-align: right;\">\n      <th></th>\n      <th>Number of Vehicles</th>\n      <th>Number of Drivers</th>\n      <th>bid</th>\n      <th>rank</th>\n      <th>click</th>\n      <th>policies_sold</th>\n    </tr>\n  </thead>\n  <tbody>\n    <tr>\n      <th>Number of Vehicles</th>\n      <td>1.000000</td>\n      <td>-0.029474</td>\n      <td>NaN</td>\n      <td>0.399393</td>\n      <td>-0.171822</td>\n      <td>-0.130380</td>\n    </tr>\n    <tr>\n      <th>Number of Drivers</th>\n      <td>-0.029474</td>\n      <td>1.000000</td>\n      <td>NaN</td>\n      <td>-0.076289</td>\n      <td>0.021604</td>\n      <td>-0.005525</td>\n    </tr>\n    <tr>\n      <th>bid</th>\n      <td>NaN</td>\n      <td>NaN</td>\n      <td>NaN</td>\n      <td>NaN</td>\n      <td>NaN</td>\n      <td>NaN</td>\n    </tr>\n    <tr>\n      <th>rank</th>\n      <td>0.399393</td>\n      <td>-0.076289</td>\n      <td>NaN</td>\n      <td>1.000000</td>\n      <td>-0.416046</td>\n      <td>-0.262496</td>\n    </tr>\n    <tr>\n      <th>click</th>\n      <td>-0.171822</td>\n      <td>0.021604</td>\n      <td>NaN</td>\n      <td>-0.416046</td>\n      <td>1.000000</td>\n      <td>0.606136</td>\n    </tr>\n    <tr>\n      <th>policies_sold</th>\n      <td>-0.130380</td>\n      <td>-0.005525</td>\n      <td>NaN</td>\n      <td>-0.262496</td>\n      <td>0.606136</td>\n      <td>1.000000</td>\n    </tr>\n  </tbody>\n</table>\n</div>"
     },
     "metadata": {},
     "execution_count": 4
    }
   ],
   "source": [
    "df.corr()"
   ]
  }
 ]
}