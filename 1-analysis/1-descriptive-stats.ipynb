{
 "cells": [
  {
   "cell_type": "markdown",
   "metadata": {},
   "source": [
    "# Root Insurance Erdos Data Camp Project"
   ]
  },
  {
   "cell_type": "markdown",
   "metadata": {},
   "source": [
    "## Import packages "
   ]
  },
  {
   "cell_type": "code",
   "execution_count": 1,
   "metadata": {},
   "outputs": [],
   "source": [
    "# Import the package and data\n",
    "import pandas as pd\n",
    "import numpy as np \n",
    "\n",
    "## For plotting\n",
    "import matplotlib.pyplot as plt\n",
    "import seaborn as sns\n",
    "\n",
    "## This sets the plot style\n",
    "## to have a grid on a white background\n",
    "sns.set_style(\"whitegrid\")"
   ]
  },
  {
   "cell_type": "markdown",
   "metadata": {},
   "source": [
    "## 1. Summary statistics"
   ]
  },
  {
   "cell_type": "code",
   "execution_count": 2,
   "metadata": {},
   "outputs": [
    {
     "data": {
      "text/html": [
       "<div>\n",
       "<style scoped>\n",
       "    .dataframe tbody tr th:only-of-type {\n",
       "        vertical-align: middle;\n",
       "    }\n",
       "\n",
       "    .dataframe tbody tr th {\n",
       "        vertical-align: top;\n",
       "    }\n",
       "\n",
       "    .dataframe thead th {\n",
       "        text-align: right;\n",
       "    }\n",
       "</style>\n",
       "<table border=\"1\" class=\"dataframe\">\n",
       "  <thead>\n",
       "    <tr style=\"text-align: right;\">\n",
       "      <th></th>\n",
       "      <th>Currently Insured</th>\n",
       "      <th>Number of Vehicles</th>\n",
       "      <th>Number of Drivers</th>\n",
       "      <th>Marital Status</th>\n",
       "      <th>bid</th>\n",
       "      <th>rank</th>\n",
       "      <th>click</th>\n",
       "      <th>policies_sold</th>\n",
       "    </tr>\n",
       "  </thead>\n",
       "  <tbody>\n",
       "    <tr>\n",
       "      <th>0</th>\n",
       "      <td>unknown</td>\n",
       "      <td>2</td>\n",
       "      <td>1</td>\n",
       "      <td>M</td>\n",
       "      <td>10.0</td>\n",
       "      <td>2</td>\n",
       "      <td>False</td>\n",
       "      <td>0</td>\n",
       "    </tr>\n",
       "    <tr>\n",
       "      <th>1</th>\n",
       "      <td>Y</td>\n",
       "      <td>3</td>\n",
       "      <td>1</td>\n",
       "      <td>M</td>\n",
       "      <td>10.0</td>\n",
       "      <td>5</td>\n",
       "      <td>False</td>\n",
       "      <td>0</td>\n",
       "    </tr>\n",
       "    <tr>\n",
       "      <th>2</th>\n",
       "      <td>Y</td>\n",
       "      <td>3</td>\n",
       "      <td>2</td>\n",
       "      <td>M</td>\n",
       "      <td>10.0</td>\n",
       "      <td>5</td>\n",
       "      <td>False</td>\n",
       "      <td>0</td>\n",
       "    </tr>\n",
       "    <tr>\n",
       "      <th>3</th>\n",
       "      <td>N</td>\n",
       "      <td>3</td>\n",
       "      <td>2</td>\n",
       "      <td>S</td>\n",
       "      <td>10.0</td>\n",
       "      <td>4</td>\n",
       "      <td>False</td>\n",
       "      <td>0</td>\n",
       "    </tr>\n",
       "    <tr>\n",
       "      <th>4</th>\n",
       "      <td>unknown</td>\n",
       "      <td>2</td>\n",
       "      <td>2</td>\n",
       "      <td>S</td>\n",
       "      <td>10.0</td>\n",
       "      <td>2</td>\n",
       "      <td>False</td>\n",
       "      <td>0</td>\n",
       "    </tr>\n",
       "  </tbody>\n",
       "</table>\n",
       "</div>"
      ],
      "text/plain": [
       "  Currently Insured  Number of Vehicles  Number of Drivers Marital Status  \\\n",
       "0           unknown                   2                  1              M   \n",
       "1                 Y                   3                  1              M   \n",
       "2                 Y                   3                  2              M   \n",
       "3                 N                   3                  2              S   \n",
       "4           unknown                   2                  2              S   \n",
       "\n",
       "    bid  rank  click  policies_sold  \n",
       "0  10.0     2  False              0  \n",
       "1  10.0     5  False              0  \n",
       "2  10.0     5  False              0  \n",
       "3  10.0     4  False              0  \n",
       "4  10.0     2  False              0  "
      ]
     },
     "execution_count": 2,
     "metadata": {},
     "output_type": "execute_result"
    }
   ],
   "source": [
    "## check the data \n",
    "df = pd.read_csv('../0-data/Root_Insurance_data.csv')\n",
    "df.head()"
   ]
  },
  {
   "cell_type": "code",
   "execution_count": 13,
   "metadata": {},
   "outputs": [
    {
     "name": "stdout",
     "output_type": "stream",
     "text": [
      "<class 'pandas.core.frame.DataFrame'>\n",
      "RangeIndex: 10000 entries, 0 to 9999\n",
      "Data columns (total 8 columns):\n",
      " #   Column              Non-Null Count  Dtype  \n",
      "---  ------              --------------  -----  \n",
      " 0   Currently Insured   10000 non-null  object \n",
      " 1   Number of Vehicles  10000 non-null  int64  \n",
      " 2   Number of Drivers   10000 non-null  int64  \n",
      " 3   Marital Status      10000 non-null  object \n",
      " 4   bid                 10000 non-null  float64\n",
      " 5   rank                10000 non-null  int64  \n",
      " 6   click               10000 non-null  bool   \n",
      " 7   policies_sold       10000 non-null  int64  \n",
      "dtypes: bool(1), float64(1), int64(4), object(2)\n",
      "memory usage: 556.8+ KB\n",
      "\n",
      "Index(['Currently Insured', 'Number of Vehicles', 'Number of Drivers',\n",
      "       'Marital Status', 'bid', 'rank', 'click', 'policies_sold'],\n",
      "      dtype='object')\n",
      "\n",
      "(10000, 8)\n",
      "\n"
     ]
    }
   ],
   "source": [
    "## check the dataframe infor\n",
    "df.info()\n",
    "print()\n",
    "\n",
    "## check the columns\n",
    "print(df.columns)\n",
    "print()\n",
    "\n",
    "## check the dimension\n",
    "print(df.shape)\n",
    "print()"
   ]
  },
  {
   "cell_type": "code",
   "execution_count": 14,
   "metadata": {},
   "outputs": [
    {
     "data": {
      "text/html": [
       "<div>\n",
       "<style scoped>\n",
       "    .dataframe tbody tr th:only-of-type {\n",
       "        vertical-align: middle;\n",
       "    }\n",
       "\n",
       "    .dataframe tbody tr th {\n",
       "        vertical-align: top;\n",
       "    }\n",
       "\n",
       "    .dataframe thead th {\n",
       "        text-align: right;\n",
       "    }\n",
       "</style>\n",
       "<table border=\"1\" class=\"dataframe\">\n",
       "  <thead>\n",
       "    <tr style=\"text-align: right;\">\n",
       "      <th></th>\n",
       "      <th>Number of Vehicles</th>\n",
       "      <th>Number of Drivers</th>\n",
       "      <th>bid</th>\n",
       "      <th>rank</th>\n",
       "      <th>click</th>\n",
       "      <th>policies_sold</th>\n",
       "    </tr>\n",
       "  </thead>\n",
       "  <tbody>\n",
       "    <tr>\n",
       "      <th>Number of Vehicles</th>\n",
       "      <td>1.000000</td>\n",
       "      <td>-0.029474</td>\n",
       "      <td>NaN</td>\n",
       "      <td>0.399393</td>\n",
       "      <td>-0.171822</td>\n",
       "      <td>-0.130380</td>\n",
       "    </tr>\n",
       "    <tr>\n",
       "      <th>Number of Drivers</th>\n",
       "      <td>-0.029474</td>\n",
       "      <td>1.000000</td>\n",
       "      <td>NaN</td>\n",
       "      <td>-0.076289</td>\n",
       "      <td>0.021604</td>\n",
       "      <td>-0.005525</td>\n",
       "    </tr>\n",
       "    <tr>\n",
       "      <th>bid</th>\n",
       "      <td>NaN</td>\n",
       "      <td>NaN</td>\n",
       "      <td>NaN</td>\n",
       "      <td>NaN</td>\n",
       "      <td>NaN</td>\n",
       "      <td>NaN</td>\n",
       "    </tr>\n",
       "    <tr>\n",
       "      <th>rank</th>\n",
       "      <td>0.399393</td>\n",
       "      <td>-0.076289</td>\n",
       "      <td>NaN</td>\n",
       "      <td>1.000000</td>\n",
       "      <td>-0.416046</td>\n",
       "      <td>-0.262496</td>\n",
       "    </tr>\n",
       "    <tr>\n",
       "      <th>click</th>\n",
       "      <td>-0.171822</td>\n",
       "      <td>0.021604</td>\n",
       "      <td>NaN</td>\n",
       "      <td>-0.416046</td>\n",
       "      <td>1.000000</td>\n",
       "      <td>0.606136</td>\n",
       "    </tr>\n",
       "    <tr>\n",
       "      <th>policies_sold</th>\n",
       "      <td>-0.130380</td>\n",
       "      <td>-0.005525</td>\n",
       "      <td>NaN</td>\n",
       "      <td>-0.262496</td>\n",
       "      <td>0.606136</td>\n",
       "      <td>1.000000</td>\n",
       "    </tr>\n",
       "  </tbody>\n",
       "</table>\n",
       "</div>"
      ],
      "text/plain": [
       "                    Number of Vehicles  Number of Drivers  bid      rank  \\\n",
       "Number of Vehicles            1.000000          -0.029474  NaN  0.399393   \n",
       "Number of Drivers            -0.029474           1.000000  NaN -0.076289   \n",
       "bid                                NaN                NaN  NaN       NaN   \n",
       "rank                          0.399393          -0.076289  NaN  1.000000   \n",
       "click                        -0.171822           0.021604  NaN -0.416046   \n",
       "policies_sold                -0.130380          -0.005525  NaN -0.262496   \n",
       "\n",
       "                       click  policies_sold  \n",
       "Number of Vehicles -0.171822      -0.130380  \n",
       "Number of Drivers   0.021604      -0.005525  \n",
       "bid                      NaN            NaN  \n",
       "rank               -0.416046      -0.262496  \n",
       "click               1.000000       0.606136  \n",
       "policies_sold       0.606136       1.000000  "
      ]
     },
     "execution_count": 14,
     "metadata": {},
     "output_type": "execute_result"
    }
   ],
   "source": [
    "## check the correlation\n",
    "df.corr()"
   ]
  },
  {
   "cell_type": "code",
   "execution_count": 15,
   "metadata": {},
   "outputs": [],
   "source": [
    "## INCOMPLETE: Brian Working from here tomorrow\n",
    "### Note: Create categorical (factor) versions of descriptors\n",
    "varlist = [\"Currently Insured\", \"Number of Vehicles\", \"Number of Drivers\", \"Marital Status\"]\n",
    "for i in varlist:\n",
    "    j     = i + \"_Cat\"\n",
    "    df[j] = pd.Categorical(df[i])\n",
    "    \n",
    "### Note: Create dummies for Different Vars\n",
    "df[\"Married\"]                = pd.get_dummies(df[\"Marital Status\"])[\"M\"]\n",
    "df[[\"Insured\", \"Uninsured\"]] = pd.get_dummies(df[\"Currently Insured\"])[[\"Y\", \"N\"]]\n",
    "df[\"MultDrivers\"]            = pd.get_dummies(df[\"Number of Drivers_Cat\"])[2]\n",
    "df[[\"TwoVehicles\", \"ThreeVehicles\"]] = pd.get_dummies(df[\"Number of Vehicles\"])[[2, 3]]\n",
    "\n",
    "### Note: Create Unique Identifier for groups; count instances\n",
    "temploc  = df.columns.get_loc(\"Married\")\n",
    "temploc2 = len(df.columns)-1\n",
    "df_temp  = df.iloc[:,temploc:temploc2].drop_duplicates().reset_index(drop = True)\n",
    "df_temp  = df_temp.astype(str)\n",
    "\n",
    "#df[\"Group\"] = \"\"\n",
    "#for i in range(0,df_temp.shape[0]):\n",
    " #   for j in range(0,df.shape[0]):\n",
    "#        tempvec  = ''.join(df_temp.iloc[i,].values)\n",
    "#        tempvec2 = ''.join(df.iloc[j,temploc:temploc2].astype(str).values)\n",
    "#        if tempvec == tempvec2:\n",
    "#            df.iloc[j,\"Group\"] = chr(i)\n",
    "\n"
   ]
  },
  {
   "cell_type": "code",
   "execution_count": null,
   "metadata": {},
   "outputs": [],
   "source": [
    "insured = df.groupby(['rank', 'policies_sold'])['Currently Insured'].count()\n",
    "import seaborn \n",
    "from matplotlib import pyplot as plt\n",
    "insured.unstack().plot()\n",
    "plt.xticks(rotation=45)\n",
    "plt.title(\"Currently insured count\")\n",
    "plt.show()\n"
   ]
  },
  {
   "cell_type": "code",
   "execution_count": null,
   "metadata": {},
   "outputs": [],
   "source": [
    "insured = df.groupby(['rank', 'click'])['Currently Insured'].count()\n",
    "import seaborn \n",
    "from matplotlib import pyplot as plt\n",
    "insured.unstack().plot()\n",
    "plt.xticks(rotation=45)\n",
    "plt.title(\"Currently insured count\")\n",
    "plt.show()"
   ]
  },
  {
   "cell_type": "code",
   "execution_count": null,
   "metadata": {},
   "outputs": [],
   "source": [
    "vehicle = df.groupby(['rank', 'policies_sold'])['Number of Vehicles'].mean()\n",
    "import seaborn \n",
    "from matplotlib import pyplot as plt\n",
    "vehicle.unstack().plot()\n",
    "plt.xticks(rotation=45)\n",
    "plt.title(\"number of vehicle mean\")\n",
    "plt.show()"
   ]
  },
  {
   "cell_type": "code",
   "execution_count": null,
   "metadata": {},
   "outputs": [],
   "source": [
    "drivers = df.groupby(['rank', 'policies_sold'])['Number of Drivers'].mean()\n",
    "import seaborn \n",
    "from matplotlib import pyplot as plt\n",
    "drivers.unstack().plot()\n",
    "plt.xticks(rotation=45)\n",
    "plt.title(\"Number of Drivers mean\")\n",
    "plt.show()"
   ]
  },
  {
   "cell_type": "code",
   "execution_count": null,
   "metadata": {},
   "outputs": [],
   "source": [
    "\n",
    "        \n",
    "Marital = df.groupby(['rank', 'policies_sold'])['Marital Status'].count()\n",
    "import seaborn \n",
    "from matplotlib import pyplot as plt\n",
    "Marital.unstack().plot()\n",
    "plt.xticks(rotation=45)\n",
    "plt.title(\"Marital Status count\")\n",
    "plt.show()"
   ]
  },
  {
   "cell_type": "code",
   "execution_count": null,
   "metadata": {},
   "outputs": [],
   "source": [
    "\n",
    "        \n",
    "click = df.groupby(['rank', 'policies_sold'])['click'].count()\n",
    "import seaborn \n",
    "from matplotlib import pyplot as plt\n",
    "click.unstack().plot()\n",
    "plt.xticks(rotation=45)\n",
    "plt.title(\"click count\")\n",
    "plt.show()"
   ]
  },
  {
   "cell_type": "code",
   "execution_count": null,
   "metadata": {},
   "outputs": [],
   "source": []
  },
  {
   "cell_type": "markdown",
   "metadata": {},
   "source": [
    "descriptive information about variables by rank "
   ]
  },
  {
   "cell_type": "code",
   "execution_count": null,
   "metadata": {},
   "outputs": [],
   "source": [
    "## summary statistics of all other variables based on Rank  \n",
    "df.groupby(['rank']).agg(\n",
    "{'Currently Insured':\"count\",\n",
    " 'Number of Vehicles':[min,max,sum],\n",
    " 'Number of Drivers':[min,max,sum],\n",
    " 'Marital Status':\"count\",\n",
    " 'click':\"count\",\n",
    " 'policies_sold':\"sum\"\n",
    "}\n",
    ")"
   ]
  },
  {
   "cell_type": "code",
   "execution_count": null,
   "metadata": {},
   "outputs": [],
   "source": [
    "df.groupby(['rank']).describe()"
   ]
  },
  {
   "cell_type": "code",
   "execution_count": null,
   "metadata": {},
   "outputs": [],
   "source": [
    "df.groupby(['rank'])['Number of Vehicles'].mean()"
   ]
  },
  {
   "cell_type": "code",
   "execution_count": null,
   "metadata": {},
   "outputs": [],
   "source": [
    "df.groupby(['rank'])['Number of Drivers'].mean()"
   ]
  },
  {
   "cell_type": "code",
   "execution_count": null,
   "metadata": {},
   "outputs": [],
   "source": [
    "df.groupby(['rank'])['Policies_sold'].mean()"
   ]
  },
  {
   "cell_type": "code",
   "execution_count": null,
   "metadata": {},
   "outputs": [],
   "source": [
    "df.groupby(['rank'])['Currently Insured'].mean()"
   ]
  },
  {
   "cell_type": "code",
   "execution_count": null,
   "metadata": {},
   "outputs": [],
   "source": [
    "## summary statistics of all other variables based on Rank and Click \n",
    "df.groupby(['rank','click']).agg(\n",
    "{'click':\"sum\",\n",
    " 'Currently Insured':\"count\",\n",
    " 'Number of Vehicles':[min,max,sum],\n",
    " 'Number of Drivers':[min,max,sum],\n",
    " 'Marital Status':\"count\",\n",
    " 'policies_sold':\"sum\"\n",
    "}\n",
    ")\n",
    "\n",
    "# any thoughts here? feel free to add yours \n",
    "# company can sell the policy only if the ad is clicked \n",
    "# increase the rank based on attributes \n",
    "# we can just ignore default price here? cause it doesn't matter"
   ]
  },
  {
   "cell_type": "code",
   "execution_count": null,
   "metadata": {},
   "outputs": [],
   "source": [
    "## calculate click-through-rate (CTR)\n",
    "### It is the ratio of sum of the number of clicks over the number of total observations.\n",
    "ctr = df.click.value_counts(\"True\")\n",
    "print(ctr)"
   ]
  },
  {
   "cell_type": "code",
   "execution_count": null,
   "metadata": {},
   "outputs": [],
   "source": [
    "### Note: Plot distributions for "
   ]
  },
  {
   "cell_type": "markdown",
   "metadata": {},
   "source": [
    "## 2. Simple logistic regression"
   ]
  },
  {
   "cell_type": "code",
   "execution_count": null,
   "metadata": {},
   "outputs": [],
   "source": [
    "## import the package\n",
    "import statsmodels.api as sm"
   ]
  },
  {
   "cell_type": "code",
   "execution_count": null,
   "metadata": {},
   "outputs": [],
   "source": [
    "## Data clean\n",
    "## Currently Insured: categorical/unknow, N, Y\n",
    "## Number of Vehicles: ordinal\n",
    "## Number of Drivers: ordinal\n",
    "## Marital Status: categorical/ M, S\n",
    "## rank: ordinal\n",
    "\n",
    "## There are two ways to run regressions when having categorial variables in datasets.\n",
    "## 1. Delete those categorical variables.\n",
    "## 2. Keep them but generate dummy variables. \n",
    "## since we don't have much features in our dataset, i would go for dummies.\n",
    "\n",
    "## Create dummies for Currently Insured and Marital Status. \n",
    "## 1. For Currently Insured, i left \"unknow\" as baseline case. So Insured_N, and Insured_Y are created and included. \n",
    "## 2. For Marital Status, i left \"S\" as baseline case. So Married are created and included. \n",
    "## For the other variables I would treat them as ordinal.\n",
    "\n",
    "pd.get_dummies(df['Currently Insured'])\n",
    "df['Insured_N'] = pd.get_dummies(df['Currently Insured'])['N']\n",
    "df['Insured_Y'] = pd.get_dummies(df['Currently Insured'])['Y']\n",
    "\n",
    "pd.get_dummies(df['Marital Status'])\n",
    "df['Married'] = pd.get_dummies(df['Marital Status'])['M']\n",
    "\n",
    "pd.get_dummies(df['click'])\n",
    "df['click_true'] = pd.get_dummies(df['click'])[True]\n",
    "\n",
    "df.head()\n"
   ]
  },
  {
   "cell_type": "markdown",
   "metadata": {},
   "source": [
    "### 2.1. click "
   ]
  },
  {
   "cell_type": "markdown",
   "metadata": {},
   "source": [
    "#### 2.1.1 click without interactions"
   ]
  },
  {
   "cell_type": "code",
   "execution_count": null,
   "metadata": {},
   "outputs": [],
   "source": [
    "## define X and Y\n",
    "\n",
    "X = df[['Insured_N', 'Insured_Y', 'Number of Vehicles', 'Number of Drivers', 'Married','rank']].copy()\n",
    "X = sm.add_constant(X)\n",
    "y = df['click_true'].copy()\n",
    "\n",
    "## define and fit the model\n",
    "model = sm.Logit(y, X)\n",
    "result = model.fit(method='newton')\n"
   ]
  },
  {
   "cell_type": "code",
   "execution_count": null,
   "metadata": {},
   "outputs": [],
   "source": [
    "## result summary\n",
    "result.summary()"
   ]
  },
  {
   "cell_type": "markdown",
   "metadata": {},
   "source": [
    "#### 2.1.1 click with interactions"
   ]
  },
  {
   "cell_type": "code",
   "execution_count": null,
   "metadata": {},
   "outputs": [],
   "source": []
  },
  {
   "cell_type": "code",
   "execution_count": null,
   "metadata": {},
   "outputs": [],
   "source": []
  },
  {
   "cell_type": "markdown",
   "metadata": {},
   "source": [
    "### 2.2. policies_sold"
   ]
  },
  {
   "cell_type": "markdown",
   "metadata": {},
   "source": [
    "#### 2.2.1. policies_sold without interactions"
   ]
  },
  {
   "cell_type": "code",
   "execution_count": null,
   "metadata": {},
   "outputs": [],
   "source": [
    "## 2.2 the outcome variable is \"policies_sold\"\n",
    "y = df['policies_sold'].copy()\n",
    "\n",
    "## define and fit the model\n",
    "model = sm.Logit(y, X)\n",
    "result = model.fit(method='newton')\n",
    "\n"
   ]
  },
  {
   "cell_type": "code",
   "execution_count": null,
   "metadata": {},
   "outputs": [],
   "source": [
    "y = df['policies_sold'].copy()\n",
    "\n",
    "## define and fit the model\n",
    "model = sm.Logit(y, X)\n",
    "result = model.fit(method='newton')"
   ]
  },
  {
   "cell_type": "markdown",
   "metadata": {},
   "source": [
    "#### 2.2.1 policies_sold with interactions"
   ]
  },
  {
   "cell_type": "code",
   "execution_count": null,
   "metadata": {},
   "outputs": [],
   "source": []
  },
  {
   "cell_type": "code",
   "execution_count": null,
   "metadata": {},
   "outputs": [],
   "source": []
  },
  {
   "cell_type": "markdown",
   "metadata": {},
   "source": [
    "## 3. Classification"
   ]
  },
  {
   "cell_type": "markdown",
   "metadata": {},
   "source": [
    "### 3.1 Logistic regression"
   ]
  },
  {
   "cell_type": "code",
   "execution_count": null,
   "metadata": {},
   "outputs": [],
   "source": [
    "## 3.1 Logistic regression\n",
    "## import the package \n",
    "from sklearn.model_selection import train_test_split\n",
    "from sklearn.linear_model import LogisticRegression\n",
    "\n",
    "## Accuracy\n",
    "from sklearn.metrics import accuracy_score\n",
    "## Precision\n",
    "from sklearn.metrics import precision_score\n",
    "## Recall\n",
    "from sklearn.metrics import recall_score\n",
    "from sklearn.metrics import f1_score"
   ]
  },
  {
   "cell_type": "code",
   "execution_count": null,
   "metadata": {},
   "outputs": [],
   "source": [
    "## train-test split\n",
    "X_train,X_test,y_train,y_test = train_test_split(X,y,\n",
    "                                                test_size=.2,\n",
    "                                                shuffle=True,\n",
    "                                                random_state=614,\n",
    "                                                stratify=y)"
   ]
  },
  {
   "cell_type": "code",
   "execution_count": null,
   "metadata": {},
   "outputs": [],
   "source": [
    "## fit the model by using train dataset\n",
    "log_reg = LogisticRegression()\n",
    "log_reg.fit(X_train,y_train)"
   ]
  },
  {
   "cell_type": "code",
   "execution_count": null,
   "metadata": {},
   "outputs": [],
   "source": [
    "def get_acc(y_pred,y_actual):\n",
    "    return np.sum(y_pred == y_actual)/len(y_actual)"
   ]
  },
  {
   "cell_type": "code",
   "execution_count": null,
   "metadata": {},
   "outputs": [],
   "source": [
    "## cross validation\n",
    "kfold = StratifiedKFold(5,shuffle=True,random_state=440)\n",
    "\n",
    "\n",
    "## cut-offs \n",
    "cutoffs = np.arange(0,1,.01)\n",
    "\n",
    "accs = np.zeros((5,len(cutoffs)))\n",
    "log_reg = LogisticRegression()\n",
    "\n",
    "i = 0\n",
    "\n",
    "for train_index,test_index in kfold.split(X_train,y_train):\n",
    "    X_train_train,X_train_test = X_train.iloc[train_index],X_train.iloc[test_index]\n",
    "    y_train_train,y_train_test = y_train.iloc[train_index],y_train.iloc[test_index]\n",
    "    \n",
    "    \n",
    "    for j in range(len(cutoffs)):\n",
    "        log_reg_clone = clone(log_reg)\n",
    "        log_reg_clone.fit(X_train_train,y_train_train)\n",
    "        probs = log_reg_clone.predict_proba(X_train_test)[:,1]\n",
    "        \n",
    "        y_pred = 1*(probs > cutoffs[j])\n",
    "        accs[i,j] = get_acc(y_pred,y_train_test)\n",
    "        \n",
    "    i=i+1"
   ]
  },
  {
   "cell_type": "code",
   "execution_count": null,
   "metadata": {},
   "outputs": [],
   "source": [
    "## plot the figure\n",
    "\n",
    "plt.figure(figsize=(10,8))\n",
    "\n",
    "\n",
    "plt.plot(cutoffs,np.mean(accs,axis=0))\n",
    "\n",
    "plt.xlabel(\"Cutoff\", fontsize=16)\n",
    "plt.ylabel(\"Mean CV Accuracy\", fontsize=16)\n",
    "plt.show()"
   ]
  },
  {
   "cell_type": "code",
   "execution_count": null,
   "metadata": {},
   "outputs": [],
   "source": [
    "print(\"The cutoff with highest mean CV accuracy was\",\n",
    "         cutoffs[np.argmax(np.mean(accs,axis=0))])"
   ]
  },
  {
   "cell_type": "code",
   "execution_count": null,
   "metadata": {},
   "outputs": [],
   "source": []
  }
 ],
 "metadata": {
  "kernelspec": {
   "display_name": "Python 3",
   "language": "python",
   "name": "python3"
  },
  "language_info": {
   "codemirror_mode": {
    "name": "ipython",
    "version": 3
   },
   "file_extension": ".py",
   "mimetype": "text/x-python",
   "name": "python",
   "nbconvert_exporter": "python",
   "pygments_lexer": "ipython3",
   "version": "3.8.5"
  },
  "metadata": {
   "interpreter": {
    "hash": "b026a24107c4fa174511a0e9ec01fca6bc879b7956827bc1964472816114dd20"
   }
  }
 },
 "nbformat": 4,
 "nbformat_minor": 4
}
