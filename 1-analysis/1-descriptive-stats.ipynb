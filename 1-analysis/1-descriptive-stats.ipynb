{
 "cells": [
  {
   "cell_type": "code",
   "execution_count": 1,
   "metadata": {},
   "outputs": [],
   "source": [
    "import pandas as pd\n",
    "import numpy as np \n",
    " \n",
    "df = pd.read_csv('../0-data/Root_Insurance_data.csv')\n"
   ]
  },
  {
   "cell_type": "markdown",
   "metadata": {},
   "source": [
    "Check data"
   ]
  },
  {
   "cell_type": "code",
   "execution_count": 2,
   "metadata": {},
   "outputs": [
    {
     "data": {
      "text/html": [
       "<div>\n",
       "<style scoped>\n",
       "    .dataframe tbody tr th:only-of-type {\n",
       "        vertical-align: middle;\n",
       "    }\n",
       "\n",
       "    .dataframe tbody tr th {\n",
       "        vertical-align: top;\n",
       "    }\n",
       "\n",
       "    .dataframe thead th {\n",
       "        text-align: right;\n",
       "    }\n",
       "</style>\n",
       "<table border=\"1\" class=\"dataframe\">\n",
       "  <thead>\n",
       "    <tr style=\"text-align: right;\">\n",
       "      <th></th>\n",
       "      <th>Currently Insured</th>\n",
       "      <th>Number of Vehicles</th>\n",
       "      <th>Number of Drivers</th>\n",
       "      <th>Marital Status</th>\n",
       "      <th>bid</th>\n",
       "      <th>rank</th>\n",
       "      <th>click</th>\n",
       "      <th>policies_sold</th>\n",
       "    </tr>\n",
       "  </thead>\n",
       "  <tbody>\n",
       "    <tr>\n",
       "      <th>0</th>\n",
       "      <td>unknown</td>\n",
       "      <td>2</td>\n",
       "      <td>1</td>\n",
       "      <td>M</td>\n",
       "      <td>10.0</td>\n",
       "      <td>2</td>\n",
       "      <td>False</td>\n",
       "      <td>0</td>\n",
       "    </tr>\n",
       "    <tr>\n",
       "      <th>1</th>\n",
       "      <td>Y</td>\n",
       "      <td>3</td>\n",
       "      <td>1</td>\n",
       "      <td>M</td>\n",
       "      <td>10.0</td>\n",
       "      <td>5</td>\n",
       "      <td>False</td>\n",
       "      <td>0</td>\n",
       "    </tr>\n",
       "    <tr>\n",
       "      <th>2</th>\n",
       "      <td>Y</td>\n",
       "      <td>3</td>\n",
       "      <td>2</td>\n",
       "      <td>M</td>\n",
       "      <td>10.0</td>\n",
       "      <td>5</td>\n",
       "      <td>False</td>\n",
       "      <td>0</td>\n",
       "    </tr>\n",
       "    <tr>\n",
       "      <th>3</th>\n",
       "      <td>N</td>\n",
       "      <td>3</td>\n",
       "      <td>2</td>\n",
       "      <td>S</td>\n",
       "      <td>10.0</td>\n",
       "      <td>4</td>\n",
       "      <td>False</td>\n",
       "      <td>0</td>\n",
       "    </tr>\n",
       "    <tr>\n",
       "      <th>4</th>\n",
       "      <td>unknown</td>\n",
       "      <td>2</td>\n",
       "      <td>2</td>\n",
       "      <td>S</td>\n",
       "      <td>10.0</td>\n",
       "      <td>2</td>\n",
       "      <td>False</td>\n",
       "      <td>0</td>\n",
       "    </tr>\n",
       "  </tbody>\n",
       "</table>\n",
       "</div>"
      ],
      "text/plain": [
       "  Currently Insured  Number of Vehicles  Number of Drivers Marital Status  \\\n",
       "0           unknown                   2                  1              M   \n",
       "1                 Y                   3                  1              M   \n",
       "2                 Y                   3                  2              M   \n",
       "3                 N                   3                  2              S   \n",
       "4           unknown                   2                  2              S   \n",
       "\n",
       "    bid  rank  click  policies_sold  \n",
       "0  10.0     2  False              0  \n",
       "1  10.0     5  False              0  \n",
       "2  10.0     5  False              0  \n",
       "3  10.0     4  False              0  \n",
       "4  10.0     2  False              0  "
      ]
     },
     "execution_count": 2,
     "metadata": {},
     "output_type": "execute_result"
    }
   ],
   "source": [
    "df.head()"
   ]
  },
  {
   "cell_type": "code",
   "execution_count": 3,
   "metadata": {},
   "outputs": [
    {
     "data": {
      "text/html": [
       "<div>\n",
       "<style scoped>\n",
       "    .dataframe tbody tr th:only-of-type {\n",
       "        vertical-align: middle;\n",
       "    }\n",
       "\n",
       "    .dataframe tbody tr th {\n",
       "        vertical-align: top;\n",
       "    }\n",
       "\n",
       "    .dataframe thead th {\n",
       "        text-align: right;\n",
       "    }\n",
       "</style>\n",
       "<table border=\"1\" class=\"dataframe\">\n",
       "  <thead>\n",
       "    <tr style=\"text-align: right;\">\n",
       "      <th></th>\n",
       "      <th>Number of Vehicles</th>\n",
       "      <th>Number of Drivers</th>\n",
       "      <th>bid</th>\n",
       "      <th>rank</th>\n",
       "      <th>click</th>\n",
       "      <th>policies_sold</th>\n",
       "    </tr>\n",
       "  </thead>\n",
       "  <tbody>\n",
       "    <tr>\n",
       "      <th>Number of Vehicles</th>\n",
       "      <td>1.000000</td>\n",
       "      <td>-0.029474</td>\n",
       "      <td>NaN</td>\n",
       "      <td>0.399393</td>\n",
       "      <td>-0.171822</td>\n",
       "      <td>-0.130380</td>\n",
       "    </tr>\n",
       "    <tr>\n",
       "      <th>Number of Drivers</th>\n",
       "      <td>-0.029474</td>\n",
       "      <td>1.000000</td>\n",
       "      <td>NaN</td>\n",
       "      <td>-0.076289</td>\n",
       "      <td>0.021604</td>\n",
       "      <td>-0.005525</td>\n",
       "    </tr>\n",
       "    <tr>\n",
       "      <th>bid</th>\n",
       "      <td>NaN</td>\n",
       "      <td>NaN</td>\n",
       "      <td>NaN</td>\n",
       "      <td>NaN</td>\n",
       "      <td>NaN</td>\n",
       "      <td>NaN</td>\n",
       "    </tr>\n",
       "    <tr>\n",
       "      <th>rank</th>\n",
       "      <td>0.399393</td>\n",
       "      <td>-0.076289</td>\n",
       "      <td>NaN</td>\n",
       "      <td>1.000000</td>\n",
       "      <td>-0.416046</td>\n",
       "      <td>-0.262496</td>\n",
       "    </tr>\n",
       "    <tr>\n",
       "      <th>click</th>\n",
       "      <td>-0.171822</td>\n",
       "      <td>0.021604</td>\n",
       "      <td>NaN</td>\n",
       "      <td>-0.416046</td>\n",
       "      <td>1.000000</td>\n",
       "      <td>0.606136</td>\n",
       "    </tr>\n",
       "    <tr>\n",
       "      <th>policies_sold</th>\n",
       "      <td>-0.130380</td>\n",
       "      <td>-0.005525</td>\n",
       "      <td>NaN</td>\n",
       "      <td>-0.262496</td>\n",
       "      <td>0.606136</td>\n",
       "      <td>1.000000</td>\n",
       "    </tr>\n",
       "  </tbody>\n",
       "</table>\n",
       "</div>"
      ],
      "text/plain": [
       "                    Number of Vehicles  Number of Drivers  bid      rank  \\\n",
       "Number of Vehicles            1.000000          -0.029474  NaN  0.399393   \n",
       "Number of Drivers            -0.029474           1.000000  NaN -0.076289   \n",
       "bid                                NaN                NaN  NaN       NaN   \n",
       "rank                          0.399393          -0.076289  NaN  1.000000   \n",
       "click                        -0.171822           0.021604  NaN -0.416046   \n",
       "policies_sold                -0.130380          -0.005525  NaN -0.262496   \n",
       "\n",
       "                       click  policies_sold  \n",
       "Number of Vehicles -0.171822      -0.130380  \n",
       "Number of Drivers   0.021604      -0.005525  \n",
       "bid                      NaN            NaN  \n",
       "rank               -0.416046      -0.262496  \n",
       "click               1.000000       0.606136  \n",
       "policies_sold       0.606136       1.000000  "
      ]
     },
     "execution_count": 3,
     "metadata": {},
     "output_type": "execute_result"
    }
   ],
   "source": [
    "df.corr()"
   ]
  },
  {
   "cell_type": "markdown",
   "metadata": {},
   "source": [
    "descriptive information about variables by rank "
   ]
  },
  {
   "cell_type": "code",
<<<<<<< Updated upstream
   "execution_count": 11,
=======
   "execution_count": 4,
>>>>>>> Stashed changes
   "metadata": {},
   "outputs": [
    {
     "data": {
      "text/html": [
       "<div>\n",
       "<style scoped>\n",
       "    .dataframe tbody tr th:only-of-type {\n",
       "        vertical-align: middle;\n",
       "    }\n",
       "\n",
       "    .dataframe tbody tr th {\n",
       "        vertical-align: top;\n",
       "    }\n",
       "\n",
       "    .dataframe thead tr th {\n",
       "        text-align: left;\n",
       "    }\n",
       "\n",
       "    .dataframe thead tr:last-of-type th {\n",
       "        text-align: right;\n",
       "    }\n",
       "</style>\n",
       "<table border=\"1\" class=\"dataframe\">\n",
       "  <thead>\n",
       "    <tr>\n",
       "      <th></th>\n",
       "      <th>Currently Insured</th>\n",
       "      <th colspan=\"3\" halign=\"left\">Number of Vehicles</th>\n",
       "      <th colspan=\"3\" halign=\"left\">Number of Drivers</th>\n",
       "      <th>Marital Status</th>\n",
       "      <th>click</th>\n",
       "      <th>policies_sold</th>\n",
       "    </tr>\n",
       "    <tr>\n",
       "      <th></th>\n",
       "      <th>count</th>\n",
       "      <th>min</th>\n",
       "      <th>max</th>\n",
       "      <th>sum</th>\n",
       "      <th>min</th>\n",
       "      <th>max</th>\n",
       "      <th>sum</th>\n",
       "      <th>count</th>\n",
       "      <th>count</th>\n",
       "      <th>sum</th>\n",
       "    </tr>\n",
       "    <tr>\n",
       "      <th>rank</th>\n",
       "      <th></th>\n",
       "      <th></th>\n",
       "      <th></th>\n",
       "      <th></th>\n",
       "      <th></th>\n",
       "      <th></th>\n",
       "      <th></th>\n",
       "      <th></th>\n",
       "      <th></th>\n",
       "      <th></th>\n",
       "    </tr>\n",
       "  </thead>\n",
       "  <tbody>\n",
       "    <tr>\n",
       "      <th>1</th>\n",
       "      <td>1611</td>\n",
       "      <td>1</td>\n",
       "      <td>3</td>\n",
       "      <td>2476</td>\n",
       "      <td>1</td>\n",
       "      <td>2</td>\n",
       "      <td>2497</td>\n",
       "      <td>1611</td>\n",
       "      <td>1611</td>\n",
       "      <td>358</td>\n",
       "    </tr>\n",
       "    <tr>\n",
       "      <th>2</th>\n",
       "      <td>1608</td>\n",
       "      <td>1</td>\n",
       "      <td>3</td>\n",
       "      <td>2541</td>\n",
       "      <td>1</td>\n",
       "      <td>2</td>\n",
       "      <td>2476</td>\n",
       "      <td>1608</td>\n",
       "      <td>1608</td>\n",
       "      <td>209</td>\n",
       "    </tr>\n",
       "    <tr>\n",
       "      <th>3</th>\n",
       "      <td>2401</td>\n",
       "      <td>1</td>\n",
       "      <td>3</td>\n",
       "      <td>4605</td>\n",
       "      <td>1</td>\n",
       "      <td>2</td>\n",
       "      <td>3629</td>\n",
       "      <td>2401</td>\n",
       "      <td>2401</td>\n",
       "      <td>138</td>\n",
       "    </tr>\n",
       "    <tr>\n",
       "      <th>4</th>\n",
       "      <td>2089</td>\n",
       "      <td>1</td>\n",
       "      <td>3</td>\n",
       "      <td>4510</td>\n",
       "      <td>1</td>\n",
       "      <td>2</td>\n",
       "      <td>3088</td>\n",
       "      <td>2089</td>\n",
       "      <td>2089</td>\n",
       "      <td>58</td>\n",
       "    </tr>\n",
       "    <tr>\n",
       "      <th>5</th>\n",
       "      <td>2291</td>\n",
       "      <td>1</td>\n",
       "      <td>3</td>\n",
       "      <td>5522</td>\n",
       "      <td>1</td>\n",
       "      <td>2</td>\n",
       "      <td>3309</td>\n",
       "      <td>2291</td>\n",
       "      <td>2291</td>\n",
       "      <td>20</td>\n",
       "    </tr>\n",
       "  </tbody>\n",
       "</table>\n",
       "</div>"
      ],
      "text/plain": [
       "     Currently Insured Number of Vehicles           Number of Drivers      \\\n",
       "                 count                min max   sum               min max   \n",
       "rank                                                                        \n",
       "1                 1611                  1   3  2476                 1   2   \n",
       "2                 1608                  1   3  2541                 1   2   \n",
       "3                 2401                  1   3  4605                 1   2   \n",
       "4                 2089                  1   3  4510                 1   2   \n",
       "5                 2291                  1   3  5522                 1   2   \n",
       "\n",
       "           Marital Status click policies_sold  \n",
       "       sum          count count           sum  \n",
       "rank                                           \n",
       "1     2497           1611  1611           358  \n",
       "2     2476           1608  1608           209  \n",
       "3     3629           2401  2401           138  \n",
       "4     3088           2089  2089            58  \n",
       "5     3309           2291  2291            20  "
      ]
     },
<<<<<<< Updated upstream
     "execution_count": 11,
=======
     "execution_count": 4,
>>>>>>> Stashed changes
     "metadata": {},
     "output_type": "execute_result"
    }
   ],
   "source": [
    "df.groupby(['rank']).agg(\n",
    "{'Currently Insured':\"count\",\n",
    " 'Number of Vehicles':[min,max,sum],\n",
    " 'Number of Drivers':[min,max,sum],\n",
    " 'Marital Status':\"count\",\n",
    " 'click':\"count\",\n",
    " 'policies_sold':\"sum\"\n",
    "}\n",
    ")\n",
    "\n"
   ]
  },
  {
   "cell_type": "code",
<<<<<<< Updated upstream
   "execution_count": 16,
=======
   "execution_count": 5,
>>>>>>> Stashed changes
   "metadata": {},
   "outputs": [
    {
     "data": {
      "text/html": [
       "<div>\n",
       "<style scoped>\n",
       "    .dataframe tbody tr th:only-of-type {\n",
       "        vertical-align: middle;\n",
       "    }\n",
       "\n",
       "    .dataframe tbody tr th {\n",
       "        vertical-align: top;\n",
       "    }\n",
       "\n",
       "    .dataframe thead tr th {\n",
       "        text-align: left;\n",
       "    }\n",
       "\n",
       "    .dataframe thead tr:last-of-type th {\n",
       "        text-align: right;\n",
       "    }\n",
       "</style>\n",
       "<table border=\"1\" class=\"dataframe\">\n",
       "  <thead>\n",
       "    <tr>\n",
       "      <th></th>\n",
       "      <th></th>\n",
       "      <th>click</th>\n",
       "      <th>Currently Insured</th>\n",
       "      <th colspan=\"3\" halign=\"left\">Number of Vehicles</th>\n",
       "      <th colspan=\"3\" halign=\"left\">Number of Drivers</th>\n",
       "      <th>Marital Status</th>\n",
       "      <th>policies_sold</th>\n",
       "    </tr>\n",
       "    <tr>\n",
       "      <th></th>\n",
       "      <th></th>\n",
       "      <th>sum</th>\n",
       "      <th>count</th>\n",
       "      <th>min</th>\n",
       "      <th>max</th>\n",
       "      <th>sum</th>\n",
       "      <th>min</th>\n",
       "      <th>max</th>\n",
       "      <th>sum</th>\n",
       "      <th>count</th>\n",
       "      <th>sum</th>\n",
       "    </tr>\n",
       "    <tr>\n",
       "      <th>rank</th>\n",
       "      <th>click</th>\n",
       "      <th></th>\n",
       "      <th></th>\n",
       "      <th></th>\n",
       "      <th></th>\n",
       "      <th></th>\n",
       "      <th></th>\n",
       "      <th></th>\n",
       "      <th></th>\n",
       "      <th></th>\n",
       "      <th></th>\n",
       "    </tr>\n",
       "  </thead>\n",
       "  <tbody>\n",
       "    <tr>\n",
       "      <th rowspan=\"2\" valign=\"top\">1</th>\n",
       "      <th>False</th>\n",
       "      <td>0</td>\n",
       "      <td>763</td>\n",
       "      <td>1</td>\n",
       "      <td>3</td>\n",
       "      <td>1186</td>\n",
       "      <td>1</td>\n",
       "      <td>2</td>\n",
       "      <td>1190</td>\n",
       "      <td>763</td>\n",
       "      <td>0</td>\n",
       "    </tr>\n",
       "    <tr>\n",
       "      <th>True</th>\n",
       "      <td>848</td>\n",
       "      <td>848</td>\n",
       "      <td>1</td>\n",
       "      <td>3</td>\n",
       "      <td>1290</td>\n",
       "      <td>1</td>\n",
       "      <td>2</td>\n",
       "      <td>1307</td>\n",
       "      <td>848</td>\n",
       "      <td>358</td>\n",
       "    </tr>\n",
       "    <tr>\n",
       "      <th rowspan=\"2\" valign=\"top\">2</th>\n",
       "      <th>False</th>\n",
       "      <td>0</td>\n",
       "      <td>1146</td>\n",
       "      <td>1</td>\n",
       "      <td>3</td>\n",
       "      <td>1829</td>\n",
       "      <td>1</td>\n",
       "      <td>2</td>\n",
       "      <td>1759</td>\n",
       "      <td>1146</td>\n",
       "      <td>0</td>\n",
       "    </tr>\n",
       "    <tr>\n",
       "      <th>True</th>\n",
       "      <td>462</td>\n",
       "      <td>462</td>\n",
       "      <td>1</td>\n",
       "      <td>3</td>\n",
       "      <td>712</td>\n",
       "      <td>1</td>\n",
       "      <td>2</td>\n",
       "      <td>717</td>\n",
       "      <td>462</td>\n",
       "      <td>209</td>\n",
       "    </tr>\n",
       "    <tr>\n",
       "      <th rowspan=\"2\" valign=\"top\">3</th>\n",
       "      <th>False</th>\n",
       "      <td>0</td>\n",
       "      <td>2050</td>\n",
       "      <td>1</td>\n",
       "      <td>3</td>\n",
       "      <td>3942</td>\n",
       "      <td>1</td>\n",
       "      <td>2</td>\n",
       "      <td>3114</td>\n",
       "      <td>2050</td>\n",
       "      <td>0</td>\n",
       "    </tr>\n",
       "    <tr>\n",
       "      <th>True</th>\n",
       "      <td>351</td>\n",
       "      <td>351</td>\n",
       "      <td>1</td>\n",
       "      <td>3</td>\n",
       "      <td>663</td>\n",
       "      <td>1</td>\n",
       "      <td>2</td>\n",
       "      <td>515</td>\n",
       "      <td>351</td>\n",
       "      <td>138</td>\n",
       "    </tr>\n",
       "    <tr>\n",
       "      <th rowspan=\"2\" valign=\"top\">4</th>\n",
       "      <th>False</th>\n",
       "      <td>0</td>\n",
       "      <td>1921</td>\n",
       "      <td>1</td>\n",
       "      <td>3</td>\n",
       "      <td>4144</td>\n",
       "      <td>1</td>\n",
       "      <td>2</td>\n",
       "      <td>2836</td>\n",
       "      <td>1921</td>\n",
       "      <td>0</td>\n",
       "    </tr>\n",
       "    <tr>\n",
       "      <th>True</th>\n",
       "      <td>168</td>\n",
       "      <td>168</td>\n",
       "      <td>1</td>\n",
       "      <td>3</td>\n",
       "      <td>366</td>\n",
       "      <td>1</td>\n",
       "      <td>2</td>\n",
       "      <td>252</td>\n",
       "      <td>168</td>\n",
       "      <td>58</td>\n",
       "    </tr>\n",
       "    <tr>\n",
       "      <th rowspan=\"2\" valign=\"top\">5</th>\n",
       "      <th>False</th>\n",
       "      <td>0</td>\n",
       "      <td>2242</td>\n",
       "      <td>1</td>\n",
       "      <td>3</td>\n",
       "      <td>5404</td>\n",
       "      <td>1</td>\n",
       "      <td>2</td>\n",
       "      <td>3241</td>\n",
       "      <td>2242</td>\n",
       "      <td>0</td>\n",
       "    </tr>\n",
       "    <tr>\n",
       "      <th>True</th>\n",
       "      <td>49</td>\n",
       "      <td>49</td>\n",
       "      <td>1</td>\n",
       "      <td>3</td>\n",
       "      <td>118</td>\n",
       "      <td>1</td>\n",
       "      <td>2</td>\n",
       "      <td>68</td>\n",
       "      <td>49</td>\n",
       "      <td>20</td>\n",
       "    </tr>\n",
       "  </tbody>\n",
       "</table>\n",
       "</div>"
      ],
      "text/plain": [
       "           click Currently Insured Number of Vehicles            \\\n",
       "             sum             count                min max   sum   \n",
       "rank click                                                        \n",
       "1    False     0               763                  1   3  1186   \n",
       "     True    848               848                  1   3  1290   \n",
       "2    False     0              1146                  1   3  1829   \n",
       "     True    462               462                  1   3   712   \n",
       "3    False     0              2050                  1   3  3942   \n",
       "     True    351               351                  1   3   663   \n",
       "4    False     0              1921                  1   3  4144   \n",
       "     True    168               168                  1   3   366   \n",
       "5    False     0              2242                  1   3  5404   \n",
       "     True     49                49                  1   3   118   \n",
       "\n",
       "           Number of Drivers           Marital Status policies_sold  \n",
       "                         min max   sum          count           sum  \n",
       "rank click                                                           \n",
       "1    False                 1   2  1190            763             0  \n",
       "     True                  1   2  1307            848           358  \n",
       "2    False                 1   2  1759           1146             0  \n",
       "     True                  1   2   717            462           209  \n",
       "3    False                 1   2  3114           2050             0  \n",
       "     True                  1   2   515            351           138  \n",
       "4    False                 1   2  2836           1921             0  \n",
       "     True                  1   2   252            168            58  \n",
       "5    False                 1   2  3241           2242             0  \n",
       "     True                  1   2    68             49            20  "
      ]
     },
<<<<<<< Updated upstream
     "execution_count": 16,
=======
     "execution_count": 5,
>>>>>>> Stashed changes
     "metadata": {},
     "output_type": "execute_result"
    }
   ],
   "source": [
    "df.groupby(['rank','click']).agg(\n",
    "{'click':\"sum\",\n",
    " 'Currently Insured':\"count\",\n",
    " 'Number of Vehicles':[min,max,sum],\n",
    " 'Number of Drivers':[min,max,sum],\n",
    " 'Marital Status':\"count\",\n",
    " 'policies_sold':\"sum\"\n",
    "}\n",
    ")\n",
    "\n",
    "\n",
    "\n",
    "# any thoughts here? feel free to add yours \n",
    "# company can sell the policy only if the ad is clicked \n",
    "# increase the rank based on attributes  "
   ]
  },
  {
   "cell_type": "code",
   "execution_count": 6,
   "metadata": {},
<<<<<<< Updated upstream
   "outputs": [],
   "source": []
=======
   "outputs": [
    {
     "name": "stdout",
     "output_type": "stream",
     "text": [
      "False    0.8122\n",
      "True     0.1878\n",
      "Name: click, dtype: float64\n"
     ]
    }
   ],
   "source": [
    "## calculate click-through-rate (CTR)\n",
    "### It is the ratio of sum of the number of clicks over the number of total observations.\n",
    "ctr = df.click.value_counts(\"True\")\n",
    "print(ctr)"
   ]
  },
  {
   "cell_type": "markdown",
   "metadata": {},
   "source": [
    "## 2. Simple logistic regression"
   ]
  },
  {
   "cell_type": "code",
   "execution_count": 7,
   "metadata": {},
   "outputs": [],
   "source": [
    "## import the package\n",
    "import statsmodels.api as sm\n",
    "from patsy import dmatrices"
   ]
  },
  {
   "cell_type": "code",
   "execution_count": 8,
   "metadata": {},
   "outputs": [
    {
     "data": {
      "text/html": [
       "<div>\n",
       "<style scoped>\n",
       "    .dataframe tbody tr th:only-of-type {\n",
       "        vertical-align: middle;\n",
       "    }\n",
       "\n",
       "    .dataframe tbody tr th {\n",
       "        vertical-align: top;\n",
       "    }\n",
       "\n",
       "    .dataframe thead th {\n",
       "        text-align: right;\n",
       "    }\n",
       "</style>\n",
       "<table border=\"1\" class=\"dataframe\">\n",
       "  <thead>\n",
       "    <tr style=\"text-align: right;\">\n",
       "      <th></th>\n",
       "      <th>Currently Insured</th>\n",
       "      <th>Number of Vehicles</th>\n",
       "      <th>Number of Drivers</th>\n",
       "      <th>Marital Status</th>\n",
       "      <th>bid</th>\n",
       "      <th>rank</th>\n",
       "      <th>click</th>\n",
       "      <th>policies_sold</th>\n",
       "      <th>Insured_N</th>\n",
       "      <th>Insured_Y</th>\n",
       "      <th>Married</th>\n",
       "      <th>click_true</th>\n",
       "    </tr>\n",
       "  </thead>\n",
       "  <tbody>\n",
       "    <tr>\n",
       "      <th>0</th>\n",
       "      <td>unknown</td>\n",
       "      <td>2</td>\n",
       "      <td>1</td>\n",
       "      <td>M</td>\n",
       "      <td>10.0</td>\n",
       "      <td>2</td>\n",
       "      <td>False</td>\n",
       "      <td>0</td>\n",
       "      <td>0</td>\n",
       "      <td>0</td>\n",
       "      <td>1</td>\n",
       "      <td>0</td>\n",
       "    </tr>\n",
       "    <tr>\n",
       "      <th>1</th>\n",
       "      <td>Y</td>\n",
       "      <td>3</td>\n",
       "      <td>1</td>\n",
       "      <td>M</td>\n",
       "      <td>10.0</td>\n",
       "      <td>5</td>\n",
       "      <td>False</td>\n",
       "      <td>0</td>\n",
       "      <td>0</td>\n",
       "      <td>1</td>\n",
       "      <td>1</td>\n",
       "      <td>0</td>\n",
       "    </tr>\n",
       "    <tr>\n",
       "      <th>2</th>\n",
       "      <td>Y</td>\n",
       "      <td>3</td>\n",
       "      <td>2</td>\n",
       "      <td>M</td>\n",
       "      <td>10.0</td>\n",
       "      <td>5</td>\n",
       "      <td>False</td>\n",
       "      <td>0</td>\n",
       "      <td>0</td>\n",
       "      <td>1</td>\n",
       "      <td>1</td>\n",
       "      <td>0</td>\n",
       "    </tr>\n",
       "    <tr>\n",
       "      <th>3</th>\n",
       "      <td>N</td>\n",
       "      <td>3</td>\n",
       "      <td>2</td>\n",
       "      <td>S</td>\n",
       "      <td>10.0</td>\n",
       "      <td>4</td>\n",
       "      <td>False</td>\n",
       "      <td>0</td>\n",
       "      <td>1</td>\n",
       "      <td>0</td>\n",
       "      <td>0</td>\n",
       "      <td>0</td>\n",
       "    </tr>\n",
       "    <tr>\n",
       "      <th>4</th>\n",
       "      <td>unknown</td>\n",
       "      <td>2</td>\n",
       "      <td>2</td>\n",
       "      <td>S</td>\n",
       "      <td>10.0</td>\n",
       "      <td>2</td>\n",
       "      <td>False</td>\n",
       "      <td>0</td>\n",
       "      <td>0</td>\n",
       "      <td>0</td>\n",
       "      <td>0</td>\n",
       "      <td>0</td>\n",
       "    </tr>\n",
       "  </tbody>\n",
       "</table>\n",
       "</div>"
      ],
      "text/plain": [
       "  Currently Insured  Number of Vehicles  Number of Drivers Marital Status  \\\n",
       "0           unknown                   2                  1              M   \n",
       "1                 Y                   3                  1              M   \n",
       "2                 Y                   3                  2              M   \n",
       "3                 N                   3                  2              S   \n",
       "4           unknown                   2                  2              S   \n",
       "\n",
       "    bid  rank  click  policies_sold  Insured_N  Insured_Y  Married  click_true  \n",
       "0  10.0     2  False              0          0          0        1           0  \n",
       "1  10.0     5  False              0          0          1        1           0  \n",
       "2  10.0     5  False              0          0          1        1           0  \n",
       "3  10.0     4  False              0          1          0        0           0  \n",
       "4  10.0     2  False              0          0          0        0           0  "
      ]
     },
     "execution_count": 8,
     "metadata": {},
     "output_type": "execute_result"
    }
   ],
   "source": [
    "## Data clean\n",
    "## Currently Insured: categorical/unknow, N, Y\n",
    "## Number of Vehicles: ordinal\n",
    "## Number of Drivers: ordinal\n",
    "## Marital Status: categorical/ M, S\n",
    "## rank: ordinal\n",
    "\n",
    "## There are two ways to run regressions when having categorial variables in datasets.\n",
    "## 1. Delete those categorical variables.\n",
    "## 2. Keep them but generate dummy variables. \n",
    "## since we don't have much features in our dataset, i would go for dummies.\n",
    "\n",
    "## Create dummies for Currently Insured and Marital Status. \n",
    "## 1. For Currently Insured, i left \"unknow\" as baseline case. So Insured_N, and Insured_Y are created and included. \n",
    "## 2. For Marital Status, i left \"S\" as baseline case. So Married are created and included. \n",
    "## For the other variables I would treat them as ordinal.\n",
    "\n",
    "pd.get_dummies(df['Currently Insured'])\n",
    "df['Insured_N'] = pd.get_dummies(df['Currently Insured'])['N']\n",
    "df['Insured_Y'] = pd.get_dummies(df['Currently Insured'])['Y']\n",
    "\n",
    "pd.get_dummies(df['Marital Status'])\n",
    "df['Married'] = pd.get_dummies(df['Marital Status'])['M']\n",
    "\n",
    "pd.get_dummies(df['click'])\n",
    "df['click_true'] = pd.get_dummies(df['click'])[True]\n",
    "\n",
    "df.head()\n"
   ]
  },
  {
   "cell_type": "code",
   "execution_count": 9,
   "metadata": {},
   "outputs": [],
   "source": [
    "## create interactions \n"
   ]
  },
  {
   "cell_type": "markdown",
   "metadata": {},
   "source": [
    "### 2.1. click "
   ]
  },
  {
   "cell_type": "markdown",
   "metadata": {},
   "source": [
    "#### 2.1.1 click without interactions"
   ]
  },
  {
   "cell_type": "code",
   "execution_count": 10,
   "metadata": {},
   "outputs": [
    {
     "name": "stdout",
     "output_type": "stream",
     "text": [
      "Optimization terminated successfully.\n",
      "         Current function value: inf\n",
      "         Iterations 7\n"
     ]
    },
    {
     "name": "stderr",
     "output_type": "stream",
     "text": [
      "/opt/anaconda3/lib/python3.8/site-packages/statsmodels/discrete/discrete_model.py:1799: RuntimeWarning: overflow encountered in exp\n",
      "  return 1/(1+np.exp(-X))\n",
      "/opt/anaconda3/lib/python3.8/site-packages/statsmodels/discrete/discrete_model.py:1852: RuntimeWarning: divide by zero encountered in log\n",
      "  return np.sum(np.log(self.cdf(q*np.dot(X,params))))\n"
     ]
    }
   ],
   "source": [
    "## define X and Y\n",
    "\n",
    "X = df[['Insured_N', 'Insured_Y', 'Number of Vehicles', 'Number of Drivers', 'Married','rank']].copy()\n",
    "X = sm.add_constant(X)\n",
    "y = df['click_true'].copy()\n",
    "\n",
    "## define and fit the model\n",
    "model = sm.Logit(y, X)\n",
    "result = model.fit(method='newton')\n"
   ]
  },
  {
   "cell_type": "code",
   "execution_count": 11,
   "metadata": {},
   "outputs": [
    {
     "name": "stderr",
     "output_type": "stream",
     "text": [
      "/opt/anaconda3/lib/python3.8/site-packages/statsmodels/base/model.py:547: HessianInversionWarning: Inverting hessian failed, no bse or cov_params available\n",
      "  warnings.warn('Inverting hessian failed, no bse or cov_params '\n",
      "/opt/anaconda3/lib/python3.8/site-packages/statsmodels/base/model.py:547: HessianInversionWarning: Inverting hessian failed, no bse or cov_params available\n",
      "  warnings.warn('Inverting hessian failed, no bse or cov_params '\n"
     ]
    },
    {
     "data": {
      "text/html": [
       "<table class=\"simpletable\">\n",
       "<caption>Logit Regression Results</caption>\n",
       "<tr>\n",
       "  <th>Dep. Variable:</th>      <td>click_true</td>    <th>  No. Observations:  </th>  <td> 10000</td> \n",
       "</tr>\n",
       "<tr>\n",
       "  <th>Model:</th>                 <td>Logit</td>      <th>  Df Residuals:      </th>  <td>  9993</td> \n",
       "</tr>\n",
       "<tr>\n",
       "  <th>Method:</th>                 <td>MLE</td>       <th>  Df Model:          </th>  <td>     6</td> \n",
       "</tr>\n",
       "<tr>\n",
       "  <th>Date:</th>            <td>Fri, 21 May 2021</td> <th>  Pseudo R-squ.:     </th>  <td>   inf</td> \n",
       "</tr>\n",
       "<tr>\n",
       "  <th>Time:</th>                <td>14:48:00</td>     <th>  Log-Likelihood:    </th> <td>    -inf</td>\n",
       "</tr>\n",
       "<tr>\n",
       "  <th>converged:</th>             <td>True</td>       <th>  LL-Null:           </th> <td>  0.0000</td>\n",
       "</tr>\n",
       "<tr>\n",
       "  <th>Covariance Type:</th>     <td>nonrobust</td>    <th>  LLR p-value:       </th>  <td> 1.000</td> \n",
       "</tr>\n",
       "</table>\n",
       "<table class=\"simpletable\">\n",
       "<tr>\n",
       "           <td></td>             <th>coef</th>     <th>std err</th>      <th>z</th>      <th>P>|z|</th>  <th>[0.025</th>    <th>0.975]</th>  \n",
       "</tr>\n",
       "<tr>\n",
       "  <th>const</th>              <td>    1.1844</td> <td>    0.125</td> <td>    9.488</td> <td> 0.000</td> <td>    0.940</td> <td>    1.429</td>\n",
       "</tr>\n",
       "<tr>\n",
       "  <th>Insured_N</th>          <td>   -0.0445</td> <td>    0.083</td> <td>   -0.535</td> <td> 0.592</td> <td>   -0.207</td> <td>    0.118</td>\n",
       "</tr>\n",
       "<tr>\n",
       "  <th>Insured_Y</th>          <td>    0.0750</td> <td>    0.084</td> <td>    0.896</td> <td> 0.370</td> <td>   -0.089</td> <td>    0.239</td>\n",
       "</tr>\n",
       "<tr>\n",
       "  <th>Number of Vehicles</th> <td>   -0.0411</td> <td>    0.041</td> <td>   -1.009</td> <td> 0.313</td> <td>   -0.121</td> <td>    0.039</td>\n",
       "</tr>\n",
       "<tr>\n",
       "  <th>Number of Drivers</th>  <td>   -0.0483</td> <td>    0.058</td> <td>   -0.832</td> <td> 0.405</td> <td>   -0.162</td> <td>    0.065</td>\n",
       "</tr>\n",
       "<tr>\n",
       "  <th>Married</th>            <td>   -0.1469</td> <td>    0.057</td> <td>   -2.562</td> <td> 0.010</td> <td>   -0.259</td> <td>   -0.035</td>\n",
       "</tr>\n",
       "<tr>\n",
       "  <th>rank</th>               <td>   -0.9048</td> <td>    0.033</td> <td>  -27.718</td> <td> 0.000</td> <td>   -0.969</td> <td>   -0.841</td>\n",
       "</tr>\n",
       "</table>"
      ],
      "text/plain": [
       "<class 'statsmodels.iolib.summary.Summary'>\n",
       "\"\"\"\n",
       "                           Logit Regression Results                           \n",
       "==============================================================================\n",
       "Dep. Variable:             click_true   No. Observations:                10000\n",
       "Model:                          Logit   Df Residuals:                     9993\n",
       "Method:                           MLE   Df Model:                            6\n",
       "Date:                Fri, 21 May 2021   Pseudo R-squ.:                     inf\n",
       "Time:                        14:48:00   Log-Likelihood:                   -inf\n",
       "converged:                       True   LL-Null:                        0.0000\n",
       "Covariance Type:            nonrobust   LLR p-value:                     1.000\n",
       "======================================================================================\n",
       "                         coef    std err          z      P>|z|      [0.025      0.975]\n",
       "--------------------------------------------------------------------------------------\n",
       "const                  1.1844      0.125      9.488      0.000       0.940       1.429\n",
       "Insured_N             -0.0445      0.083     -0.535      0.592      -0.207       0.118\n",
       "Insured_Y              0.0750      0.084      0.896      0.370      -0.089       0.239\n",
       "Number of Vehicles    -0.0411      0.041     -1.009      0.313      -0.121       0.039\n",
       "Number of Drivers     -0.0483      0.058     -0.832      0.405      -0.162       0.065\n",
       "Married               -0.1469      0.057     -2.562      0.010      -0.259      -0.035\n",
       "rank                  -0.9048      0.033    -27.718      0.000      -0.969      -0.841\n",
       "======================================================================================\n",
       "\"\"\""
      ]
     },
     "execution_count": 11,
     "metadata": {},
     "output_type": "execute_result"
    }
   ],
   "source": [
    "## result summary\n",
    "result.summary()"
   ]
  },
  {
   "cell_type": "markdown",
   "metadata": {},
   "source": [
    "#### 2.1.1 click with interactions"
   ]
  },
  {
   "cell_type": "code",
   "execution_count": null,
   "metadata": {},
   "outputs": [],
   "source": []
  },
  {
   "cell_type": "code",
   "execution_count": null,
   "metadata": {},
   "outputs": [],
   "source": []
  },
  {
   "cell_type": "markdown",
   "metadata": {},
   "source": [
    "### 2.2. policies_sold"
   ]
  },
  {
   "cell_type": "markdown",
   "metadata": {},
   "source": [
    "#### 2.2.1. policies_sold without interactions"
   ]
  },
  {
   "cell_type": "code",
   "execution_count": 12,
   "metadata": {},
   "outputs": [
    {
     "name": "stdout",
     "output_type": "stream",
     "text": [
      "Optimization terminated successfully.\n",
      "         Current function value: 0.236854\n",
      "         Iterations 8\n"
     ]
    }
   ],
   "source": [
    "## 2.2 the outcome variable is \"policies_sold\"\n",
    "y = df['policies_sold'].copy()\n",
    "\n",
    "## define and fit the model\n",
    "model = sm.Logit(y, X)\n",
    "result = model.fit(method='newton')\n",
    "\n"
   ]
  },
  {
   "cell_type": "code",
   "execution_count": 14,
   "metadata": {},
   "outputs": [
    {
     "name": "stdout",
     "output_type": "stream",
     "text": [
      "Optimization terminated successfully.\n",
      "         Current function value: 0.236854\n",
      "         Iterations 8\n"
     ]
    }
   ],
   "source": [
    "y = df['policies_sold'].copy()\n",
    "\n",
    "## define and fit the model\n",
    "model = sm.Logit(y, X)\n",
    "result = model.fit(method='newton')"
   ]
  },
  {
   "cell_type": "markdown",
   "metadata": {},
   "source": [
    "#### 2.2.1 policies_sold with interactions"
   ]
  },
  {
   "cell_type": "code",
   "execution_count": null,
   "metadata": {},
   "outputs": [],
   "source": []
  },
  {
   "cell_type": "code",
   "execution_count": null,
   "metadata": {},
   "outputs": [],
   "source": []
  },
  {
   "cell_type": "markdown",
   "metadata": {},
   "source": [
    "## 3. Classification"
   ]
  },
  {
   "cell_type": "markdown",
   "metadata": {},
   "source": [
    "### 3.1 Logistic regression"
   ]
  },
  {
   "cell_type": "code",
   "execution_count": 22,
   "metadata": {},
   "outputs": [],
   "source": [
    "## 3.1 Logistic regression\n",
    "## import the package \n",
    "from sklearn.model_selection import train_test_split\n",
    "from sklearn.linear_model import LogisticRegression\n",
    "from sklearn.model_selection import StratifiedKFold\n",
    "from sklearn.base import clone\n",
    "\n",
    "## Accuracy\n",
    "from sklearn.metrics import accuracy_score\n",
    "## Precision\n",
    "from sklearn.metrics import precision_score\n",
    "## Recall\n",
    "from sklearn.metrics import recall_score\n",
    "from sklearn.metrics import f1_score"
   ]
  },
  {
   "cell_type": "code",
   "execution_count": 23,
   "metadata": {},
   "outputs": [],
   "source": [
    "## define X and y\n",
    "X = df[['Insured_N', 'Insured_Y', 'Number of Vehicles', 'Number of Drivers', 'Married','rank']].copy()\n",
    "y = df['click_true'].copy()\n",
    "\n",
    "## train-test split\n",
    "X_train,X_test,y_train,y_test = train_test_split(X,y,\n",
    "                                                test_size=.2,\n",
    "                                                shuffle=True,\n",
    "                                                random_state=614,\n",
    "                                                stratify=y)"
   ]
  },
  {
   "cell_type": "code",
   "execution_count": 24,
   "metadata": {},
   "outputs": [
    {
     "data": {
      "text/plain": [
       "LogisticRegression()"
      ]
     },
     "execution_count": 24,
     "metadata": {},
     "output_type": "execute_result"
    }
   ],
   "source": [
    "## fit the model by using train dataset\n",
    "log_reg = LogisticRegression()\n",
    "log_reg.fit(X_train,y_train)"
   ]
  },
  {
   "cell_type": "code",
   "execution_count": 25,
   "metadata": {},
   "outputs": [],
   "source": [
    "def get_acc(y_pred,y_actual):\n",
    "    return np.sum(y_pred == y_actual)/len(y_actual)"
   ]
  },
  {
   "cell_type": "code",
   "execution_count": 26,
   "metadata": {},
   "outputs": [],
   "source": [
    "## cross validation\n",
    "kfold = StratifiedKFold(5,shuffle=True,random_state=440)\n",
    "\n",
    "\n",
    "## cut-offs \n",
    "cutoffs = np.arange(0,1,.01)\n",
    "\n",
    "accs = np.zeros((5,len(cutoffs)))\n",
    "log_reg = LogisticRegression()\n",
    "\n",
    "i = 0\n",
    "\n",
    "for train_index,test_index in kfold.split(X_train,y_train):\n",
    "    X_train_train,X_train_test = X_train.iloc[train_index],X_train.iloc[test_index]\n",
    "    y_train_train,y_train_test = y_train.iloc[train_index],y_train.iloc[test_index]\n",
    "    \n",
    "    \n",
    "    for j in range(len(cutoffs)):\n",
    "        log_reg_clone = clone(log_reg)\n",
    "        log_reg_clone.fit(X_train_train,y_train_train)\n",
    "        probs = log_reg_clone.predict_proba(X_train_test)[:,1]\n",
    "        \n",
    "        y_pred = 1*(probs > cutoffs[j])\n",
    "        accs[i,j] = get_acc(y_pred,y_train_test)\n",
    "        \n",
    "    i=i+1"
   ]
  },
  {
   "cell_type": "code",
   "execution_count": 27,
   "metadata": {},
   "outputs": [
    {
     "data": {
      "image/png": "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\n",
      "text/plain": [
       "<Figure size 720x576 with 1 Axes>"
      ]
     },
     "metadata": {},
     "output_type": "display_data"
    }
   ],
   "source": [
    "## plot the figure\n",
    "\n",
    "plt.figure(figsize=(10,8))\n",
    "\n",
    "\n",
    "plt.plot(cutoffs,np.mean(accs,axis=0))\n",
    "\n",
    "plt.xlabel(\"Cutoff\", fontsize=16)\n",
    "plt.ylabel(\"Mean CV Accuracy\", fontsize=16)\n",
    "plt.show()"
   ]
  },
  {
   "cell_type": "code",
   "execution_count": 28,
   "metadata": {},
   "outputs": [
    {
     "name": "stdout",
     "output_type": "stream",
     "text": [
      "The cutoff with highest mean CV accuracy was 0.5\n"
     ]
    }
   ],
   "source": [
    "print(\"The cutoff with highest mean CV accuracy was\",\n",
    "         cutoffs[np.argmax(np.mean(accs,axis=0))])"
   ]
  },
  {
   "cell_type": "code",
   "execution_count": null,
   "metadata": {},
   "outputs": [],
   "source": []
>>>>>>> Stashed changes
  }
 ],
 "metadata": {
  "kernelspec": {
   "display_name": "Python 3",
   "language": "python",
   "name": "python3"
  },
  "language_info": {
   "codemirror_mode": {
    "name": "ipython",
    "version": 3
   },
   "file_extension": ".py",
   "mimetype": "text/x-python",
   "name": "python",
   "nbconvert_exporter": "python",
   "pygments_lexer": "ipython3",
   "version": "3.8.5"
  },
  "metadata": {
   "interpreter": {
    "hash": "b026a24107c4fa174511a0e9ec01fca6bc879b7956827bc1964472816114dd20"
   }
  }
 },
 "nbformat": 4,
 "nbformat_minor": 2
}
