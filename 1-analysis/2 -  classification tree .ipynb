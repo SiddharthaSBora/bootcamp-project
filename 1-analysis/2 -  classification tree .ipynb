{
 "cells": [
  {
   "cell_type": "code",
   "execution_count": 1,
   "metadata": {},
   "outputs": [],
   "source": [
    "# Import the package and data\n",
    "import pandas as pd\n",
    "import numpy as np \n",
    "\n",
    "## For plotting\n",
    "import matplotlib.pyplot as plt\n",
    "import seaborn as sns\n",
    "\n",
    "import seaborn \n",
    "from matplotlib import pyplot as plt\n",
    "\n",
    "import statsmodels.api as sm\n",
    "\n",
    "from sklearn.model_selection import train_test_split\n",
    "from sklearn.linear_model import LogisticRegression\n",
    "\n",
    "## Accuracy\n",
    "from sklearn.metrics import accuracy_score\n",
    "## Precision\n",
    "from sklearn.metrics import precision_score\n",
    "## Recall\n",
    "from sklearn.metrics import recall_score\n",
    "from sklearn.metrics import f1_score\n",
    "\n",
    "from sklearn import tree\n",
    "\n",
    "## This sets the plot style\n",
    "## to have a grid on a white background\n",
    "sns.set_style(\"whitegrid\")"
   ]
  },
  {
   "cell_type": "code",
   "execution_count": 2,
   "metadata": {},
   "outputs": [],
   "source": [
    "df = pd.read_csv('../0-data/Root_Insurance_data.csv')\n"
   ]
  },
  {
   "cell_type": "code",
   "execution_count": 3,
   "metadata": {},
   "outputs": [
    {
     "data": {
      "text/html": [
       "<div>\n",
       "<style scoped>\n",
       "    .dataframe tbody tr th:only-of-type {\n",
       "        vertical-align: middle;\n",
       "    }\n",
       "\n",
       "    .dataframe tbody tr th {\n",
       "        vertical-align: top;\n",
       "    }\n",
       "\n",
       "    .dataframe thead th {\n",
       "        text-align: right;\n",
       "    }\n",
       "</style>\n",
       "<table border=\"1\" class=\"dataframe\">\n",
       "  <thead>\n",
       "    <tr style=\"text-align: right;\">\n",
       "      <th></th>\n",
       "      <th>Currently Insured</th>\n",
       "      <th>Number of Vehicles</th>\n",
       "      <th>Number of Drivers</th>\n",
       "      <th>Marital Status</th>\n",
       "      <th>bid</th>\n",
       "      <th>rank</th>\n",
       "      <th>click</th>\n",
       "      <th>policies_sold</th>\n",
       "      <th>Insured_N</th>\n",
       "      <th>Insured_Y</th>\n",
       "      <th>Married</th>\n",
       "      <th>click_true</th>\n",
       "    </tr>\n",
       "  </thead>\n",
       "  <tbody>\n",
       "    <tr>\n",
       "      <th>0</th>\n",
       "      <td>unknown</td>\n",
       "      <td>2</td>\n",
       "      <td>1</td>\n",
       "      <td>M</td>\n",
       "      <td>10.0</td>\n",
       "      <td>2</td>\n",
       "      <td>False</td>\n",
       "      <td>0</td>\n",
       "      <td>0</td>\n",
       "      <td>0</td>\n",
       "      <td>1</td>\n",
       "      <td>0</td>\n",
       "    </tr>\n",
       "    <tr>\n",
       "      <th>1</th>\n",
       "      <td>Y</td>\n",
       "      <td>3</td>\n",
       "      <td>1</td>\n",
       "      <td>M</td>\n",
       "      <td>10.0</td>\n",
       "      <td>5</td>\n",
       "      <td>False</td>\n",
       "      <td>0</td>\n",
       "      <td>0</td>\n",
       "      <td>1</td>\n",
       "      <td>1</td>\n",
       "      <td>0</td>\n",
       "    </tr>\n",
       "    <tr>\n",
       "      <th>2</th>\n",
       "      <td>Y</td>\n",
       "      <td>3</td>\n",
       "      <td>2</td>\n",
       "      <td>M</td>\n",
       "      <td>10.0</td>\n",
       "      <td>5</td>\n",
       "      <td>False</td>\n",
       "      <td>0</td>\n",
       "      <td>0</td>\n",
       "      <td>1</td>\n",
       "      <td>1</td>\n",
       "      <td>0</td>\n",
       "    </tr>\n",
       "    <tr>\n",
       "      <th>3</th>\n",
       "      <td>N</td>\n",
       "      <td>3</td>\n",
       "      <td>2</td>\n",
       "      <td>S</td>\n",
       "      <td>10.0</td>\n",
       "      <td>4</td>\n",
       "      <td>False</td>\n",
       "      <td>0</td>\n",
       "      <td>1</td>\n",
       "      <td>0</td>\n",
       "      <td>0</td>\n",
       "      <td>0</td>\n",
       "    </tr>\n",
       "    <tr>\n",
       "      <th>4</th>\n",
       "      <td>unknown</td>\n",
       "      <td>2</td>\n",
       "      <td>2</td>\n",
       "      <td>S</td>\n",
       "      <td>10.0</td>\n",
       "      <td>2</td>\n",
       "      <td>False</td>\n",
       "      <td>0</td>\n",
       "      <td>0</td>\n",
       "      <td>0</td>\n",
       "      <td>0</td>\n",
       "      <td>0</td>\n",
       "    </tr>\n",
       "  </tbody>\n",
       "</table>\n",
       "</div>"
      ],
      "text/plain": [
       "  Currently Insured  Number of Vehicles  Number of Drivers Marital Status  \\\n",
       "0           unknown                   2                  1              M   \n",
       "1                 Y                   3                  1              M   \n",
       "2                 Y                   3                  2              M   \n",
       "3                 N                   3                  2              S   \n",
       "4           unknown                   2                  2              S   \n",
       "\n",
       "    bid  rank  click  policies_sold  Insured_N  Insured_Y  Married  click_true  \n",
       "0  10.0     2  False              0          0          0        1           0  \n",
       "1  10.0     5  False              0          0          1        1           0  \n",
       "2  10.0     5  False              0          0          1        1           0  \n",
       "3  10.0     4  False              0          1          0        0           0  \n",
       "4  10.0     2  False              0          0          0        0           0  "
      ]
     },
     "execution_count": 3,
     "metadata": {},
     "output_type": "execute_result"
    }
   ],
   "source": [
    "## Data clean\n",
    "## Currently Insured: categorical/unknow, N, Y\n",
    "## Number of Vehicles: ordinal\n",
    "## Number of Drivers: ordinal\n",
    "## Marital Status: categorical/ M, S\n",
    "## rank: ordinal\n",
    "\n",
    "## There are two ways to run regressions when having categorial variables in datasets.\n",
    "## 1. Delete those categorical variables.\n",
    "## 2. Keep them but generate dummy variables. \n",
    "## since we don't have much features in our dataset, i would go for dummies.\n",
    "\n",
    "## Create dummies for Currently Insured and Marital Status. \n",
    "## 1. For Currently Insured, i left \"unknow\" as baseline case. So Insured_N, and Insured_Y are created and included. \n",
    "## 2. For Marital Status, i left \"S\" as baseline case. So Married are created and included. \n",
    "## For the other variables I would treat them as ordinal.\n",
    "\n",
    "pd.get_dummies(df['Currently Insured'])\n",
    "df['Insured_N'] = pd.get_dummies(df['Currently Insured'])['N']\n",
    "df['Insured_Y'] = pd.get_dummies(df['Currently Insured'])['Y']\n",
    "\n",
    "pd.get_dummies(df['Marital Status'])\n",
    "df['Married'] = pd.get_dummies(df['Marital Status'])['M']\n",
    "\n",
    "pd.get_dummies(df['click'])\n",
    "df['click_true'] = pd.get_dummies(df['click'])[True]\n",
    "\n",
    "df.head()\n"
   ]
  },
  {
   "cell_type": "code",
   "execution_count": 4,
   "metadata": {},
   "outputs": [],
   "source": [
    "## define X and Y\n",
    "\n",
    "X = df[['Insured_N', 'Insured_Y', 'Number of Vehicles', 'Number of Drivers', 'Married','rank']].copy()\n",
    "X = sm.add_constant(X)\n",
    "y = df['click_true'].copy()\n"
   ]
  },
  {
   "cell_type": "code",
   "execution_count": 5,
   "metadata": {},
   "outputs": [],
   "source": [
    "X_train,X_test,y_train,y_test = train_test_split(X,y,\n",
    "                                                test_size=.2,\n",
    "                                                shuffle=True,\n",
    "                                                random_state=614,\n",
    "                                                stratify=y)"
   ]
  },
  {
   "cell_type": "code",
   "execution_count": 10,
   "metadata": {},
   "outputs": [],
   "source": [
    "# tree parameter \n",
    "\n",
    "random_state = 111\n",
    "max_depth = 5\n",
    "min_samples_split = 20\n",
    "\n",
    "\n",
    "clf = tree.DecisionTreeClassifier(max_depth =max_depth,random_state=random_state,min_samples_split = min_samples_split)"
   ]
  },
  {
   "cell_type": "code",
   "execution_count": 11,
   "metadata": {},
   "outputs": [],
   "source": [
    "clf = clf.fit(X_train, y_train)"
   ]
  },
  {
   "cell_type": "code",
   "execution_count": 12,
   "metadata": {},
   "outputs": [
    {
     "data": {
      "text/plain": [
       "[Text(150.95892857142857, 199.32, 'X[6] <= 2.5\\ngini = 0.305\\nsamples = 8000\\nvalue = [6498, 1502]'),\n",
       " Text(62.775, 163.07999999999998, 'X[6] <= 1.5\\ngini = 0.483\\nsamples = 2580\\nvalue = [1528, 1052]'),\n",
       " Text(29.892857142857142, 126.83999999999999, 'X[5] <= 0.5\\ngini = 0.498\\nsamples = 1301\\nvalue = [612, 689]'),\n",
       " Text(17.935714285714287, 90.6, 'X[3] <= 2.5\\ngini = 0.491\\nsamples = 634\\nvalue = [275, 359]'),\n",
       " Text(11.957142857142857, 54.359999999999985, 'X[2] <= 0.5\\ngini = 0.489\\nsamples = 597\\nvalue = [255, 342]'),\n",
       " Text(5.978571428571429, 18.119999999999976, 'gini = 0.492\\nsamples = 508\\nvalue = [221, 287]'),\n",
       " Text(17.935714285714287, 18.119999999999976, 'gini = 0.472\\nsamples = 89\\nvalue = [34, 55]'),\n",
       " Text(23.914285714285715, 54.359999999999985, 'gini = 0.497\\nsamples = 37\\nvalue = [20, 17]'),\n",
       " Text(41.85, 90.6, 'X[2] <= 0.5\\ngini = 0.5\\nsamples = 667\\nvalue = [337, 330]'),\n",
       " Text(35.871428571428574, 54.359999999999985, 'X[4] <= 1.5\\ngini = 0.5\\nsamples = 622\\nvalue = [319, 303]'),\n",
       " Text(29.892857142857142, 18.119999999999976, 'gini = 0.5\\nsamples = 264\\nvalue = [128, 136]'),\n",
       " Text(41.85, 18.119999999999976, 'gini = 0.498\\nsamples = 358\\nvalue = [191, 167]'),\n",
       " Text(47.82857142857143, 54.359999999999985, 'gini = 0.48\\nsamples = 45\\nvalue = [18, 27]'),\n",
       " Text(95.65714285714286, 126.83999999999999, 'X[3] <= 1.5\\ngini = 0.407\\nsamples = 1279\\nvalue = [916, 363]'),\n",
       " Text(71.74285714285715, 90.6, 'X[4] <= 1.5\\ngini = 0.423\\nsamples = 720\\nvalue = [501, 219]'),\n",
       " Text(59.785714285714285, 54.359999999999985, 'X[5] <= 0.5\\ngini = 0.428\\nsamples = 322\\nvalue = [222, 100]'),\n",
       " Text(53.80714285714286, 18.119999999999976, 'gini = 0.442\\nsamples = 176\\nvalue = [118, 58]'),\n",
       " Text(65.76428571428572, 18.119999999999976, 'gini = 0.41\\nsamples = 146\\nvalue = [104, 42]'),\n",
       " Text(83.7, 54.359999999999985, 'X[2] <= 0.5\\ngini = 0.419\\nsamples = 398\\nvalue = [279, 119]'),\n",
       " Text(77.72142857142858, 18.119999999999976, 'gini = 0.423\\nsamples = 263\\nvalue = [183, 80]'),\n",
       " Text(89.67857142857143, 18.119999999999976, 'gini = 0.411\\nsamples = 135\\nvalue = [96, 39]'),\n",
       " Text(119.57142857142857, 90.6, 'X[3] <= 2.5\\ngini = 0.382\\nsamples = 559\\nvalue = [415, 144]'),\n",
       " Text(107.61428571428571, 54.359999999999985, 'X[5] <= 0.5\\ngini = 0.353\\nsamples = 367\\nvalue = [283, 84]'),\n",
       " Text(101.63571428571429, 18.119999999999976, 'gini = 0.378\\nsamples = 186\\nvalue = [139, 47]'),\n",
       " Text(113.59285714285714, 18.119999999999976, 'gini = 0.325\\nsamples = 181\\nvalue = [144, 37]'),\n",
       " Text(131.52857142857144, 54.359999999999985, 'X[4] <= 1.5\\ngini = 0.43\\nsamples = 192\\nvalue = [132, 60]'),\n",
       " Text(125.55, 18.119999999999976, 'gini = 0.397\\nsamples = 128\\nvalue = [93, 35]'),\n",
       " Text(137.50714285714287, 18.119999999999976, 'gini = 0.476\\nsamples = 64\\nvalue = [39, 25]'),\n",
       " Text(239.14285714285714, 163.07999999999998, 'X[6] <= 4.5\\ngini = 0.152\\nsamples = 5420\\nvalue = [4970, 450]'),\n",
       " Text(191.31428571428572, 126.83999999999999, 'X[6] <= 3.5\\ngini = 0.202\\nsamples = 3620\\nvalue = [3207, 413]'),\n",
       " Text(167.4, 90.6, 'X[4] <= 1.5\\ngini = 0.241\\nsamples = 1948\\nvalue = [1675, 273]'),\n",
       " Text(155.44285714285715, 54.359999999999985, 'X[5] <= 0.5\\ngini = 0.258\\nsamples = 945\\nvalue = [801, 144]'),\n",
       " Text(149.46428571428572, 18.119999999999976, 'gini = 0.275\\nsamples = 449\\nvalue = [375, 74]'),\n",
       " Text(161.42142857142858, 18.119999999999976, 'gini = 0.242\\nsamples = 496\\nvalue = [426, 70]'),\n",
       " Text(179.35714285714286, 54.359999999999985, 'X[3] <= 1.5\\ngini = 0.224\\nsamples = 1003\\nvalue = [874, 129]'),\n",
       " Text(173.37857142857143, 18.119999999999976, 'gini = 0.267\\nsamples = 390\\nvalue = [328, 62]'),\n",
       " Text(185.3357142857143, 18.119999999999976, 'gini = 0.195\\nsamples = 613\\nvalue = [546, 67]'),\n",
       " Text(215.22857142857143, 90.6, 'X[5] <= 0.5\\ngini = 0.153\\nsamples = 1672\\nvalue = [1532, 140]'),\n",
       " Text(203.27142857142857, 54.359999999999985, 'X[1] <= 0.5\\ngini = 0.17\\nsamples = 800\\nvalue = [725, 75]'),\n",
       " Text(197.29285714285714, 18.119999999999976, 'gini = 0.193\\nsamples = 416\\nvalue = [371, 45]'),\n",
       " Text(209.25, 18.119999999999976, 'gini = 0.144\\nsamples = 384\\nvalue = [354, 30]'),\n",
       " Text(227.18571428571428, 54.359999999999985, 'X[4] <= 1.5\\ngini = 0.138\\nsamples = 872\\nvalue = [807, 65]'),\n",
       " Text(221.20714285714286, 18.119999999999976, 'gini = 0.11\\nsamples = 447\\nvalue = [421, 26]'),\n",
       " Text(233.1642857142857, 18.119999999999976, 'gini = 0.167\\nsamples = 425\\nvalue = [386, 39]'),\n",
       " Text(286.9714285714286, 126.83999999999999, 'X[4] <= 1.5\\ngini = 0.04\\nsamples = 1800\\nvalue = [1763, 37]'),\n",
       " Text(263.0571428571429, 90.6, 'X[3] <= 2.5\\ngini = 0.049\\nsamples = 990\\nvalue = [965, 25]'),\n",
       " Text(251.1, 54.359999999999985, 'X[5] <= 0.5\\ngini = 0.038\\nsamples = 569\\nvalue = [558, 11]'),\n",
       " Text(245.12142857142857, 18.119999999999976, 'gini = 0.016\\nsamples = 248\\nvalue = [246, 2]'),\n",
       " Text(257.0785714285714, 18.119999999999976, 'gini = 0.055\\nsamples = 321\\nvalue = [312, 9]'),\n",
       " Text(275.01428571428573, 54.359999999999985, 'X[2] <= 0.5\\ngini = 0.064\\nsamples = 421\\nvalue = [407, 14]'),\n",
       " Text(269.0357142857143, 18.119999999999976, 'gini = 0.056\\nsamples = 209\\nvalue = [203, 6]'),\n",
       " Text(280.99285714285713, 18.119999999999976, 'gini = 0.073\\nsamples = 212\\nvalue = [204, 8]'),\n",
       " Text(310.8857142857143, 90.6, 'X[5] <= 0.5\\ngini = 0.029\\nsamples = 810\\nvalue = [798, 12]'),\n",
       " Text(298.92857142857144, 54.359999999999985, 'X[2] <= 0.5\\ngini = 0.02\\nsamples = 387\\nvalue = [383, 4]'),\n",
       " Text(292.95, 18.119999999999976, 'gini = 0.012\\nsamples = 166\\nvalue = [165, 1]'),\n",
       " Text(304.90714285714284, 18.119999999999976, 'gini = 0.027\\nsamples = 221\\nvalue = [218, 3]'),\n",
       " Text(322.84285714285716, 54.359999999999985, 'X[3] <= 2.5\\ngini = 0.037\\nsamples = 423\\nvalue = [415, 8]'),\n",
       " Text(316.8642857142857, 18.119999999999976, 'gini = 0.046\\nsamples = 170\\nvalue = [166, 4]'),\n",
       " Text(328.82142857142856, 18.119999999999976, 'gini = 0.031\\nsamples = 253\\nvalue = [249, 4]')]"
      ]
     },
     "execution_count": 12,
     "metadata": {},
     "output_type": "execute_result"
    },
    {
     "data": {
      "image/png": "[encoded data removed]",
      "text/plain": [
       "<Figure size 432x288 with 1 Axes>"
      ]
     },
     "metadata": {},
     "output_type": "display_data"
    }
   ],
   "source": [
    "tree.plot_tree(clf) "
   ]
  },
  {
   "cell_type": "code",
   "execution_count": 13,
   "metadata": {},
   "outputs": [
    {
     "name": "stdout",
     "output_type": "stream",
     "text": [
      "Collecting pydotplus\n",
      "  Downloading pydotplus-2.0.2.tar.gz (278 kB)\n",
      "Requirement already satisfied: pyparsing>=2.0.1 in c:\\users\\xiaoliu\\anaconda3\\lib\\site-packages (from pydotplus) (2.4.7)\n",
      "Building wheels for collected packages: pydotplus\n",
      "  Building wheel for pydotplus (setup.py): started\n",
      "  Building wheel for pydotplus (setup.py): finished with status 'done'\n",
      "  Created wheel for pydotplus: filename=pydotplus-2.0.2-py3-none-any.whl size=24572 sha256=2c947e0cc82d102c7cbb9034e072cdd92cb17731628d68ab3b9760d3abf701d1\n",
      "  Stored in directory: c:\\users\\xiaoliu\\appdata\\local\\pip\\cache\\wheels\\fe\\cd\\78\\a7e873cc049759194f8271f780640cf96b35e5a48bef0e2f36\n",
      "Successfully built pydotplus\n",
      "Installing collected packages: pydotplus\n",
      "Successfully installed pydotplus-2.0.2\n"
     ]
    }
   ],
   "source": [
    "!pip install pydotplus"
   ]
  },
  {
   "cell_type": "code",
   "execution_count": 22,
   "metadata": {},
   "outputs": [
    {
     "name": "stdout",
     "output_type": "stream",
     "text": [
      "Requirement already satisfied: ipython in c:\\users\\xiaoliu\\anaconda3\\lib\\site-packages (7.19.0)\n",
      "Requirement already satisfied: decorator in c:\\users\\xiaoliu\\anaconda3\\lib\\site-packages (from ipython) (4.4.2)\n",
      "Requirement already satisfied: pickleshare in c:\\users\\xiaoliu\\anaconda3\\lib\\site-packages (from ipython) (0.7.5)\n",
      "Requirement already satisfied: jedi>=0.10 in c:\\users\\xiaoliu\\anaconda3\\lib\\site-packages (from ipython) (0.17.1)\n",
      "Requirement already satisfied: prompt-toolkit!=3.0.0,!=3.0.1,<3.1.0,>=2.0.0 in c:\\users\\xiaoliu\\anaconda3\\lib\\site-packages (from ipython) (3.0.8)\n",
      "Requirement already satisfied: backcall in c:\\users\\xiaoliu\\anaconda3\\lib\\site-packages (from ipython) (0.2.0)\n",
      "Requirement already satisfied: colorama; sys_platform == \"win32\" in c:\\users\\xiaoliu\\anaconda3\\lib\\site-packages (from ipython) (0.4.4)\n",
      "Requirement already satisfied: pygments in c:\\users\\xiaoliu\\anaconda3\\lib\\site-packages (from ipython) (2.7.2)\n",
      "Requirement already satisfied: setuptools>=18.5 in c:\\users\\xiaoliu\\anaconda3\\lib\\site-packages (from ipython) (50.3.1.post20201107)\n",
      "Requirement already satisfied: traitlets>=4.2 in c:\\users\\xiaoliu\\anaconda3\\lib\\site-packages (from ipython) (5.0.5)\n",
      "Requirement already satisfied: parso<0.8.0,>=0.7.0 in c:\\users\\xiaoliu\\anaconda3\\lib\\site-packages (from jedi>=0.10->ipython) (0.7.0)\n",
      "Requirement already satisfied: wcwidth in c:\\users\\xiaoliu\\anaconda3\\lib\\site-packages (from prompt-toolkit!=3.0.0,!=3.0.1,<3.1.0,>=2.0.0->ipython) (0.2.5)\n",
      "Requirement already satisfied: ipython-genutils in c:\\users\\xiaoliu\\anaconda3\\lib\\site-packages (from traitlets>=4.2->ipython) (0.2.0)\n"
     ]
    }
   ],
   "source": [
    "\n",
    "from sklearn.tree import export_graphviz\n",
    "from six import StringIO\n",
    "from IPython.display import Image \n",
    "import pydotplus\n",
    "\n",
    "# !pip install ipython"
   ]
  },
  {
   "cell_type": "code",
   "execution_count": 28,
   "metadata": {},
   "outputs": [],
   "source": [
    "y_pred = clf.predict(X_test)"
   ]
  },
  {
   "cell_type": "code",
   "execution_count": 29,
   "metadata": {},
   "outputs": [],
   "source": [
    "from sklearn.metrics import roc_curve, auc\n",
    "false_positive_rate, true_positive_rate, thresholds = roc_curve(y_test, y_pred)\n",
    "roc_auc = auc(false_positive_rate, true_positive_rate)"
   ]
  },
  {
   "cell_type": "code",
   "execution_count": 31,
   "metadata": {},
   "outputs": [
    {
     "data": {
      "text/plain": [
       "0.6306204800335395"
      ]
     },
     "execution_count": 31,
     "metadata": {},
     "output_type": "execute_result"
    }
   ],
   "source": [
    "roc_auc"
   ]
  },
  {
   "cell_type": "code",
   "execution_count": 36,
   "metadata": {},
   "outputs": [
    {
     "data": {
      "image/png": "[encoded data removed]",
      "text/plain": [
       "<Figure size 432x288 with 1 Axes>"
      ]
     },
     "metadata": {},
     "output_type": "display_data"
    }
   ],
   "source": [
    "max_depths = np.linspace(1, 32, 32, endpoint=True)\n",
    "train_results = []\n",
    "test_results = []\n",
    "for max_depth in max_depths:\n",
    "   dt = tree.DecisionTreeClassifier(max_depth=max_depth)\n",
    "   dt.fit(X_train, y_train)\n",
    "   train_pred = dt.predict(X_train)\n",
    "   false_positive_rate, true_positive_rate, thresholds = roc_curve(y_train, train_pred)\n",
    "   roc_auc = auc(false_positive_rate, true_positive_rate)\n",
    "   # Add auc score to previous train results\n",
    "   train_results.append(roc_auc)\n",
    "   y_pred = dt.predict(X_test)\n",
    "   false_positive_rate, true_positive_rate, thresholds = roc_curve(y_test, y_pred)\n",
    "   roc_auc = auc(false_positive_rate, true_positive_rate)\n",
    "   # Add auc score to previous test results\n",
    "   test_results.append(roc_auc)\n",
    "from matplotlib.legend_handler import HandlerLine2D\n",
    "line1, = plt.plot(max_depths, train_results, 'b', label=\"Train AUC\")\n",
    "line2, = plt.plot(max_depths, test_results, 'r', label=\"Test AUC\")\n",
    "plt.legend(handler_map={line1: HandlerLine2D(numpoints=2)})\n",
    "plt.ylabel('AUC score')\n",
    "plt.xlabel('Tree depth')\n",
    "plt.show()\n",
    "\n",
    "\n",
    "\n",
    "# SO Accoding to AUC, best tree depth is 3???"
   ]
  },
  {
   "cell_type": "code",
   "execution_count": null,
   "metadata": {},
   "outputs": [],
   "source": []
  }
 ],
 "metadata": {
  "kernelspec": {
   "display_name": "Python 3",
   "language": "python",
   "name": "python3"
  },
  "language_info": {
   "codemirror_mode": {
    "name": "ipython",
    "version": 3
   },
   "file_extension": ".py",
   "mimetype": "text/x-python",
   "name": "python",
   "nbconvert_exporter": "python",
   "pygments_lexer": "ipython3",
   "version": "3.8.5"
  }
 },
 "nbformat": 4,
 "nbformat_minor": 4
}
