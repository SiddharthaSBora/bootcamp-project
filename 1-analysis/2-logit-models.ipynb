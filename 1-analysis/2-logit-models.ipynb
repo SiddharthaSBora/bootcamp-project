{
 "metadata": {
  "language_info": {
   "codemirror_mode": {
    "name": "ipython",
    "version": 3
   },
   "file_extension": ".py",
   "mimetype": "text/x-python",
   "name": "python",
   "nbconvert_exporter": "python",
   "pygments_lexer": "ipython3",
   "version": "3.7.10"
  },
  "orig_nbformat": 2,
  "kernelspec": {
   "name": "python3710jvsc74a57bd0f84a8e1f37c77d66628d0ebab4a5c89a57fbbaca579811c4bc62f2efa3f0cc3c",
   "display_name": "Python 3.7.10 64-bit ('myenv': conda)"
  }
 },
 "nbformat": 4,
 "nbformat_minor": 2,
 "cells": [
  {
   "source": [
    "## Logit models with policies sold as dependent variable\n",
    "This is version 1 where we use the full sample (N=10000), and also use click as variable. I consider rank as continuous variables, and rest as categorical variables.  "
   ],
   "cell_type": "markdown",
   "metadata": {}
  },
  {
   "cell_type": "code",
   "execution_count": 85,
   "metadata": {},
   "outputs": [],
   "source": [
    "## For data handling\n",
    "import pandas as pd\n",
    "import numpy as np\n",
    "\n",
    "## For plotting\n",
    "import matplotlib.pyplot as plt\n",
    "import seaborn as sns\n",
    "import statsmodels.api as sm\n",
    "import statsmodels.formula.api as smf\n",
    "from stargazer.stargazer import Stargazer\n",
    "\n",
    "\n",
    "## This sets the plot style\n",
    "## to have a grid on a white background\n",
    "sns.set_style(\"whitegrid\")"
   ]
  },
  {
   "cell_type": "code",
   "execution_count": 86,
   "metadata": {},
   "outputs": [
    {
     "output_type": "execute_result",
     "data": {
      "text/plain": [
       "  Currently Insured  Number of Vehicles  Number of Drivers Marital Status  \\\n",
       "0           unknown                   2                  1              M   \n",
       "1                 Y                   3                  1              M   \n",
       "2                 Y                   3                  2              M   \n",
       "3                 N                   3                  2              S   \n",
       "4           unknown                   2                  2              S   \n",
       "\n",
       "    bid  rank  click  policies_sold  \n",
       "0  10.0     2  False              0  \n",
       "1  10.0     5  False              0  \n",
       "2  10.0     5  False              0  \n",
       "3  10.0     4  False              0  \n",
       "4  10.0     2  False              0  "
      ],
      "text/html": "<div>\n<style scoped>\n    .dataframe tbody tr th:only-of-type {\n        vertical-align: middle;\n    }\n\n    .dataframe tbody tr th {\n        vertical-align: top;\n    }\n\n    .dataframe thead th {\n        text-align: right;\n    }\n</style>\n<table border=\"1\" class=\"dataframe\">\n  <thead>\n    <tr style=\"text-align: right;\">\n      <th></th>\n      <th>Currently Insured</th>\n      <th>Number of Vehicles</th>\n      <th>Number of Drivers</th>\n      <th>Marital Status</th>\n      <th>bid</th>\n      <th>rank</th>\n      <th>click</th>\n      <th>policies_sold</th>\n    </tr>\n  </thead>\n  <tbody>\n    <tr>\n      <th>0</th>\n      <td>unknown</td>\n      <td>2</td>\n      <td>1</td>\n      <td>M</td>\n      <td>10.0</td>\n      <td>2</td>\n      <td>False</td>\n      <td>0</td>\n    </tr>\n    <tr>\n      <th>1</th>\n      <td>Y</td>\n      <td>3</td>\n      <td>1</td>\n      <td>M</td>\n      <td>10.0</td>\n      <td>5</td>\n      <td>False</td>\n      <td>0</td>\n    </tr>\n    <tr>\n      <th>2</th>\n      <td>Y</td>\n      <td>3</td>\n      <td>2</td>\n      <td>M</td>\n      <td>10.0</td>\n      <td>5</td>\n      <td>False</td>\n      <td>0</td>\n    </tr>\n    <tr>\n      <th>3</th>\n      <td>N</td>\n      <td>3</td>\n      <td>2</td>\n      <td>S</td>\n      <td>10.0</td>\n      <td>4</td>\n      <td>False</td>\n      <td>0</td>\n    </tr>\n    <tr>\n      <th>4</th>\n      <td>unknown</td>\n      <td>2</td>\n      <td>2</td>\n      <td>S</td>\n      <td>10.0</td>\n      <td>2</td>\n      <td>False</td>\n      <td>0</td>\n    </tr>\n  </tbody>\n</table>\n</div>"
     },
     "metadata": {},
     "execution_count": 86
    }
   ],
   "source": [
    "df = pd.read_csv('../0-data/Root_Insurance_data.csv')\n",
    "\n",
    "# Unlike the classification tree example, I am not generating dummies\n",
    "\n",
    "df.head()"
   ]
  },
  {
   "source": [
    "# statsmodels formula version allows writing the model in terms of equation \n",
    "# Model 1: No frills model with all the explanatory variables\n",
    "policies_model_1=smf.logit(formula='policies_sold~ C(Q(\"Marital Status\"))+ C(Q(\"Number of Vehicles\"))+C(Q(\"Number of Drivers\"))+C(Q(\"Currently Insured\"))+rank+click', data=df)\n",
    "\n",
    "\n",
    "# Model 2: Interacting marital status with rank\n",
    "policies_model_2=smf.logit(formula='policies_sold~ C(Q(\"Marital Status\")):rank+ C(Q(\"Number of Vehicles\"))+C(Q(\"Number of Drivers\"))+C(Q(\"Currently Insured\"))+click', data=df)\n",
    "\n",
    "# Model 3: Interacting number of vehicles with rank\n",
    "policies_model_3=smf.logit(formula='policies_sold~ C(Q(\"Marital Status\"))+ C(Q(\"Number of Vehicles\")):rank+C(Q(\"Number of Drivers\"))+C(Q(\"Currently Insured\"))+click', data=df)\n",
    "\n",
    "# Model 4: Interacting number of drivers with rank\n",
    "policies_model_4=smf.logit(formula='policies_sold~ C(Q(\"Marital Status\"))+ C(Q(\"Number of Vehicles\"))+C(Q(\"Number of Drivers\")):rank+C(Q(\"Currently Insured\"))+click', data=df)\n",
    "\n",
    "# Model 5: Interacting currently insured with rank\n",
    "policies_model_5=smf.logit(formula='policies_sold~ C(Q(\"Marital Status\"))+ C(Q(\"Number of Vehicles\"))+C(Q(\"Number of Drivers\"))+C(Q(\"Currently Insured\")):rank+click', data=df)\n",
    "\n",
    "Stargazer([policies_model_1.fit(), policies_model_2.fit(), policies_model_3.fit(), policies_model_4.fit(), policies_model_5.fit()])\n"
   ],
   "cell_type": "code",
   "metadata": {},
   "execution_count": 87,
   "outputs": [
    {
     "output_type": "stream",
     "name": "stdout",
     "text": [
      "Warning: Maximum number of iterations has been exceeded.\n",
      "         Current function value: 0.125198\n",
      "         Iterations: 35\n",
      "Warning: Maximum number of iterations has been exceeded.\n",
      "         Current function value: 0.125181\n",
      "         Iterations: 35\n",
      "Warning: Maximum number of iterations has been exceeded.\n",
      "         Current function value: 0.125589\n",
      "         Iterations: 35\n",
      "Optimization terminated successfully.\n",
      "         Current function value: 0.125396\n",
      "         Iterations 30\n",
      "Warning: Maximum number of iterations has been exceeded.\n",
      "         Current function value: 0.125000\n",
      "         Iterations: 35\n",
      "C:\\Users\\Sid\\anaconda3\\envs\\myenv\\lib\\site-packages\\statsmodels\\base\\model.py:568: ConvergenceWarning: Maximum Likelihood optimization failed to converge. Check mle_retvals\n",
      "  ConvergenceWarning)\n",
      "C:\\Users\\Sid\\anaconda3\\envs\\myenv\\lib\\site-packages\\statsmodels\\base\\model.py:568: ConvergenceWarning: Maximum Likelihood optimization failed to converge. Check mle_retvals\n",
      "  ConvergenceWarning)\n",
      "C:\\Users\\Sid\\anaconda3\\envs\\myenv\\lib\\site-packages\\statsmodels\\base\\model.py:568: ConvergenceWarning: Maximum Likelihood optimization failed to converge. Check mle_retvals\n",
      "  ConvergenceWarning)\n",
      "C:\\Users\\Sid\\anaconda3\\envs\\myenv\\lib\\site-packages\\statsmodels\\base\\model.py:568: ConvergenceWarning: Maximum Likelihood optimization failed to converge. Check mle_retvals\n",
      "  ConvergenceWarning)\n"
     ]
    },
    {
     "output_type": "execute_result",
     "data": {
      "text/plain": [
       "<stargazer.stargazer.Stargazer at 0x1c5596bcc48>"
      ],
      "text/html": "<table style=\"text-align:center\"><tr><td colspan=\"6\" style=\"border-bottom: 1px solid black\"></td></tr><tr><td style=\"text-align:left\"></td><td colspan=\"5\"><em>Dependent variable:policies_sold</em></td></tr><tr><td style=\"text-align:left\"></td><tr><td style=\"text-align:left\"></td><td>(1)</td><td>(2)</td><td>(3)</td><td>(4)</td><td>(5)</td></tr><tr><td colspan=\"6\" style=\"border-bottom: 1px solid black\"></td></tr><tr><td style=\"text-align:left\">C(Q(\"Currently Insured\"))[N]:rank</td><td></td><td></td><td></td><td></td><td>0.104<sup>**</sup></td></tr><tr><td style=\"text-align:left\"></td><td></td><td></td><td></td><td></td><td>(0.053)</td></tr><tr><td style=\"text-align:left\">C(Q(\"Currently Insured\"))[T.Y]</td><td>-0.606<sup>***</sup></td><td>-0.608<sup>***</sup></td><td>-0.592<sup>***</sup></td><td>-0.592<sup>***</sup></td><td></td></tr><tr><td style=\"text-align:left\"></td><td>(0.149)</td><td>(0.149)</td><td>(0.149)</td><td>(0.148)</td><td></td></tr><tr><td style=\"text-align:left\">C(Q(\"Currently Insured\"))[T.unknown]</td><td>0.052<sup></sup></td><td>0.051<sup></sup></td><td>-0.016<sup></sup></td><td>0.086<sup></sup></td><td></td></tr><tr><td style=\"text-align:left\"></td><td>(0.141)</td><td>(0.141)</td><td>(0.139)</td><td>(0.140)</td><td></td></tr><tr><td style=\"text-align:left\">C(Q(\"Currently Insured\"))[Y]:rank</td><td></td><td></td><td></td><td></td><td>-0.126<sup>**</sup></td></tr><tr><td style=\"text-align:left\"></td><td></td><td></td><td></td><td></td><td>(0.054)</td></tr><tr><td style=\"text-align:left\">C(Q(\"Currently Insured\"))[unknown]:rank</td><td></td><td></td><td></td><td></td><td>0.157<sup>**</sup></td></tr><tr><td style=\"text-align:left\"></td><td></td><td></td><td></td><td></td><td>(0.076)</td></tr><tr><td style=\"text-align:left\">C(Q(\"Marital Status\"))[M]:rank</td><td></td><td>0.075<sup></sup></td><td></td><td></td><td></td></tr><tr><td style=\"text-align:left\"></td><td></td><td>(0.059)</td><td></td><td></td><td></td></tr><tr><td style=\"text-align:left\">C(Q(\"Marital Status\"))[S]:rank</td><td></td><td>0.040<sup></sup></td><td></td><td></td><td></td></tr><tr><td style=\"text-align:left\"></td><td></td><td>(0.060)</td><td></td><td></td><td></td></tr><tr><td style=\"text-align:left\">C(Q(\"Marital Status\"))[T.S]</td><td>-0.056<sup></sup></td><td></td><td>-0.037<sup></sup></td><td>-0.046<sup></sup></td><td>-0.066<sup></sup></td></tr><tr><td style=\"text-align:left\"></td><td>(0.096)</td><td></td><td>(0.095)</td><td>(0.096)</td><td>(0.096)</td></tr><tr><td style=\"text-align:left\">C(Q(\"Number of Drivers\"))[1]:rank</td><td></td><td></td><td></td><td>0.101<sup>*</sup></td><td></td></tr><tr><td style=\"text-align:left\"></td><td></td><td></td><td></td><td>(0.058)</td><td></td></tr><tr><td style=\"text-align:left\">C(Q(\"Number of Drivers\"))[2]:rank</td><td></td><td></td><td></td><td>0.027<sup></sup></td><td></td></tr><tr><td style=\"text-align:left\"></td><td></td><td></td><td></td><td>(0.062)</td><td></td></tr><tr><td style=\"text-align:left\">C(Q(\"Number of Drivers\"))[T.2]</td><td>-0.257<sup>***</sup></td><td>-0.259<sup>***</sup></td><td>-0.246<sup>**</sup></td><td></td><td>-0.264<sup>***</sup></td></tr><tr><td style=\"text-align:left\"></td><td>(0.098)</td><td>(0.098)</td><td>(0.097)</td><td></td><td>(0.097)</td></tr><tr><td style=\"text-align:left\">C(Q(\"Number of Vehicles\"))[1]:rank</td><td></td><td></td><td>0.125<sup>*</sup></td><td></td><td></td></tr><tr><td style=\"text-align:left\"></td><td></td><td></td><td>(0.068)</td><td></td><td></td></tr><tr><td style=\"text-align:left\">C(Q(\"Number of Vehicles\"))[2]:rank</td><td></td><td></td><td>-0.027<sup></sup></td><td></td><td></td></tr><tr><td style=\"text-align:left\"></td><td></td><td></td><td>(0.062)</td><td></td><td></td></tr><tr><td style=\"text-align:left\">C(Q(\"Number of Vehicles\"))[3]:rank</td><td></td><td></td><td>-0.055<sup></sup></td><td></td><td></td></tr><tr><td style=\"text-align:left\"></td><td></td><td></td><td>(0.056)</td><td></td><td></td></tr><tr><td style=\"text-align:left\">C(Q(\"Number of Vehicles\"))[T.2]</td><td>-0.430<sup>***</sup></td><td>-0.430<sup>***</sup></td><td></td><td>-0.430<sup>***</sup></td><td>-0.379<sup>***</sup></td></tr><tr><td style=\"text-align:left\"></td><td>(0.114)</td><td>(0.114)</td><td></td><td>(0.114)</td><td>(0.111)</td></tr><tr><td style=\"text-align:left\">C(Q(\"Number of Vehicles\"))[T.3]</td><td>-0.545<sup>***</sup></td><td>-0.545<sup>***</sup></td><td></td><td>-0.533<sup>***</sup></td><td>-0.537<sup>***</sup></td></tr><tr><td style=\"text-align:left\"></td><td>(0.144)</td><td>(0.143)</td><td></td><td>(0.144)</td><td>(0.143)</td></tr><tr><td style=\"text-align:left\">Intercept</td><td>-33.603<sup></sup></td><td>-24.851<sup></sup></td><td>-21.080<sup></sup></td><td>-42.694<sup></sup></td><td>-22.673<sup></sup></td></tr><tr><td style=\"text-align:left\"></td><td>(271809.772)</td><td>(3380.027)</td><td>(482.616)</td><td>(4493317.926)</td><td>(1083.590)</td></tr><tr><td style=\"text-align:left\">click[T.True]</td><td>33.641<sup></sup></td><td>24.864<sup></sup></td><td>20.954<sup></sup></td><td>42.556<sup></sup></td><td>22.594<sup></sup></td></tr><tr><td style=\"text-align:left\"></td><td>(271809.772)</td><td>(3380.027)</td><td>(482.616)</td><td>(4493317.926)</td><td>(1083.590)</td></tr><tr><td style=\"text-align:left\">rank</td><td>0.057<sup></sup></td><td></td><td></td><td></td><td></td></tr><tr><td style=\"text-align:left\"></td><td>(0.056)</td><td></td><td></td><td></td><td></td></tr><td colspan=\"6\" style=\"border-bottom: 1px solid black\"></td></tr><tr><td style=\"text-align: left\">Observations</td><td>10,000</td><td>10,000</td><td>10,000</td><td>10,000</td><td>10,000</td></tr><tr><td style=\"text-align: left\">R<sup>2</sup></td><td></td><td></td><td></td><td></td><td></td></tr><tr><td style=\"text-align: left\">Adjusted R<sup>2</sup></td><td></td><td></td><td></td><td></td><td></td></tr><tr><td style=\"text-align: left\">Residual Std. Error</td><td>1.000 (df=9991)</td><td>1.000 (df=9991)</td><td>1.000 (df=9991)</td><td>1.000 (df=9991)</td><td>1.000 (df=9991)</td></tr><tr><td style=\"text-align: left\">F Statistic</td><td><sup></sup> (df=8; 9991)</td><td><sup></sup> (df=8; 9991)</td><td><sup></sup> (df=8; 9991)</td><td><sup></sup> (df=8; 9991)</td><td><sup></sup> (df=8; 9991)</td></tr><tr><td colspan=\"6\" style=\"border-bottom: 1px solid black\"></td></tr><tr><td style=\"text-align: left\">Note:</td>\n <td colspan=\"5\" style=\"text-align: right\">\n  <sup>*</sup>p&lt;0.1;\n  <sup>**</sup>p&lt;0.05;\n  <sup>***</sup>p&lt;0.01\n </td></tr></table>"
     },
     "metadata": {},
     "execution_count": 87
    }
   ]
  },
  {
   "cell_type": "code",
   "execution_count": 88,
   "metadata": {},
   "outputs": [
    {
     "output_type": "stream",
     "name": "stdout",
     "text": [
      "Optimization terminated successfully.\n         Current function value: 0.666656\n         Iterations 5\nOptimization terminated successfully.\n         Current function value: 0.666565\n         Iterations 5\nOptimization terminated successfully.\n         Current function value: 0.668736\n         Iterations 5\nOptimization terminated successfully.\n         Current function value: 0.667711\n         Iterations 5\nOptimization terminated successfully.\n         Current function value: 0.665600\n         Iterations 5\n"
     ]
    },
    {
     "output_type": "execute_result",
     "data": {
      "text/plain": [
       "<stargazer.stargazer.Stargazer at 0x1c559041408>"
      ],
      "text/html": "<table style=\"text-align:center\"><tr><td colspan=\"6\" style=\"border-bottom: 1px solid black\"></td></tr><tr><td style=\"text-align:left\"></td><td colspan=\"5\"><em>Dependent variable:policies_sold</em></td></tr><tr><td style=\"text-align:left\"></td><tr><td style=\"text-align:left\"></td><td>(1)</td><td>(2)</td><td>(3)</td><td>(4)</td><td>(5)</td></tr><tr><td colspan=\"6\" style=\"border-bottom: 1px solid black\"></td></tr><tr><td style=\"text-align:left\">C(Q(\"Currently Insured\"))[N]:rank</td><td></td><td></td><td></td><td></td><td>0.104<sup>**</sup></td></tr><tr><td style=\"text-align:left\"></td><td></td><td></td><td></td><td></td><td>(0.053)</td></tr><tr><td style=\"text-align:left\">C(Q(\"Currently Insured\"))[T.Y]</td><td>-0.606<sup>***</sup></td><td>-0.608<sup>***</sup></td><td>-0.592<sup>***</sup></td><td>-0.592<sup>***</sup></td><td></td></tr><tr><td style=\"text-align:left\"></td><td>(0.149)</td><td>(0.149)</td><td>(0.149)</td><td>(0.148)</td><td></td></tr><tr><td style=\"text-align:left\">C(Q(\"Currently Insured\"))[T.unknown]</td><td>0.052<sup></sup></td><td>0.051<sup></sup></td><td>-0.016<sup></sup></td><td>0.086<sup></sup></td><td></td></tr><tr><td style=\"text-align:left\"></td><td>(0.141)</td><td>(0.141)</td><td>(0.139)</td><td>(0.140)</td><td></td></tr><tr><td style=\"text-align:left\">C(Q(\"Currently Insured\"))[Y]:rank</td><td></td><td></td><td></td><td></td><td>-0.126<sup>**</sup></td></tr><tr><td style=\"text-align:left\"></td><td></td><td></td><td></td><td></td><td>(0.054)</td></tr><tr><td style=\"text-align:left\">C(Q(\"Currently Insured\"))[unknown]:rank</td><td></td><td></td><td></td><td></td><td>0.157<sup>**</sup></td></tr><tr><td style=\"text-align:left\"></td><td></td><td></td><td></td><td></td><td>(0.076)</td></tr><tr><td style=\"text-align:left\">C(Q(\"Marital Status\"))[M]:rank</td><td></td><td>0.075<sup></sup></td><td></td><td></td><td></td></tr><tr><td style=\"text-align:left\"></td><td></td><td>(0.059)</td><td></td><td></td><td></td></tr><tr><td style=\"text-align:left\">C(Q(\"Marital Status\"))[S]:rank</td><td></td><td>0.040<sup></sup></td><td></td><td></td><td></td></tr><tr><td style=\"text-align:left\"></td><td></td><td>(0.060)</td><td></td><td></td><td></td></tr><tr><td style=\"text-align:left\">C(Q(\"Marital Status\"))[T.S]</td><td>-0.056<sup></sup></td><td></td><td>-0.037<sup></sup></td><td>-0.046<sup></sup></td><td>-0.066<sup></sup></td></tr><tr><td style=\"text-align:left\"></td><td>(0.096)</td><td></td><td>(0.095)</td><td>(0.096)</td><td>(0.096)</td></tr><tr><td style=\"text-align:left\">C(Q(\"Number of Drivers\"))[1]:rank</td><td></td><td></td><td></td><td>0.101<sup>*</sup></td><td></td></tr><tr><td style=\"text-align:left\"></td><td></td><td></td><td></td><td>(0.058)</td><td></td></tr><tr><td style=\"text-align:left\">C(Q(\"Number of Drivers\"))[2]:rank</td><td></td><td></td><td></td><td>0.027<sup></sup></td><td></td></tr><tr><td style=\"text-align:left\"></td><td></td><td></td><td></td><td>(0.062)</td><td></td></tr><tr><td style=\"text-align:left\">C(Q(\"Number of Drivers\"))[T.2]</td><td>-0.257<sup>***</sup></td><td>-0.259<sup>***</sup></td><td>-0.246<sup>**</sup></td><td></td><td>-0.264<sup>***</sup></td></tr><tr><td style=\"text-align:left\"></td><td>(0.098)</td><td>(0.098)</td><td>(0.097)</td><td></td><td>(0.097)</td></tr><tr><td style=\"text-align:left\">C(Q(\"Number of Vehicles\"))[1]:rank</td><td></td><td></td><td>0.125<sup>*</sup></td><td></td><td></td></tr><tr><td style=\"text-align:left\"></td><td></td><td></td><td>(0.068)</td><td></td><td></td></tr><tr><td style=\"text-align:left\">C(Q(\"Number of Vehicles\"))[2]:rank</td><td></td><td></td><td>-0.027<sup></sup></td><td></td><td></td></tr><tr><td style=\"text-align:left\"></td><td></td><td></td><td>(0.062)</td><td></td><td></td></tr><tr><td style=\"text-align:left\">C(Q(\"Number of Vehicles\"))[3]:rank</td><td></td><td></td><td>-0.055<sup></sup></td><td></td><td></td></tr><tr><td style=\"text-align:left\"></td><td></td><td></td><td>(0.056)</td><td></td><td></td></tr><tr><td style=\"text-align:left\">C(Q(\"Number of Vehicles\"))[T.2]</td><td>-0.430<sup>***</sup></td><td>-0.430<sup>***</sup></td><td></td><td>-0.430<sup>***</sup></td><td>-0.379<sup>***</sup></td></tr><tr><td style=\"text-align:left\"></td><td>(0.114)</td><td>(0.114)</td><td></td><td>(0.114)</td><td>(0.111)</td></tr><tr><td style=\"text-align:left\">C(Q(\"Number of Vehicles\"))[T.3]</td><td>-0.545<sup>***</sup></td><td>-0.545<sup>***</sup></td><td></td><td>-0.533<sup>***</sup></td><td>-0.537<sup>***</sup></td></tr><tr><td style=\"text-align:left\"></td><td>(0.144)</td><td>(0.143)</td><td></td><td>(0.144)</td><td>(0.143)</td></tr><tr><td style=\"text-align:left\">Intercept</td><td>0.038<sup></sup></td><td>0.013<sup></sup></td><td>-0.126<sup></sup></td><td>-0.137<sup></sup></td><td>-0.079<sup></sup></td></tr><tr><td style=\"text-align:left\"></td><td>(0.201)</td><td>(0.191)</td><td>(0.206)</td><td>(0.183)</td><td>(0.143)</td></tr><tr><td style=\"text-align:left\">rank</td><td>0.057<sup></sup></td><td></td><td></td><td></td><td></td></tr><tr><td style=\"text-align:left\"></td><td>(0.056)</td><td></td><td></td><td></td><td></td></tr><td colspan=\"6\" style=\"border-bottom: 1px solid black\"></td></tr><tr><td style=\"text-align: left\">Observations</td><td>1,878</td><td>1,878</td><td>1,878</td><td>1,878</td><td>1,878</td></tr><tr><td style=\"text-align: left\">R<sup>2</sup></td><td></td><td></td><td></td><td></td><td></td></tr><tr><td style=\"text-align: left\">Adjusted R<sup>2</sup></td><td></td><td></td><td></td><td></td><td></td></tr><tr><td style=\"text-align: left\">Residual Std. Error</td><td>1.000 (df=1870)</td><td>1.000 (df=1870)</td><td>1.000 (df=1870)</td><td>1.000 (df=1870)</td><td>1.000 (df=1870)</td></tr><tr><td style=\"text-align: left\">F Statistic</td><td><sup></sup> (df=7; 1870)</td><td><sup></sup> (df=7; 1870)</td><td><sup></sup> (df=7; 1870)</td><td><sup></sup> (df=7; 1870)</td><td><sup></sup> (df=7; 1870)</td></tr><tr><td colspan=\"6\" style=\"border-bottom: 1px solid black\"></td></tr><tr><td style=\"text-align: left\">Note:</td>\n <td colspan=\"5\" style=\"text-align: right\">\n  <sup>*</sup>p&lt;0.1;\n  <sup>**</sup>p&lt;0.05;\n  <sup>***</sup>p&lt;0.01\n </td></tr></table>"
     },
     "metadata": {},
     "execution_count": 88
    }
   ],
   "source": [
    "# statsmodels formula version allows writing the model in terms of equation\n",
    "# \n",
    "df_clicks=df[df[\"click\"]==True] \n",
    "# Model 1: No frills model with all the explanatory variables\n",
    "policies_model_1=smf.logit(formula='policies_sold~ C(Q(\"Marital Status\"))+ C(Q(\"Number of Vehicles\"))+C(Q(\"Number of Drivers\"))+C(Q(\"Currently Insured\"))+rank', data=df_clicks)\n",
    "\n",
    "\n",
    "# Model 2: Interacting marital status with rank\n",
    "policies_model_2=smf.logit(formula='policies_sold~ C(Q(\"Marital Status\")):rank+ C(Q(\"Number of Vehicles\"))+C(Q(\"Number of Drivers\"))+C(Q(\"Currently Insured\"))', data=df_clicks)\n",
    "\n",
    "# Model 3: Interacting number of vehicles with rank\n",
    "policies_model_3=smf.logit(formula='policies_sold~ C(Q(\"Marital Status\"))+ C(Q(\"Number of Vehicles\")):rank+C(Q(\"Number of Drivers\"))+C(Q(\"Currently Insured\"))', data=df_clicks)\n",
    "\n",
    "# Model 4: Interacting number of drivers with rank\n",
    "policies_model_4=smf.logit(formula='policies_sold~ C(Q(\"Marital Status\"))+ C(Q(\"Number of Vehicles\"))+C(Q(\"Number of Drivers\")):rank+C(Q(\"Currently Insured\"))', data=df_clicks)\n",
    "\n",
    "# Model 5: Interacting currently insured with rank\n",
    "policies_model_5=smf.logit(formula='policies_sold~ C(Q(\"Marital Status\"))+ C(Q(\"Number of Vehicles\"))+C(Q(\"Number of Drivers\"))+C(Q(\"Currently Insured\")):rank', data=df_clicks)\n",
    "\n",
    "Stargazer([policies_model_1.fit(), policies_model_2.fit(), policies_model_3.fit(), policies_model_4.fit(), policies_model_5.fit()])\n"
   ]
  },
  {
   "source": [
    "## Logit models with clicks as dependent variable"
   ],
   "cell_type": "markdown",
   "metadata": {}
  },
  {
   "source": [
    "# statsmodels formula version allows writing the model in terms of equation \n",
    "# Model 1: No frills model with all the explanatory variables\n",
    "pd.get_dummies(df['click'])\n",
    "df['click_true'] = pd.get_dummies(df['click'])[True]\n",
    "\n",
    "click_model_1=smf.logit(formula='click_true~ C(Q(\"Marital Status\"))+ C(Q(\"Number of Vehicles\"))+C(Q(\"Number of Drivers\"))+C(Q(\"Currently Insured\"))+rank', data=df)\n",
    "\n",
    "\n",
    "# Model 2: Interacting marital status with rank\n",
    "click_model_2=smf.logit(formula='click_true~ C(Q(\"Marital Status\")):rank+ C(Q(\"Number of Vehicles\"))+C(Q(\"Number of Drivers\"))+C(Q(\"Currently Insured\"))', data=df)\n",
    "\n",
    "# Model 3: Interacting number of vehicles with rank\n",
    "click_model_3=smf.logit(formula='click_true~ C(Q(\"Marital Status\"))+ C(Q(\"Number of Vehicles\")):rank+C(Q(\"Number of Drivers\"))+C(Q(\"Currently Insured\"))', data=df)\n",
    "\n",
    "# Model 4: Interacting number of drivers with rank\n",
    "click_model_4=smf.logit(formula='click_true~ C(Q(\"Marital Status\"))+ C(Q(\"Number of Vehicles\"))+C(Q(\"Number of Drivers\")):rank+C(Q(\"Currently Insured\"))', data=df)\n",
    "\n",
    "# Model 5: Interacting currently insured with rank\n",
    "click_model_5=smf.logit(formula='click_true~ C(Q(\"Marital Status\"))+ C(Q(\"Number of Vehicles\"))+C(Q(\"Number of Drivers\"))+C(Q(\"Currently Insured\")):rank', data=df)\n",
    "\n",
    "Stargazer([click_model_1.fit(), click_model_2.fit(), click_model_3.fit(), click_model_4.fit(), click_model_5.fit()])\n"
   ],
   "cell_type": "code",
   "metadata": {},
   "execution_count": 90,
   "outputs": [
    {
     "output_type": "stream",
     "name": "stdout",
     "text": [
      "Optimization terminated successfully.\n         Current function value: 0.389531\n         Iterations 7\nOptimization terminated successfully.\n         Current function value: 0.389734\n         Iterations 7\nOptimization terminated successfully.\n         Current function value: 0.389574\n         Iterations 7\nOptimization terminated successfully.\n         Current function value: 0.389528\n         Iterations 7\nOptimization terminated successfully.\n         Current function value: 0.389537\n         Iterations 7\n"
     ]
    },
    {
     "output_type": "execute_result",
     "data": {
      "text/plain": [
       "<stargazer.stargazer.Stargazer at 0x1c55925c408>"
      ],
      "text/html": "<table style=\"text-align:center\"><tr><td colspan=\"6\" style=\"border-bottom: 1px solid black\"></td></tr><tr><td style=\"text-align:left\"></td><td colspan=\"5\"><em>Dependent variable:click_true</em></td></tr><tr><td style=\"text-align:left\"></td><tr><td style=\"text-align:left\"></td><td>(1)</td><td>(2)</td><td>(3)</td><td>(4)</td><td>(5)</td></tr><tr><td colspan=\"6\" style=\"border-bottom: 1px solid black\"></td></tr><tr><td style=\"text-align:left\">C(Q(\"Currently Insured\"))[N]:rank</td><td></td><td></td><td></td><td></td><td>-0.922<sup>***</sup></td></tr><tr><td style=\"text-align:left\"></td><td></td><td></td><td></td><td></td><td>(0.030)</td></tr><tr><td style=\"text-align:left\">C(Q(\"Currently Insured\"))[T.Y]</td><td>0.111<sup></sup></td><td>0.113<sup></sup></td><td>0.117<sup></sup></td><td>0.112<sup></sup></td><td></td></tr><tr><td style=\"text-align:left\"></td><td>(0.082)</td><td>(0.081)</td><td>(0.081)</td><td>(0.081)</td><td></td></tr><tr><td style=\"text-align:left\">C(Q(\"Currently Insured\"))[T.unknown]</td><td>0.067<sup></sup></td><td>0.062<sup></sup></td><td>0.053<sup></sup></td><td>0.069<sup></sup></td><td></td></tr><tr><td style=\"text-align:left\"></td><td>(0.083)</td><td>(0.083)</td><td>(0.082)</td><td>(0.083)</td><td></td></tr><tr><td style=\"text-align:left\">C(Q(\"Currently Insured\"))[Y]:rank</td><td></td><td></td><td></td><td></td><td>-0.888<sup>***</sup></td></tr><tr><td style=\"text-align:left\"></td><td></td><td></td><td></td><td></td><td>(0.029)</td></tr><tr><td style=\"text-align:left\">C(Q(\"Currently Insured\"))[unknown]:rank</td><td></td><td></td><td></td><td></td><td>-0.896<sup>***</sup></td></tr><tr><td style=\"text-align:left\"></td><td></td><td></td><td></td><td></td><td>(0.045)</td></tr><tr><td style=\"text-align:left\">C(Q(\"Marital Status\"))[M]:rank</td><td></td><td>-0.924<sup>***</sup></td><td></td><td></td><td></td></tr><tr><td style=\"text-align:left\"></td><td></td><td>(0.034)</td><td></td><td></td><td></td></tr><tr><td style=\"text-align:left\">C(Q(\"Marital Status\"))[S]:rank</td><td></td><td>-0.884<sup>***</sup></td><td></td><td></td><td></td></tr><tr><td style=\"text-align:left\"></td><td></td><td>(0.035)</td><td></td><td></td><td></td></tr><tr><td style=\"text-align:left\">C(Q(\"Marital Status\"))[T.S]</td><td>0.155<sup>***</sup></td><td></td><td>0.155<sup>***</sup></td><td>0.156<sup>***</sup></td><td>0.156<sup>***</sup></td></tr><tr><td style=\"text-align:left\"></td><td>(0.057)</td><td></td><td>(0.057)</td><td>(0.057)</td><td>(0.057)</td></tr><tr><td style=\"text-align:left\">C(Q(\"Number of Drivers\"))[1]:rank</td><td></td><td></td><td></td><td>-0.896<sup>***</sup></td><td></td></tr><tr><td style=\"text-align:left\"></td><td></td><td></td><td></td><td>(0.033)</td><td></td></tr><tr><td style=\"text-align:left\">C(Q(\"Number of Drivers\"))[2]:rank</td><td></td><td></td><td></td><td>-0.910<sup>***</sup></td><td></td></tr><tr><td style=\"text-align:left\"></td><td></td><td></td><td></td><td>(0.036)</td><td></td></tr><tr><td style=\"text-align:left\">C(Q(\"Number of Drivers\"))[T.2]</td><td>-0.035<sup></sup></td><td>-0.041<sup></sup></td><td>-0.035<sup></sup></td><td></td><td>-0.037<sup></sup></td></tr><tr><td style=\"text-align:left\"></td><td>(0.058)</td><td>(0.058)</td><td>(0.058)</td><td></td><td>(0.058)</td></tr><tr><td style=\"text-align:left\">C(Q(\"Number of Vehicles\"))[1]:rank</td><td></td><td></td><td>-0.873<sup>***</sup></td><td></td><td></td></tr><tr><td style=\"text-align:left\"></td><td></td><td></td><td>(0.040)</td><td></td><td></td></tr><tr><td style=\"text-align:left\">C(Q(\"Number of Vehicles\"))[2]:rank</td><td></td><td></td><td>-0.952<sup>***</sup></td><td></td><td></td></tr><tr><td style=\"text-align:left\"></td><td></td><td></td><td>(0.035)</td><td></td><td></td></tr><tr><td style=\"text-align:left\">C(Q(\"Number of Vehicles\"))[3]:rank</td><td></td><td></td><td>-0.893<sup>***</sup></td><td></td><td></td></tr><tr><td style=\"text-align:left\"></td><td></td><td></td><td>(0.031)</td><td></td><td></td></tr><tr><td style=\"text-align:left\">C(Q(\"Number of Vehicles\"))[T.2]</td><td>-0.203<sup>***</sup></td><td>-0.204<sup>***</sup></td><td></td><td>-0.202<sup>***</sup></td><td>-0.206<sup>***</sup></td></tr><tr><td style=\"text-align:left\"></td><td>(0.069)</td><td>(0.069)</td><td></td><td>(0.069)</td><td>(0.067)</td></tr><tr><td style=\"text-align:left\">C(Q(\"Number of Vehicles\"))[T.3]</td><td>-0.035<sup></sup></td><td>-0.044<sup></sup></td><td></td><td>-0.034<sup></sup></td><td>-0.038<sup></sup></td></tr><tr><td style=\"text-align:left\"></td><td>(0.082)</td><td>(0.082)</td><td></td><td>(0.082)</td><td>(0.081)</td></tr><tr><td style=\"text-align:left\">Intercept</td><td>0.920<sup>***</sup></td><td>1.007<sup>***</sup></td><td>0.854<sup>***</sup></td><td>0.900<sup>***</sup></td><td>0.980<sup>***</sup></td></tr><tr><td style=\"text-align:left\"></td><td>(0.119)</td><td>(0.114)</td><td>(0.124)</td><td>(0.110)</td><td>(0.089)</td></tr><tr><td style=\"text-align:left\">rank</td><td>-0.903<sup>***</sup></td><td></td><td></td><td></td><td></td></tr><tr><td style=\"text-align:left\"></td><td>(0.033)</td><td></td><td></td><td></td><td></td></tr><td colspan=\"6\" style=\"border-bottom: 1px solid black\"></td></tr><tr><td style=\"text-align: left\">Observations</td><td>10,000</td><td>10,000</td><td>10,000</td><td>10,000</td><td>10,000</td></tr><tr><td style=\"text-align: left\">R<sup>2</sup></td><td></td><td></td><td></td><td></td><td></td></tr><tr><td style=\"text-align: left\">Adjusted R<sup>2</sup></td><td></td><td></td><td></td><td></td><td></td></tr><tr><td style=\"text-align: left\">Residual Std. Error</td><td>1.000 (df=9992)</td><td>1.000 (df=9992)</td><td>1.000 (df=9992)</td><td>1.000 (df=9992)</td><td>1.000 (df=9992)</td></tr><tr><td style=\"text-align: left\">F Statistic</td><td><sup></sup> (df=7; 9992)</td><td><sup></sup> (df=7; 9992)</td><td><sup></sup> (df=7; 9992)</td><td><sup></sup> (df=7; 9992)</td><td><sup></sup> (df=7; 9992)</td></tr><tr><td colspan=\"6\" style=\"border-bottom: 1px solid black\"></td></tr><tr><td style=\"text-align: left\">Note:</td>\n <td colspan=\"5\" style=\"text-align: right\">\n  <sup>*</sup>p&lt;0.1;\n  <sup>**</sup>p&lt;0.05;\n  <sup>***</sup>p&lt;0.01\n </td></tr></table>"
     },
     "metadata": {},
     "execution_count": 90
    }
   ]
  },
  {
   "cell_type": "code",
   "execution_count": null,
   "metadata": {},
   "outputs": [],
   "source": []
  }
 ]
}